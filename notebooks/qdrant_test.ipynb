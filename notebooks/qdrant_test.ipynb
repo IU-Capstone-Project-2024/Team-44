{
 "cells": [
  {
   "cell_type": "code",
   "execution_count": 14,
   "metadata": {},
   "outputs": [],
   "source": [
    "text_giant = \"\"\"\n",
    "World\n",
    "Roshar is the native name for the planet on which The Stormlight Archive is set. It is also the name of the supercontinent on which the main events of the series take place. The planet was settled by the two Shards Honor and Cultivation, while their rival Odium exercises his influence on the planet. [46] People from Roshar are called Rosharans.[47] Roshar is the second planet from its sun and has three moons, each of which waxes and wanes separately from the others.[48] The world is regularly assaulted by Highstorms, storms characterized by a very violent storm front traveling from east to west (beginning at the Origin), followed by weaker rains. The lands in Shinovar, farthest west on the main continent of Roshar, are mostly protected from the Highstorms by the high peaks of the Misted Mountains. Most plants that grow in Shinovar, which resemble real-world plant life, cannot grow in other parts of Roshar. Highstorms come frequently and, though they do not appear to follow a simple pattern, storm wardens are able to accurately predict their schedule through complex mathematics. Flora and fauna have evolved to cope with this condition.[49]\n",
    "\n",
    "Nations and regions:\n",
    "During the Heraldic Epochs, Roshar was ruled by a coalition of ten nations known as the Silver Kingdoms. In the Era of Solitude, following the departure of the Heralds and the demise of the Orders of Knights Radiant, those kingdoms split into smaller ones, some of the more important being:\n",
    "Alethkar\n",
    "Jah Keved\n",
    "Herdaz\n",
    "Thaylenah\n",
    "Kharbranth and Natani cities in the Frostlands\n",
    "Numerous Makabaki countries, with Azir being most prominent\n",
    "Shinovar\n",
    "Rira and Iri\n",
    "\n",
    "Races:\n",
    "The Stormlight Archive features several different races, the majority of which are different ethnicities of human or partly human. Some of these races include:\n",
    "Thaylens: Renowned traders and merchants native to an island nation. They possess long eyebrows that can be styled to either droop or curve behind their ears.\n",
    "Alethi: Native to the nation of Alethkar, the Alethi are members of one of the four Vorin nations. They have a famed military heritage and are possessed of tan skin and dark hair.\n",
    "Veden: Native to the Vorin nation of Jah Keved, the Vedens are characterized by pale skin and black hair. Some have red hair, indicating Unkalaki ancestry.\n",
    "Natan: Native to the Vorin nation inhabiting New Natanan, the Natan often wear gloves and have faintly bluish skin.\n",
    "Unkalaki (Horneaters): A relatively rare race, the Horneaters are called thus by other races because the Unkalaki consider animal horns, shells, and claws to be a delicacy. They possess reddish hair and dark skin, and stand well over seven feet (2.1 m) tall. The Unkalaki homeland is in the mountains of Jah Keved. Their culture is very different from the other Vorin cultures.\n",
    "Parshendi (Singers/Listeners): A proud nonhuman race, living on Shattered Plains with a strong warrior culture. The Parshendi are viewed by many other races as savages because of their culture and past deeds. They have marbled red and white or red and black skin that forms patterns unique to each individual and an exoskeleton that acts as natural armor. They are at war with the Alethi during the novels' main timeline. They use spren to morph into many different forms, each with a unique function and set of abilities. These forms also change the appearance of the Parshendi who use them, for example taking warform makes them more physically able and grants them the mindset of a soldier. The workform allows them to be sturdier to perform physical labor. They also communicate through songs and rhythms in their heads. At the start of the series, many members of this species are found in a mentally limited form known as Parshmen, who are enslaved by various human groups.\n",
    "Shin: A race native to the region of Shinovar, Shin have white skin and lack epicanthic folds (unlike the other races). They stand shorter than most others, averaging five feet tall. They also have bigger and rounder eyes.\n",
    "Makabaki: Native to the nation of Azir and neighboring countries, Makabaki have dark skin and hair.\n",
    "Dysian Aimians: otherwise known as the Sleepless. A non-human race native to Aimia, but of otherworldly origin. They are made of many small creatures with exoskeletons called hordelings. There are 24 known Sleepless on Roshar.\n",
    "Siah Aimians: a non-human race also native to Aimia. They are characterized as having white-blue skin and shadows that point the wrong way. They can also change their bodies slightly, for example adding a tattoo mentally, or removing their sense of smell.\n",
    "\n",
    "Class structure:\n",
    "Much of The Way of Kings takes place within the nations of Alethkar and Jah Keved. Both of these nations divide their people into classes, primarily based on the color of their eyes. Those with dark eye colors (brown, dark green, charcoal grey) are mostly peasants (and can even be made slaves). Those with light eye colors (blue, yellow, tan, green, violet, orange, etc.) are the nobles and generally more educated ruling class. Within these classes, there are further class distinctions known as nahn (for darkeyes) and dahn (for lighteyes). Both have ten levels within. For the nahn, they range from slaves in the 10th nahn to full citizens with the right to travel in the second and first nahn. In the dahn system, lighteyes in the 10th dahn are considered only slightly better than darkeyes, and a very rich darkeyed man or woman may marry into an extremely poor lighteyed family, in very rare cases. The first dahn is composed of the king alone. It has been known for dark eyed individuals to obtain light eyes through obtaining Shardblades, a supernatural weapon in this world; however, this is exceptionally rare.\n",
    "\n",
    "Spren:\n",
    "Spren are spirits in the land of Roshar which are drawn to different conditions or emotions. There are thousands of varieties. One character, Hesina, the mother of Kaladin states, \"Spren appear when something changes - when fear appears, or when it begins to rain. They are the heart of change, and therefore the heart of all things.\"[50] Their intelligence varies, with Cryptics (also known as liespren though they themselves dislike the term) and honorspren among the most intelligent, and more common spren, seen as forces of nature/emotion having little to no intelligence. Jasnah Kholin also mentions that the 10 orders of the Knights Radiant drew their power from spren. Some notable spren are Syl, an Honorspren who shares a bond with Kaladin, giving him surgebinding powers of Windrunner; Pattern, a Cryptic who created a bond with Shallan, allowing her to surgebind; and the cultivationspren Wyndle, who bonded with the thief Lift, allowing her to surgebind. Dalinar Kholin also bonds a spren, the Stormfather, though he does so in an unconventional manner. Jasnah bonded an inkspren named Ivory.\n",
    "Some spren, such as flamespren, share characteristics with current observations in quantum mechanics, and are based on them.[51] For example, when they are observed they remain stable in the recorded state, but when tested more thoroughly, they change as though at random.\n",
    "As revealed in the second book, Spren are \"concepts and ideas\" given physical form by the human collective subconscious. Among the many forms of spren, some are intelligent, possess self-awareness, and have even built their own cities. They reside naturally in Shadesmar, and often cross over into the physical realm. This comes at the cost of most of their self-awareness for the higher, more exalted spren, which they can regain by making bonds with humans. The sea and land are reversed in Shadesmar—what would be land on Roshar is a sea of black beads in Shadesmar, each representing a physical form on Roshar. Shadesmar also contains cities and a strange type of flora.\n",
    "\n",
    "Religion:\n",
    "Much of the world follows the Vorin religion. Vorinism tells of a struggle between forces of the Voidbringers and humanity. The Voidbringers forced humanity out of its afterlife, called the Tranquiline Halls. They believe that upon death the soul continues in its past role, but towards the regaining of the Tranquiline Halls. In Alethkar, a man's highest calling is as a warrior in life to remain a warrior in the afterlife. The religion also tells of the Lost Radiants, an order who once fought against the Voidbringers during the wars against them on Roshar (known as Desolations). Vorinism gave the Knights Radiant the moniker \"Lost Radiants\" after they apparently betrayed humanity at some point in the distant past. Vorinism is arranged in devotaries, whose ardents aim to assist people in advancing their Callings, which are tasks to which one dedicates their life as a method of worship. Each person selects a devotary based on variances in beliefs, talents or personality traits, and may change their selection at any point in their life. Some examples are the Devotary of Sincerity, who are encouraged to learn and ask questions, and the Devotary of Denial. Adolin Kholin's calling, for example, is Dueling. The priesthood of the Vorin religion are referred to as ardents.\n",
    "Those who reject the existence of the Almighty, such as Jasnah Kholin, are referred to as heretics. Followers of other religions mentioned in The Way of Kings are Stone Shamans, Ysperists and Maakians.\n",
    "\n",
    "Shardblades and Shardplate:\n",
    "Shardblades are powerful swords that have the ability to cut through any non-living matter with ease. When used on living creatures, they can kill or maim with a single cut by the blade passing through the living soul. They can also render limbs useless when they cut through them. The only known defenses against a Shardblade are Shardplate, shields called \"half-shards\", another Shardblade, or an aluminum blade (according to \"Rhythm of War\"). Those who own a Shardblade can summon their blade from thin air in ten heartbeats and can make their blade disappear at will.[52] The blades are rare and highly valued, and there are estimated to be fewer than one hundred known blades in the world.[53]\n",
    "Shardplate is full plate armor that both protects and strengthens the wearer. The armor provides protection against Surgebinding, as one wearing the armor cannot be \"lashed\" directly.[54] Repeated strikes at the same spot on the armor by regular weapons or Shardblades can cause the armor to crack and break. The armor can be repaired or \"regrown\", though it takes a long time.[55]\n",
    "A full shardbearer, one wielding both Shardblade and Shardplate, is a force capable of turning the tide of battle on its own. Kaladin and Syl express a revulsion to the Shardblades wielded by the Alethi. During Dalinar's visions, he sees the Knights Radiant wearing Shardplate and wielding Shardblades, but he notes that the plate when worn by the Radiants glows. Additionally, the number of Blades and Plate worn by the Radiants is much greater than the number left in the world at the main timeline of The Way of Kings. Most Shardblades are actually dead spren that come alive for a period of time by attuning themselves to their owner's heartbeat.[56]\n",
    "Shardblades wielded by the Knights Radiant are the Knight's spren taking the physical form of a weapon (often a sword, but can take the form of any weapon or a shield). Hence, these Shardblades are a physical manifestation of a living spren. 'Living' Shardblades can be summoned instantly, and do not require the summoning period of ten heartbeats. There are also ten Honorblades that grant the powers of one order of Radiants. These weapons don't appear to be physical manifestations of spren, dead or alive, and were wielded by The Heralds until nine of them were abandoned at the end of Aharietiam, or the last desolation. Szeth, the assassin in white, uses an Honorblade of Jezrien in the first two books, and the Herald, Nalan, wields the Honorblade of the Skybreakers.\n",
    "\n",
    "Magic:\n",
    "Surgebinding\n",
    "Surgebinding refers to a group of ten magic systems that stem from Honor and Cultivation, two of the three Shards of Adonalsium present on Roshar. Each of Surgebinding's ten systems revolves around 'binding' two natural 'Surges,' for instance Gravity and Adhesion, to the Surgebinder's will. Surgebinding is powered by Stormlight, and the ability is granted to humans through bonding with a Spren, a type of elemental spirit native to Roshar. There are ten Surgebinding's branches, with Windrunning and powers of Lightweavers (Transformation - Soulcasting and Illumination - illusions), described most thoroughly.\n",
    "Windrunning is an ability where the wielder uses the power of Stormlight to affect gravity and adhesion. It is described in three methods known as the \"Three Lashings\". A Basic Lashing changes the direction of gravitational pull for an individual (causing the person to be pulled towards another object or direction instead of towards the center of the planet). A Full Lashing is described as creating an almost[57] unbreakable bond between two objects until the Stormlight dissipates. A Reverse Lashing causes an object to have a much stronger gravitational pull, causing other objects to be pulled towards it.[57]\n",
    "The Knights Radiant\n",
    "The Knights Radiant originated through spren copying the abilities which the Heralds obtained through their Honorblades. The Knights Radiant gained power through spren by creating a bond with them called the Nahel bond. The bond gives the spren sentience while giving the human Surgebinding abilities. Two examples are Sylphrena, an Honorspren, who shares a bond with Kaladin, giving him the power to Surgebind; and Pattern, a Liespren (Cryptic), who shares a bond with Shallan, granting her power to Soulcast and create Illusions.\n",
    "The Knights Radiant lived by their order's Five Ideals, called The Immortal Words, with the First Ideal being the same for every order: Life before death, strength before weakness, journey before destination. The other four Ideals are different for each order, with the exception of the Order of the Lightweavers, having only the First Ideal. Lightweavers instead must admit truths to themselves in order to progress. Towards the end of The Way of Kings, Kaladin utters the Second Ideal for the Order of Windrunners: I will protect those who cannot protect themselves. Near the end of Words of Radiance, Kaladin whispers the Third Ideal for the Order of Windrunners: I will protect even those I hate, so long as it is right. At the climax of “Rhythm of War,” he speaks the Fourth Ideal: I accept that there will be those I cannot protect.\n",
    "Orders of the Knights Radiant\n",
    "Windrunners: Manipulate the Surges of Adhesion and Gravitation. Bonded to Honorspren.\n",
    "Skybreakers: Manipulate the Surges of Gravitation and Division. Bonded to Highspren.\n",
    "Dustbringers: Manipulate the Surges of Division and Abrasion. Bonded to Ashspren.\n",
    "Edgedancers: Manipulate the Surges of Abrasion and Progression. Bonded to Cultivationspren.\n",
    "Truthwatchers: Manipulate the Surges of Progression and Illumination. Bonded to Mistspren.\n",
    "Lightweavers: Manipulate the Surges of Illumination and Transformation. Bonded to Liespren (Cryptic).\n",
    "Elsecallers: Manipulate the Surges of Transformation and Transportation. Bonded to Inkspren.\n",
    "Willshapers: Manipulate the Surges of Transportation and Cohesion. Bonded to Lightspren (Reachers).\n",
    "Stonewards: Manipulate the Surges of Cohesion and Tension. Bonded to Peakspren.\n",
    "Bondsmiths: Manipulate the Surges of Tension and Adhesion. Bonded to three unique spren (the Nightwatcher, the Stormfather, and the Sibling). Therefore, there can only be three Bondsmiths.[58]\n",
    "\n",
    "Soulcasting and Shadesmar:\n",
    "Soulcasting is a practice where objects are changed from one form to another. It has proven able to turn rock into smoke, purify blood of poisons, and create food, among many other applications. Soulcasting is done by means of a device called a soulcaster that is powered by gems imbued with Stormlight. The type of gem placed inside the soulcaster determines what the caster can transform. With each use of a soulcaster, there is a chance of the gem cracking and being destroyed, especially when a large amount of matter is changed.[59] The main practitioners of soulcasting are the Ardents of the Vorin religion, however, there are a few exceptions. Shallan's father's steward knew how to use a soulcaster,[60] as he used Shallan's father's soulcaster.\n",
    "By the end of The Way of Kings, Jasnah Kholin and Shallan are capable of doing magic that has very similar effects to Soulcasting but does not require a soulcaster to be used, and does not require that the magic user is in physical contact with the object they transform.[61] This book does not go into great detail, but the magic involves mentally communicating with an unknown source to enter a place called Shadesmar. Shadesmar is described in detail in the book but mostly consists of a world made from tiny glass beads. Once within Shadesmar, the power from a Stormlight-infused gem can be used to manipulate objects.[62]\n",
    "In an interview with Brandon Sanderson, Shadesmar is described as a Cognitive Realm connecting all the worlds in the Cosmere. Sanderson has confirmed that Hoid is very good at using Shadesmar, that this is how Hoid moves between worlds, and that people on other worlds within the Cosmere have ways of accessing Shadesmar which are different from those the characters in this book use.[63]\n",
    "\n",
    "Voidbinding:\n",
    "Similar to Surgebinding, Voidbinding has a collection of surges that the third god of Roshar, Odium, makes available to his selected servants, called Fused. Unlike Knights Radiant, each Fused can only access a single surge, from a list of nine: Gravitation, Division, Abrasion, Progression, Illumination, Transformation, Transportation, Cohesion, and Tension. Adhesion is considered to be exclusive to Honor by the Fused, who cannot access it.\n",
    "Voidbinding includes various other types of magic associated with Odium, such as some of the forms that Parshendi/Singers can take on that align them to Odium's ideals.\n",
    "\n",
    "Old Magic:\n",
    "Very little is known about the Old Magic, a set of powers exclusive to the goddess Cultivation. Its most common effects are those granted by her powerful spren, the Nightwatcher, who will grant boons and curses to supplicants who come to her for assistance; any boon granted is offset by a mandatory applied curse. Supplicants will often find that a boon is not granted as they expected it to, as the Nightwatcher does not always understand human desires and customs; poorly-worded requests can have unsatisfactory results. The curses applied can be anywhere from mild to fully debilitating.\n",
    "\"\"\""
   ]
  },
  {
   "cell_type": "code",
   "execution_count": 2,
   "metadata": {},
   "outputs": [],
   "source": [
    "# ! pip install transformers -U\n",
    "# ! pip install fastembed -U\n",
    "# ! pip install accelerate -U"
   ]
  },
  {
   "cell_type": "code",
   "execution_count": 3,
   "metadata": {},
   "outputs": [],
   "source": [
    "# ! pip freeze > requirements_qdrant_fastembed.txt"
   ]
  },
  {
   "cell_type": "code",
   "execution_count": 10,
   "metadata": {},
   "outputs": [],
   "source": [
    "from typing import Any, Dict, List\n",
    "\n",
    "import numpy as np\n",
    "import torch\n",
    "import torch.nn.functional as F\n",
    "from langchain_core.embeddings import Embeddings\n",
    "from pydantic import PrivateAttr\n",
    "from qdrant_client import QdrantClient, models\n",
    "from semantic_chunkers import StatisticalChunker\n",
    "from semantic_router.encoders import BaseEncoder\n",
    "from torch import Tensor\n",
    "from transformers import AutoModel, AutoTokenizer"
   ]
  },
  {
   "cell_type": "code",
   "execution_count": 11,
   "metadata": {},
   "outputs": [],
   "source": [
    "class Embedder(BaseEncoder, Embeddings):\n",
    "    name: str = \"custom-nomic-embedder\"\n",
    "    score_threshold: float = 0.8\n",
    "\n",
    "    embedding_size: int = 768\n",
    "    query_types: Dict = {\n",
    "        \"search_query\": \"Use this when you want to encode a query for question-answering over text that was embedded with search_document.\",\n",
    "        \"search_document\": \"The default embedding task type. Any document you want to use for retrieval or store in a vector database should use this task type.\",\n",
    "        \"classification\": \"Use this if your embeddings are for classification (e.g. training a linear probe for a target classification task)\",\n",
    "        \"clustering\": \"Use this if your embeddings need very high linear separability (e.g. building a topic model on your embeddings)\",\n",
    "    }\n",
    "\n",
    "    _tokenizer: Any = PrivateAttr()\n",
    "    _model: Any = PrivateAttr()\n",
    "\n",
    "    class Config:\n",
    "        arbitrary_types_allowed = True\n",
    "\n",
    "    def __init__(\n",
    "        self,\n",
    "        embedding_size: int = 768,\n",
    "        score_threshold=0.8,\n",
    "        name=\"custom-nomic-embedder\",\n",
    "        **data,\n",
    "    ) -> None:\n",
    "        super().__init__(name=name, score_threshold=score_threshold)\n",
    "\n",
    "        self.embedding_size = embedding_size\n",
    "        self.name = name\n",
    "        self.score_threshold = score_threshold\n",
    "\n",
    "        object.__setattr__(\n",
    "            self,\n",
    "            \"_tokenizer\",\n",
    "            AutoTokenizer.from_pretrained(\"bert-base-uncased\", model_max_length=8192),\n",
    "        )\n",
    "        object.__setattr__(\n",
    "            self,\n",
    "            \"_model\",\n",
    "            AutoModel.from_pretrained(\n",
    "                pretrained_model_name_or_path=\"nomic-ai/nomic-embed-text-v1.5\",\n",
    "                trust_remote_code=True,\n",
    "                safe_serialization=True,\n",
    "                rotary_scaling_factor=2,\n",
    "            ),\n",
    "        )\n",
    "        self._model.eval()\n",
    "\n",
    "    def __mean_pooling(self, model_output, attention_mask) -> Tensor:\n",
    "        token_embeddings = model_output[0]\n",
    "        input_mask_expanded = (\n",
    "            attention_mask.unsqueeze(-1).expand(token_embeddings.size()).float()\n",
    "        )\n",
    "        return torch.sum(token_embeddings * input_mask_expanded, 1) / torch.clamp(\n",
    "            input_mask_expanded.sum(1), min=1e-9\n",
    "        )\n",
    "\n",
    "    def embed(\n",
    "        self,\n",
    "        texts: List[str],\n",
    "        querry: str = \"search_document: \",\n",
    "        return_array=False,\n",
    "        return_ndarray=False,\n",
    "    ) -> Tensor:\n",
    "        \"\"\"Function for creating embeddings\"\"\"\n",
    "\n",
    "        if isinstance(texts, str):\n",
    "            texts = [texts]\n",
    "\n",
    "        texts = [querry + text for text in texts]\n",
    "\n",
    "        encoded_input = self._tokenizer(\n",
    "            texts, padding=True, truncation=True, return_tensors=\"pt\"\n",
    "        )\n",
    "\n",
    "        with torch.no_grad():\n",
    "            model_output = self._model(**encoded_input)\n",
    "\n",
    "        embeddings = self.__mean_pooling(model_output, encoded_input[\"attention_mask\"])\n",
    "        embeddings = F.layer_norm(embeddings, normalized_shape=(embeddings.shape[1],))\n",
    "        embeddings = embeddings[:, : self.embedding_size]\n",
    "        embeddings = F.normalize(embeddings, p=2, dim=1)\n",
    "\n",
    "        if return_ndarray:\n",
    "            return embeddings.numpy()\n",
    "\n",
    "        if return_array:\n",
    "            embedded_list = embeddings.tolist()\n",
    "            if len(embedded_list) == 1:\n",
    "                embedded_list = embedded_list[0]\n",
    "            return embedded_list\n",
    "\n",
    "        return embeddings\n",
    "\n",
    "    def _get_embedding(self, texts: str, querry: str) -> Tensor:\n",
    "        return self.embed(texts=texts, return_array=True)\n",
    "\n",
    "    def embed_documents(self, texts: List[str]) -> List[List[float]]:\n",
    "        \"\"\"Embed search docs. Implemented for LangChain vector store campatability\"\"\"\n",
    "        return self._get_embedding(texts=texts, querry=\"search_document:\")\n",
    "\n",
    "    def embed_query(self, text: str) -> List[float]:\n",
    "        \"\"\"Embed query text.Implemented for LangChain vector store campatability\"\"\"\n",
    "        return self._get_embedding(texts=text, querry=\"search_query:\")\n",
    "\n",
    "    def __call__(\n",
    "        self,\n",
    "        docs: List[str],\n",
    "        batch_size: int = 32,\n",
    "        **kwds: torch.Any,\n",
    "    ) -> List:\n",
    "        \"\"\"__call__ Used for semantic_chunkers\n",
    "\n",
    "        Args:\n",
    "            docs (List[str]): list of strings\n",
    "            batch_size (int, optional): Batch size for embedder. Defaults to 32.\n",
    "\n",
    "        Returns:\n",
    "            List: list of all embeddings\n",
    "        \"\"\"\n",
    "        all_embeddings = []\n",
    "        for i in range(0, len(docs), batch_size):\n",
    "            all_embeddings.extend(self.embed(docs[i : i + batch_size]))\n",
    "\n",
    "        return all_embeddings"
   ]
  },
  {
   "cell_type": "code",
   "execution_count": 12,
   "metadata": {},
   "outputs": [
    {
     "name": "stderr",
     "output_type": "stream",
     "text": [
      "<All keys matched successfully>\n"
     ]
    }
   ],
   "source": [
    "embedder = Embedder()\n",
    "text_splitter = StatisticalChunker(\n",
    "    encoder=embedder,\n",
    "    name=\"statistical_chunker\",\n",
    "    threshold_adjustment=0.01,\n",
    "    dynamic_threshold=True,\n",
    "    window_size=5,\n",
    "    min_split_tokens=100,\n",
    "    max_split_tokens=500,\n",
    "    split_tokens_tolerance=10,\n",
    "    plot_chunks=False,\n",
    "    enable_statistics=False,\n",
    ")"
   ]
  },
  {
   "cell_type": "code",
   "execution_count": 7,
   "metadata": {},
   "outputs": [],
   "source": [
    "#! docker run -p 6333:6333 -p 6334:6334 -v $(pwd)/qdrant_storage:/qdrant/storage:z qdrant/qdrant"
   ]
  },
  {
   "cell_type": "code",
   "execution_count": 8,
   "metadata": {},
   "outputs": [],
   "source": [
    "# import torch\n",
    "# from transformers import AutoModelForMaskedLM, AutoTokenizer\n",
    "\n",
    "# device = \"cuda:0\" if torch.cuda.is_available() else \"cpu\"\n",
    "# tokenizer = AutoTokenizer.from_pretrained('prithivida/Splade_PP_en_v1')\n",
    "# reverse_voc = {v: k for k, v in tokenizer.vocab.items()}\n",
    "# model = AutoModelForMaskedLM.from_pretrained('prithivida/Splade_PP_en_v1')\n",
    "# model.to(device)\n",
    "\n",
    "# sentence = \"\"\"The Manhattan Project and its atomic bomb helped bring an end to World War II. Its legacy of peaceful uses of atomic energy continues to have an impact on history and science.\"\"\"\n",
    "\n",
    "# inputs = tokenizer(sentence, return_tensors='pt')\n",
    "# inputs = {key: val.to(device) for key, val in inputs.items()}\n",
    "# input_ids = inputs['input_ids']\n",
    "\n",
    "# attention_mask = inputs['attention_mask']\n",
    "\n",
    "# outputs = model(**inputs)\n",
    "\n",
    "# logits, attention_mask = outputs.logits, attention_mask\n",
    "# relu_log = torch.log(1 + torch.relu(logits))\n",
    "# weighted_log = relu_log * attention_mask.unsqueeze(-1)\n",
    "# max_val, _ = torch.max(weighted_log, dim=1)\n",
    "# vector = max_val.squeeze()\n",
    "\n",
    "\n",
    "# cols = vector.nonzero().squeeze().cpu().tolist()\n",
    "# print(\"number of actual dimensions: \", len(cols))\n",
    "# weights = vector[cols].cpu().tolist()\n",
    "\n",
    "# d = {k: v for k, v in zip(cols, weights)}\n",
    "# sorted_d = {k: v for k, v in sorted(d.items(), key=lambda item: item[1], reverse=True)}\n",
    "# bow_rep = []\n",
    "# for k, v in sorted_d.items():\n",
    "#     bow_rep.append((reverse_voc[k], round(v,2)))\n",
    "\n",
    "# print(\"SPLADE BOW rep:\\n\", bow_rep)\n",
    "\n",
    "import torch\n",
    "from transformers import AutoModelForMaskedLM, AutoTokenizer\n",
    "\n",
    "\n",
    "def sparce_embed(\n",
    "    sentence=\"\"\"The Manhattan Project and its atomic bomb helped bring an end to World War II. Its legacy of peaceful uses of atomic energy continues to have an impact on history and science.\"\"\",\n",
    "    device=\"cuda:0\" if torch.cuda.is_available() else \"cpu\",\n",
    "):\n",
    "    tokenizer = AutoTokenizer.from_pretrained(\"prithivida/Splade_PP_en_v1\")\n",
    "    reverse_voc = {v: k for k, v in tokenizer.vocab.items()}\n",
    "    model = AutoModelForMaskedLM.from_pretrained(\"prithivida/Splade_PP_en_v1\")\n",
    "    model.to(device)\n",
    "\n",
    "    inputs = tokenizer(sentence, return_tensors=\"pt\")\n",
    "    inputs = {key: val.to(device) for key, val in inputs.items()}\n",
    "    input_ids = inputs[\"input_ids\"]\n",
    "\n",
    "    attention_mask = inputs[\"attention_mask\"]\n",
    "\n",
    "    outputs = model(**inputs)\n",
    "\n",
    "    logits, attention_mask = outputs.logits, attention_mask\n",
    "    relu_log = torch.log(1 + torch.relu(logits))\n",
    "    weighted_log = relu_log * attention_mask.unsqueeze(-1)\n",
    "    max_val, _ = torch.max(weighted_log, dim=1)\n",
    "    vector = max_val.squeeze()\n",
    "\n",
    "    cols = vector.nonzero().squeeze().cpu().tolist()\n",
    "    print(\"number of actual dimensions: \", len(cols))\n",
    "    weights = vector[cols].cpu().tolist()\n",
    "\n",
    "    d = {k: v for k, v in zip(cols, weights)}\n",
    "    sorted_d = {\n",
    "        k: v for k, v in sorted(d.items(), key=lambda item: item[1], reverse=True)\n",
    "    }\n",
    "    bow_rep = []\n",
    "    for k, v in sorted_d.items():\n",
    "        bow_rep.append((reverse_voc[k], round(v, 2)))\n",
    "\n",
    "    print(\"SPLADE BOW rep:\\n\", bow_rep)\n"
   ]
  },
  {
   "cell_type": "code",
   "execution_count": 9,
   "metadata": {},
   "outputs": [],
   "source": [
    "host = \"localhost\"\n",
    "port = 6333\n",
    "\n",
    "collection_name = \"test_collection\"\n",
    "dist = \"cosine\"\n",
    "\n",
    "dense_vector_dim = 768\n",
    "sparse_vector_dim = ..."
   ]
  },
  {
   "cell_type": "code",
   "execution_count": 10,
   "metadata": {},
   "outputs": [
    {
     "data": {
      "text/plain": [
       "[{'model': 'prithvida/Splade_PP_en_v1',\n",
       "  'vocab_size': 30522,\n",
       "  'description': 'Misspelled version of the model. Retained for backward compatibility. Independent Implementation of SPLADE++ Model for English',\n",
       "  'size_in_GB': 0.532,\n",
       "  'sources': {'hf': 'Qdrant/SPLADE_PP_en_v1'},\n",
       "  'model_file': 'model.onnx'},\n",
       " {'model': 'prithivida/Splade_PP_en_v1',\n",
       "  'vocab_size': 30522,\n",
       "  'description': 'Independent Implementation of SPLADE++ Model for English',\n",
       "  'size_in_GB': 0.532,\n",
       "  'sources': {'hf': 'Qdrant/SPLADE_PP_en_v1'},\n",
       "  'model_file': 'model.onnx'},\n",
       " {'model': 'Qdrant/bm42-all-minilm-l6-v2-attentions',\n",
       "  'vocab_size': 30522,\n",
       "  'description': 'Light sparse embedding model, which assigns an importance score to each token in the text',\n",
       "  'size_in_GB': 0.09,\n",
       "  'sources': {'hf': 'Qdrant/all_miniLM_L6_v2_with_attentions'},\n",
       "  'model_file': 'model.onnx',\n",
       "  'additional_files': ['stopwords.txt'],\n",
       "  'requires_idf': True},\n",
       " {'model': 'Qdrant/bm25',\n",
       "  'description': 'BM25 as sparse embeddings meant to be used with Qdrant',\n",
       "  'size_in_GB': 0.01,\n",
       "  'sources': {'hf': 'Qdrant/bm25'},\n",
       "  'model_file': 'mock.file',\n",
       "  'additional_files': ['stopwords.txt'],\n",
       "  'requires_idf': True}]"
      ]
     },
     "execution_count": 10,
     "metadata": {},
     "output_type": "execute_result"
    }
   ],
   "source": [
    "from fastembed import SparseTextEmbedding, TextEmbedding\n",
    "\n",
    "SparseTextEmbedding.list_supported_models()"
   ]
  },
  {
   "cell_type": "code",
   "execution_count": 15,
   "metadata": {},
   "outputs": [
    {
     "name": "stderr",
     "output_type": "stream",
     "text": [
      "\u001b[32m2024-07-18 18:16:22 INFO semantic_chunkers.utils.logger Single document exceeds the maximum token limit of 500. Splitting to sentences before semantically merging.\u001b[0m\n"
     ]
    },
    {
     "data": {
      "application/vnd.jupyter.widget-view+json": {
       "model_id": "5516314a59b0437a8076755adcb93961",
       "version_major": 2,
       "version_minor": 0
      },
      "text/plain": [
       "  0%|          | 0/4 [00:00<?, ?it/s]"
      ]
     },
     "metadata": {},
     "output_type": "display_data"
    },
    {
     "data": {
      "text/plain": [
       "[Chunk(splits=['World', 'Roshar is the native name for the planet on which The Stormlight Archive is set.', 'It is also the name of the supercontinent on which the main events of the series take place.', 'The planet was settled by the two Shards Honor and Cultivation, while their rival Odium exercises his influence on the planet. [46] People from Roshar are called Rosharans.[47] Roshar is the second planet from its sun and has three moons, each of which waxes and wanes separately from the others.[48] The world is regularly assaulted by Highstorms, storms characterized by a very violent storm front traveling from east to west (beginning at the Origin), followed by weaker rains.', 'The lands in Shinovar, farthest west on the main continent of Roshar, are mostly protected from the Highstorms by the high peaks of the Misted Mountains.', 'Most plants that grow in Shinovar, which resemble real-world plant life, cannot grow in other parts of Roshar.', 'Highstorms come frequently and, though they do not appear to follow a simple pattern, storm wardens are able to accurately predict their schedule through complex mathematics.', 'Flora and fauna have evolved to cope with this condition.[49]'], is_triggered=True, triggered_score=0.610610149252571, token_count=254, metadata=None),\n",
       " Chunk(splits=['Nations and regions:', 'During the Heraldic Epochs, Roshar was ruled by a coalition of ten nations known as the Silver Kingdoms.', 'In the Era of Solitude, following the departure of the Heralds and the demise of the Orders of Knights Radiant, those kingdoms split into smaller ones, some of the more important being:', 'Alethkar', 'Jah Keved', 'Herdaz', 'Thaylenah', 'Kharbranth and Natani cities in the Frostlands', 'Numerous Makabaki countries, with Azir being most prominent', 'Shinovar', 'Rira and Iri'], is_triggered=True, triggered_score=0.6483052011248165, token_count=118, metadata=None),\n",
       " Chunk(splits=['Races:', 'The Stormlight Archive features several different races, the majority of which are different ethnicities of human or partly human.', 'Some of these races include:', 'Thaylens:', 'Renowned traders and merchants native to an island nation.', 'They possess long eyebrows that can be styled to either droop or curve behind their ears.', 'Alethi:', 'Native to the nation of Alethkar, the Alethi are members of one of the four Vorin nations.', 'They have a famed military heritage and are possessed of tan skin and dark hair.', 'Veden:', 'Native to the Vorin nation of Jah Keved, the Vedens are characterized by pale skin and black hair.', 'Some have red hair, indicating Unkalaki ancestry.', 'Natan:', 'Native to the Vorin nation inhabiting New Natanan, the Natan often wear gloves and have faintly bluish skin.', 'Unkalaki (Horneaters):', 'A relatively rare race, the Horneaters are called thus by other races because the Unkalaki consider animal horns, shells, and claws to be a delicacy.', 'They possess reddish hair and dark skin, and stand well over seven feet (2.1 m) tall.', 'The Unkalaki homeland is in the mountains of Jah Keved.', 'Their culture is very different from the other Vorin cultures.', 'Parshendi (Singers/Listeners):', 'A proud nonhuman race, living on Shattered Plains with a strong warrior culture.', 'The Parshendi are viewed by many other races as savages because of their culture and past deeds.', 'They have marbled red and white or red and black skin that forms patterns unique to each individual and an exoskeleton that acts as natural armor.', \"They are at war with the Alethi during the novels' main timeline.\", 'They use spren to morph into many different forms, each with a unique function and set of abilities.', 'These forms also change the appearance of the Parshendi who use them, for example taking warform makes them more physically able and grants them the mindset of a soldier.', 'The workform allows them to be sturdier to perform physical labor.', 'They also communicate through songs and rhythms in their heads.', 'At the start of the series, many members of this species are found in a mentally limited form known as Parshmen, who are enslaved by various human groups.'], is_triggered=True, triggered_score=0.6627725108648834, token_count=475, metadata=None),\n",
       " Chunk(splits=['Shin:', 'A race native to the region of Shinovar, Shin have white skin and lack epicanthic folds (unlike the other races).', 'They stand shorter than most others, averaging five feet tall.', 'They also have bigger and rounder eyes.', 'Makabaki:', 'Native to the nation of Azir and neighboring countries, Makabaki have dark skin and hair.', 'Dysian Aimians: otherwise known as the Sleepless.', 'A non-human race native to Aimia, but of otherworldly origin.', 'They are made of many small creatures with exoskeletons called hordelings.'], is_triggered=True, triggered_score=0.6241552947263319, token_count=124, metadata=None),\n",
       " Chunk(splits=['There are 24 known Sleepless on Roshar.', 'Siah Aimians: a non-human race also native to Aimia.', 'They are characterized as having white-blue skin and shadows that point the wrong way.', 'They can also change their bodies slightly, for example adding a tattoo mentally, or removing their sense of smell.', 'Class structure:', 'Much of The Way of Kings takes place within the nations of Alethkar and Jah Keved.', 'Both of these nations divide their people into classes, primarily based on the color of their eyes.', 'Those with dark eye colors (brown, dark green, charcoal grey) are mostly peasants (and can even be made slaves).', 'Those with light eye colors (blue, yellow, tan, green, violet, orange, etc.) are the nobles and generally more educated ruling class.', 'Within these classes, there are further class distinctions known as nahn (for darkeyes) and dahn (for lighteyes).'], is_triggered=True, triggered_score=0.6825985718053564, token_count=190, metadata=None),\n",
       " Chunk(splits=['Both have ten levels within.', 'For the nahn, they range from slaves in the 10th nahn to full citizens with the right to travel in the second and first nahn.', 'In the dahn system, lighteyes in the 10th dahn are considered only slightly better than darkeyes, and a very rich darkeyed man or woman may marry into an extremely poor lighteyed family, in very rare cases.', 'The first dahn is composed of the king alone.', 'It has been known for dark eyed individuals to obtain light eyes through obtaining Shardblades, a supernatural weapon in this world; however, this is exceptionally rare.'], is_triggered=True, triggered_score=0.6353349407902764, token_count=131, metadata=None),\n",
       " Chunk(splits=['Spren:', 'Spren are spirits in the land of Roshar which are drawn to different conditions or emotions.', 'There are thousands of varieties.', 'One character, Hesina, the mother of Kaladin states, \"Spren appear when something changes - when fear appears, or when it begins to rain.', 'They are the heart of change, and therefore the heart of all things.\"[50] Their intelligence varies, with Cryptics (also known as liespren though they themselves dislike the term) and honorspren among the most intelligent, and more common spren, seen as forces of nature/emotion having little to no intelligence.', 'Jasnah Kholin also mentions that the 10 orders of the Knights Radiant drew their power from spren.', 'Some notable spren are Syl, an Honorspren who shares a bond with Kaladin, giving him surgebinding powers of Windrunner; Pattern, a Cryptic who created a bond with Shallan, allowing her to surgebind; and the cultivationspren Wyndle, who bonded with the thief Lift, allowing her to surgebind.', 'Dalinar Kholin also bonds a spren, the Stormfather, though he does so in an unconventional manner.', 'Jasnah bonded an inkspren named Ivory.', 'Some spren, such as flamespren, share characteristics with current observations in quantum mechanics, and are based on them.[51] For example, when they are observed they remain stable in the recorded state, but when tested more thoroughly, they change as though at random.', 'As revealed in the second book, Spren are \"concepts and ideas\" given physical form by the human collective subconscious.', 'Among the many forms of spren, some are intelligent, possess self-awareness, and have even built their own cities.', 'They reside naturally in Shadesmar, and often cross over into the physical realm.', 'This comes at the cost of most of their self-awareness for the higher, more exalted spren, which they can regain by making bonds with humans.', 'The sea and land are reversed in Shadesmar—what would be land on Roshar is a sea of black beads in Shadesmar, each representing a physical form on Roshar.', 'Shadesmar also contains cities and a strange type of flora.'], is_triggered=True, triggered_score=0.6217826885389904, token_count=464, metadata=None),\n",
       " Chunk(splits=['Religion:', 'Much of the world follows the Vorin religion.', 'Vorinism tells of a struggle between forces of the Voidbringers and humanity.', 'The Voidbringers forced humanity out of its afterlife, called the Tranquiline Halls.', 'They believe that upon death the soul continues in its past role, but towards the regaining of the Tranquiline Halls.', \"In Alethkar, a man's highest calling is as a warrior in life to remain a warrior in the afterlife.\", 'The religion also tells of the Lost Radiants, an order who once fought against the Voidbringers during the wars against them on Roshar (known as Desolations).', 'Vorinism gave the Knights Radiant the moniker \"Lost Radiants\" after they apparently betrayed humanity at some point in the distant past.', 'Vorinism is arranged in devotaries, whose ardents aim to assist people in advancing their Callings, which are tasks to which one dedicates their life as a method of worship.', 'Each person selects a devotary based on variances in beliefs, talents or personality traits, and may change their selection at any point in their life.', 'Some examples are the Devotary of Sincerity, who are encouraged to learn and ask questions, and the Devotary of Denial.', \"Adolin Kholin's calling, for example, is Dueling.\", 'The priesthood of the Vorin religion are referred to as ardents.', 'Those who reject the existence of the Almighty, such as Jasnah Kholin, are referred to as heretics.', 'Followers of other religions mentioned in The Way of Kings are Stone Shamans, Ysperists and Maakians.'], is_triggered=True, triggered_score=0.6479761949139342, token_count=347, metadata=None),\n",
       " Chunk(splits=['Shardblades and Shardplate:', 'Shardblades are powerful swords that have the ability to cut through any non-living matter with ease.', 'When used on living creatures, they can kill or maim with a single cut by the blade passing through the living soul.', 'They can also render limbs useless when they cut through them.', 'The only known defenses against a Shardblade are Shardplate, shields called \"half-shards\", another Shardblade, or an aluminum blade (according to \"Rhythm of War\").', 'Those who own a Shardblade can summon their blade from thin air in ten heartbeats and can make their blade disappear at will.[52] The blades are rare and highly valued, and there are estimated to be fewer than one hundred known blades in the world.[53]', 'Shardplate is full plate armor that both protects and strengthens the wearer.', 'The armor provides protection against Surgebinding, as one wearing the armor cannot be \"lashed\" directly.[54] Repeated strikes at the same spot on the armor by regular weapons or Shardblades can cause the armor to crack and break.', 'The armor can be repaired or \"regrown\", though it takes a long time.[55]', 'A full shardbearer, one wielding both Shardblade and Shardplate, is a force capable of turning the tide of battle on its own.', 'Kaladin and Syl express a revulsion to the Shardblades wielded by the Alethi.', \"During Dalinar's visions, he sees the Knights Radiant wearing Shardplate and wielding Shardblades, but he notes that the plate when worn by the Radiants glows.\", 'Additionally, the number of Blades and Plate worn by the Radiants is much greater than the number left in the world at the main timeline of The Way of Kings.', \"Most Shardblades are actually dead spren that come alive for a period of time by attuning themselves to their owner's heartbeat.[56]\", \"Shardblades wielded by the Knights Radiant are the Knight's spren taking the physical form of a weapon (often a sword, but can take the form of any weapon or a shield).\", \"Hence, these Shardblades are a physical manifestation of a living spren. 'Living' Shardblades can be summoned instantly, and do not require the summoning period of ten heartbeats.\", 'There are also ten Honorblades that grant the powers of one order of Radiants.'], is_triggered=False, triggered_score=None, token_count=490, metadata=None),\n",
       " Chunk(splits=[\"These weapons don't appear to be physical manifestations of spren, dead or alive, and were wielded by The Heralds until nine of them were abandoned at the end of Aharietiam, or the last desolation.\", 'Szeth, the assassin in white, uses an Honorblade of Jezrien in the first two books, and the Herald, Nalan, wields the Honorblade of the Skybreakers.', 'Magic:', 'Surgebinding', 'Surgebinding refers to a group of ten magic systems that stem from Honor and Cultivation, two of the three Shards of Adonalsium present on Roshar.', \"Each of Surgebinding's ten systems revolves around 'binding' two natural 'Surges,' for instance Gravity and Adhesion, to the Surgebinder's will.\", 'Surgebinding is powered by Stormlight, and the ability is granted to humans through bonding with a Spren, a type of elemental spirit native to Roshar.', \"There are ten Surgebinding's branches, with Windrunning and powers of Lightweavers (Transformation - Soulcasting and Illumination - illusions), described most thoroughly.\", 'Windrunning is an ability where the wielder uses the power of Stormlight to affect gravity and adhesion.'], is_triggered=True, triggered_score=0.6702264786624113, token_count=249, metadata=None),\n",
       " Chunk(splits=['It is described in three methods known as the \"Three Lashings\".', 'A Basic Lashing changes the direction of gravitational pull for an individual (causing the person to be pulled towards another object or direction instead of towards the center of the planet).', 'A Full Lashing is described as creating an almost[57] unbreakable bond between two objects until the Stormlight dissipates.', 'A Reverse Lashing causes an object to have a much stronger gravitational pull, causing other objects to be pulled towards it.[57]'], is_triggered=True, triggered_score=0.5845386407350845, token_count=103, metadata=None),\n",
       " Chunk(splits=['The Knights Radiant', 'The Knights Radiant originated through spren copying the abilities which the Heralds obtained through their Honorblades.', 'The Knights Radiant gained power through spren by creating a bond with them called the Nahel bond.', 'The bond gives the spren sentience while giving the human Surgebinding abilities.', 'Two examples are Sylphrena, an Honorspren, who shares a bond with Kaladin, giving him the power to Surgebind; and Pattern, a Liespren (Cryptic), who shares a bond with Shallan, granting her power to Soulcast and create Illusions.', \"The Knights Radiant lived by their order's Five Ideals, called The Immortal Words, with the First Ideal being the same for every order:\"], is_triggered=True, triggered_score=0.6798106549022085, token_count=154, metadata=None),\n",
       " Chunk(splits=['Life before death, strength before weakness, journey before destination.', 'The other four Ideals are different for each order, with the exception of the Order of the Lightweavers, having only the First Ideal.', 'Lightweavers instead must admit truths to themselves in order to progress.', 'Towards the end of The Way of Kings, Kaladin utters the Second Ideal for the Order of Windrunners:', 'I will protect those who cannot protect themselves.', 'Near the end of Words of Radiance, Kaladin whispers the Third Ideal for the Order of Windrunners:', 'I will protect even those I hate, so long as it is right.', 'At the climax of “Rhythm of War,” he speaks the Fourth Ideal:', 'I accept that there will be those I cannot protect.'], is_triggered=True, triggered_score=0.6566283012783241, token_count=153, metadata=None),\n",
       " Chunk(splits=['Orders of the Knights Radiant', 'Windrunners:', 'Manipulate the Surges of Adhesion and Gravitation.', 'Bonded to Honorspren.', 'Skybreakers:', 'Manipulate the Surges of Gravitation and Division.', 'Bonded to Highspren.', 'Dustbringers:', 'Manipulate the Surges of Division and Abrasion.', 'Bonded to Ashspren.', 'Edgedancers:', 'Manipulate the Surges of Abrasion and Progression.', 'Bonded to Cultivationspren.'], is_triggered=True, triggered_score=0.6591550995400943, token_count=102, metadata=None),\n",
       " Chunk(splits=['Truthwatchers:', 'Manipulate the Surges of Progression and Illumination.', 'Bonded to Mistspren.', 'Lightweavers:', 'Manipulate the Surges of Illumination and Transformation.', 'Bonded to Liespren (Cryptic).', 'Elsecallers:', 'Manipulate the Surges of Transformation and Transportation.', 'Bonded to Inkspren.', 'Willshapers:', 'Manipulate the Surges of Transportation and Cohesion.', 'Bonded to Lightspren (Reachers).', 'Stonewards:', 'Manipulate the Surges of Cohesion and Tension.', 'Bonded to Peakspren.', 'Bondsmiths:', 'Manipulate the Surges of Tension and Adhesion.', 'Bonded to three unique spren (the Nightwatcher, the Stormfather, and the Sibling).', 'Therefore, there can only be three Bondsmiths.[58]'], is_triggered=True, triggered_score=0.6995952606464895, token_count=171, metadata=None),\n",
       " Chunk(splits=['Soulcasting and Shadesmar:', 'Soulcasting is a practice where objects are changed from one form to another.', 'It has proven able to turn rock into smoke, purify blood of poisons, and create food, among many other applications.', 'Soulcasting is done by means of a device called a soulcaster that is powered by gems imbued with Stormlight.', 'The type of gem placed inside the soulcaster determines what the caster can transform.', 'With each use of a soulcaster, there is a chance of the gem cracking and being destroyed, especially when a large amount of matter is changed.[59] The main practitioners of soulcasting are the Ardents of the Vorin religion, however, there are a few exceptions.', \"Shallan's father's steward knew how to use a soulcaster,[60] as he used Shallan's father's soulcaster.\", 'By the end of The Way of Kings, Jasnah Kholin and Shallan are capable of doing magic that has very similar effects to Soulcasting but does not require a soulcaster to be used, and does not require that the magic user is in physical contact with the object they transform.[61] This book does not go into great detail, but the magic involves mentally communicating with an unknown source to enter a place called Shadesmar.'], is_triggered=True, triggered_score=0.7156831549273354, token_count=262, metadata=None),\n",
       " Chunk(splits=['Shadesmar is described in detail in the book but mostly consists of a world made from tiny glass beads.', 'Once within Shadesmar, the power from a Stormlight-infused gem can be used to manipulate objects.[62]', 'In an interview with Brandon Sanderson, Shadesmar is described as a Cognitive Realm connecting all the worlds in the Cosmere.', 'Sanderson has confirmed that Hoid is very good at using Shadesmar, that this is how Hoid moves between worlds, and that people on other worlds within the Cosmere have ways of accessing Shadesmar which are different from those the characters in this book use.[63]'], is_triggered=True, triggered_score=0.6132058582157593, token_count=125, metadata=None),\n",
       " Chunk(splits=['Voidbinding:', 'Similar to Surgebinding, Voidbinding has a collection of surges that the third god of Roshar, Odium, makes available to his selected servants, called Fused.', 'Unlike Knights Radiant, each Fused can only access a single surge, from a list of nine:', 'Gravitation, Division, Abrasion, Progression, Illumination, Transformation, Transportation, Cohesion, and Tension.', 'Adhesion is considered to be exclusive to Honor by the Fused, who cannot access it.', \"Voidbinding includes various other types of magic associated with Odium, such as some of the forms that Parshendi/Singers can take on that align them to Odium's ideals.\"], is_triggered=True, triggered_score=0.6569790623139964, token_count=142, metadata=None),\n",
       " Chunk(splits=['Old Magic:', 'Very little is known about the Old Magic, a set of powers exclusive to the goddess Cultivation.', 'Its most common effects are those granted by her powerful spren, the Nightwatcher, who will grant boons and curses to supplicants who come to her for assistance; any boon granted is offset by a mandatory applied curse.', 'Supplicants will often find that a boon is not granted as they expected it to, as the Nightwatcher does not always understand human desires and customs; poorly-worded requests can have unsatisfactory results.', 'The curses applied can be anywhere from mild to fully debilitating.'], is_triggered=False, triggered_score=None, token_count=124, metadata=None)]"
      ]
     },
     "execution_count": 15,
     "metadata": {},
     "output_type": "execute_result"
    }
   ],
   "source": [
    "chunks_sp = text_splitter(docs=[text_giant])[0]\n",
    "chunks_sp"
   ]
  },
  {
   "cell_type": "code",
   "execution_count": 12,
   "metadata": {},
   "outputs": [],
   "source": [
    "client = QdrantClient(\n",
    "    host=host,\n",
    "    port=port,\n",
    ")\n",
    "\n",
    "# client.set_model(\"nomic-ai/nomic-embed-text-v1.5\")\n",
    "# client.set_sparse_model(\"Qdrant/bm42-all-minilm-l6-v2-attentions\")"
   ]
  },
  {
   "cell_type": "code",
   "execution_count": 13,
   "metadata": {},
   "outputs": [
    {
     "data": {
      "application/vnd.jupyter.widget-view+json": {
       "model_id": "c5cb66751b0f451fa5ae0e25901106b4",
       "version_major": 2,
       "version_minor": 0
      },
      "text/plain": [
       "Fetching 6 files:   0%|          | 0/6 [00:00<?, ?it/s]"
      ]
     },
     "metadata": {},
     "output_type": "display_data"
    },
    {
     "data": {
      "application/vnd.jupyter.widget-view+json": {
       "model_id": "a79c4c7907444f2dbc6e2808e0135e51",
       "version_major": 2,
       "version_minor": 0
      },
      "text/plain": [
       "Fetching 5 files:   0%|          | 0/5 [00:00<?, ?it/s]"
      ]
     },
     "metadata": {},
     "output_type": "display_data"
    }
   ],
   "source": [
    "from fastembed import SparseTextEmbedding, TextEmbedding\n",
    "\n",
    "model_bm42 = SparseTextEmbedding(model_name=\"Qdrant/bm42-all-minilm-l6-v2-attentions\")\n",
    "model_nomic = TextEmbedding(model_name=\"nomic-ai/nomic-embed-text-v1.5\")\n"
   ]
  },
  {
   "cell_type": "code",
   "execution_count": 16,
   "metadata": {},
   "outputs": [
    {
     "name": "stderr",
     "output_type": "stream",
     "text": [
      "/var/folders/v8/y55_th9545761gnl8qj270040000gn/T/ipykernel_35432/948000074.py:4: DeprecationWarning: `recreate_collection` method is deprecated and will be removed in the future. Use `collection_exists` to check collection existence and `create_collection` instead.\n",
      "  client.recreate_collection(\n"
     ]
    },
    {
     "data": {
      "text/plain": [
       "True"
      ]
     },
     "execution_count": 16,
     "metadata": {},
     "output_type": "execute_result"
    }
   ],
   "source": [
    "# if not client.collection_exists(collection_name=collection_name):\n",
    "dist_ = models.Distance.COSINE if dist == \"cosine\" else models.Distance.EUCLID\n",
    "\n",
    "client.recreate_collection(\n",
    "    collection_name=collection_name,\n",
    "    vectors_config={\n",
    "        \"nomic\": models.VectorParams(\n",
    "            size=768,\n",
    "            distance=dist_,\n",
    "            hnsw_config=models.HnswConfigDiff(\n",
    "                m=64,\n",
    "                ef_construct=526,\n",
    "                on_disk=False,\n",
    "            ),\n",
    "            on_disk=False,\n",
    "        )\n",
    "    },\n",
    "    sparse_vectors_config={\n",
    "        \"bm42\": models.SparseVectorParams(\n",
    "            modifier=models.Modifier.IDF,\n",
    "            index=models.SparseIndexParams(\n",
    "                on_disk=False,\n",
    "            ),\n",
    "        )\n",
    "    },\n",
    "    hnsw_config=models.HnswConfigDiff(\n",
    "        m=64,\n",
    "        ef_construct=526,\n",
    "    ),\n",
    ")"
   ]
  },
  {
   "cell_type": "code",
   "execution_count": 106,
   "metadata": {},
   "outputs": [],
   "source": [
    "chunks = [\" \".join(chunk.splits) for chunk in chunks_sp]\n",
    "meta = [\n",
    "    {\n",
    "        \"Payload\": {\n",
    "            \"tokens\": chunk.token_count,\n",
    "            \"triggered_score\": chunk.triggered_score,\n",
    "            \"text\": \" \".join(chunk.splits),\n",
    "        }\n",
    "    }\n",
    "    for chunk in chunks_sp\n",
    "]\n",
    "idx = [i for i in range(len(chunks))]\n",
    "\n",
    "vectors = {\n",
    "    \"nomic\": [chunk.tolist() for chunk in embedder.embed(chunks)],\n",
    "    \"bm42\": list(model_bm42.query_embed(chunks)),\n",
    "}"
   ]
  },
  {
   "cell_type": "code",
   "execution_count": 102,
   "metadata": {},
   "outputs": [
    {
     "data": {
      "text/plain": [
       "UpdateResult(operation_id=3, status=<UpdateStatus.COMPLETED: 'completed'>)"
      ]
     },
     "execution_count": 102,
     "metadata": {},
     "output_type": "execute_result"
    }
   ],
   "source": [
    "# https://qdrant.github.io/fastembed/examples/Hybrid_Search/#about-qdrant\n",
    "\n",
    "client.upsert(\n",
    "    collection_name=collection_name,\n",
    "    points=[\n",
    "        models.PointStruct(\n",
    "            id=id,\n",
    "            payload=payload,\n",
    "            vector={\n",
    "                \"nomic\": dense,\n",
    "                \"bm42\": models.SparseVector(\n",
    "                    values=sparse.values,\n",
    "                    indices=sparse.indices,\n",
    "                ),\n",
    "            },\n",
    "        )\n",
    "        for id, payload, dense, sparse in zip(\n",
    "            idx, meta, vectors[\"nomic\"], vectors[\"bm42\"]\n",
    "        )\n",
    "    ],\n",
    ")"
   ]
  },
  {
   "cell_type": "code",
   "execution_count": 105,
   "metadata": {},
   "outputs": [],
   "source": [
    "query_text = \"best spren in Roshar?\"\n",
    "\n",
    "sparse_embedding = list(model_bm42.query_embed(query_text))[0]\n",
    "dense_embedding = list(embedder.embed_query(query_text))\n",
    "\n",
    "res = client.query_points(\n",
    "    collection_name=collection_name,\n",
    "    prefetch=[\n",
    "        models.Prefetch(query=sparse_embedding.as_object(), using=\"bm42\", limit=10),\n",
    "        models.Prefetch(query=dense_embedding, using=\"nomic\", limit=10),\n",
    "    ],\n",
    "    query=models.FusionQuery(fusion=models.Fusion.RRF),  # <--- Combine the scores\n",
    "    limit=5,\n",
    ")"
   ]
  },
  {
   "cell_type": "code",
   "execution_count": 104,
   "metadata": {},
   "outputs": [
    {
     "data": {
      "text/plain": [
       "QueryResponse(points=[ScoredPoint(id=6, version=3, score=1.0, payload={'Payload': {'text': 'Spren: Spren are spirits in the land of Roshar which are drawn to different conditions or emotions. There are thousands of varieties. One character, Hesina, the mother of Kaladin states, \"Spren appear when something changes - when fear appears, or when it begins to rain. They are the heart of change, and therefore the heart of all things.\"[50] Their intelligence varies, with Cryptics (also known as liespren though they themselves dislike the term) and honorspren among the most intelligent, and more common spren, seen as forces of nature/emotion having little to no intelligence. Jasnah Kholin also mentions that the 10 orders of the Knights Radiant drew their power from spren. Some notable spren are Syl, an Honorspren who shares a bond with Kaladin, giving him surgebinding powers of Windrunner; Pattern, a Cryptic who created a bond with Shallan, allowing her to surgebind; and the cultivationspren Wyndle, who bonded with the thief Lift, allowing her to surgebind. Dalinar Kholin also bonds a spren, the Stormfather, though he does so in an unconventional manner. Jasnah bonded an inkspren named Ivory. Some spren, such as flamespren, share characteristics with current observations in quantum mechanics, and are based on them.[51] For example, when they are observed they remain stable in the recorded state, but when tested more thoroughly, they change as though at random. As revealed in the second book, Spren are \"concepts and ideas\" given physical form by the human collective subconscious. Among the many forms of spren, some are intelligent, possess self-awareness, and have even built their own cities. They reside naturally in Shadesmar, and often cross over into the physical realm. This comes at the cost of most of their self-awareness for the higher, more exalted spren, which they can regain by making bonds with humans. The sea and land are reversed in Shadesmar—what would be land on Roshar is a sea of black beads in Shadesmar, each representing a physical form on Roshar. Shadesmar also contains cities and a strange type of flora.', 'tokens': 464, 'triggered_score': 0.6217826885389904}}, vector=None, shard_key=None, order_value=None), ScoredPoint(id=9, version=3, score=0.53333336, payload={'Payload': {'text': \"These weapons don't appear to be physical manifestations of spren, dead or alive, and were wielded by The Heralds until nine of them were abandoned at the end of Aharietiam, or the last desolation. Szeth, the assassin in white, uses an Honorblade of Jezrien in the first two books, and the Herald, Nalan, wields the Honorblade of the Skybreakers. Magic: Surgebinding Surgebinding refers to a group of ten magic systems that stem from Honor and Cultivation, two of the three Shards of Adonalsium present on Roshar. Each of Surgebinding's ten systems revolves around 'binding' two natural 'Surges,' for instance Gravity and Adhesion, to the Surgebinder's will. Surgebinding is powered by Stormlight, and the ability is granted to humans through bonding with a Spren, a type of elemental spirit native to Roshar. There are ten Surgebinding's branches, with Windrunning and powers of Lightweavers (Transformation - Soulcasting and Illumination - illusions), described most thoroughly. Windrunning is an ability where the wielder uses the power of Stormlight to affect gravity and adhesion.\", 'tokens': 249, 'triggered_score': 0.6702264786624113}}, vector=None, shard_key=None, order_value=None), ScoredPoint(id=1, version=3, score=0.45, payload={'Payload': {'text': 'Nations and regions: During the Heraldic Epochs, Roshar was ruled by a coalition of ten nations known as the Silver Kingdoms. In the Era of Solitude, following the departure of the Heralds and the demise of the Orders of Knights Radiant, those kingdoms split into smaller ones, some of the more important being: Alethkar Jah Keved Herdaz Thaylenah Kharbranth and Natani cities in the Frostlands Numerous Makabaki countries, with Azir being most prominent Shinovar Rira and Iri', 'tokens': 118, 'triggered_score': 0.6483052011248165}}, vector=None, shard_key=None, order_value=None), ScoredPoint(id=0, version=3, score=0.42424244, payload={'Payload': {'text': 'World Roshar is the native name for the planet on which The Stormlight Archive is set. It is also the name of the supercontinent on which the main events of the series take place. The planet was settled by the two Shards Honor and Cultivation, while their rival Odium exercises his influence on the planet. [46] People from Roshar are called Rosharans.[47] Roshar is the second planet from its sun and has three moons, each of which waxes and wanes separately from the others.[48] The world is regularly assaulted by Highstorms, storms characterized by a very violent storm front traveling from east to west (beginning at the Origin), followed by weaker rains. The lands in Shinovar, farthest west on the main continent of Roshar, are mostly protected from the Highstorms by the high peaks of the Misted Mountains. Most plants that grow in Shinovar, which resemble real-world plant life, cannot grow in other parts of Roshar. Highstorms come frequently and, though they do not appear to follow a simple pattern, storm wardens are able to accurately predict their schedule through complex mathematics. Flora and fauna have evolved to cope with this condition.[49]', 'tokens': 254, 'triggered_score': 0.610610149252571}}, vector=None, shard_key=None, order_value=None), ScoredPoint(id=11, version=3, score=0.2777778, payload={'Payload': {'text': \"The Knights Radiant The Knights Radiant originated through spren copying the abilities which the Heralds obtained through their Honorblades. The Knights Radiant gained power through spren by creating a bond with them called the Nahel bond. The bond gives the spren sentience while giving the human Surgebinding abilities. Two examples are Sylphrena, an Honorspren, who shares a bond with Kaladin, giving him the power to Surgebind; and Pattern, a Liespren (Cryptic), who shares a bond with Shallan, granting her power to Soulcast and create Illusions. The Knights Radiant lived by their order's Five Ideals, called The Immortal Words, with the First Ideal being the same for every order:\", 'tokens': 154, 'triggered_score': 0.6798106549022085}}, vector=None, shard_key=None, order_value=None)])"
      ]
     },
     "execution_count": 104,
     "metadata": {},
     "output_type": "execute_result"
    }
   ],
   "source": [
    "res"
   ]
  },
  {
   "cell_type": "code",
   "execution_count": 58,
   "metadata": {},
   "outputs": [],
   "source": [
    "from fastembed import SparseTextEmbedding\n",
    "import semantic_chunkers\n",
    "from typing import List, Dict, Any\n",
    "\n",
    "from qdrant_client import QdrantClient, models\n",
    "\n",
    "\n",
    "class VectorStore:\n",
    "    def __init__(self, host: str = \"localhost\", port: int = 6333) -> None:\n",
    "        self.client = QdrantClient(\n",
    "            host=host,\n",
    "            port=port,\n",
    "        )\n",
    "\n",
    "        self.model_bm42 = SparseTextEmbedding(\n",
    "            model_name=\"Qdrant/bm42-all-minilm-l6-v2-attentions\"\n",
    "        )\n",
    "        self.model_nomic = Embedder()\n",
    "\n",
    "    def __initialize_collection(self, collection_name: str, dist: str = \"cosine\"):\n",
    "        if not self.client.collection_exists(collection_name=collection_name):\n",
    "            print(\"Creating collection\")\n",
    "            dist_ = (\n",
    "                models.Distance.COSINE if dist == \"cosine\" else models.Distance.EUCLID\n",
    "            )\n",
    "            self.client.create_collection(\n",
    "                collection_name=collection_name,\n",
    "                vectors_config={\n",
    "                    \"nomic\": models.VectorParams(\n",
    "                        size=self.model_nomic.embedding_size,\n",
    "                        distance=dist_,\n",
    "                        hnsw_config=models.HnswConfigDiff(\n",
    "                            m=64,\n",
    "                            ef_construct=526,\n",
    "                            on_disk=False,\n",
    "                        ),\n",
    "                        on_disk=False,\n",
    "                    )\n",
    "                },\n",
    "                sparse_vectors_config={\n",
    "                    \"bm42\": models.SparseVectorParams(\n",
    "                        modifier=models.Modifier.IDF,\n",
    "                        index=models.SparseIndexParams(\n",
    "                            on_disk=False,\n",
    "                        ),\n",
    "                    )\n",
    "                },\n",
    "                hnsw_config=models.HnswConfigDiff(\n",
    "                    m=64,\n",
    "                    ef_construct=526,\n",
    "                ),\n",
    "            )\n",
    "            return True\n",
    "        return False\n",
    "\n",
    "    def create_collection(self, collection_name: str, dist: str) -> bool:\n",
    "        assert type(collection_name) == str\n",
    "        assert dist in [\"cosine\", \"eucliad\"]\n",
    "\n",
    "        return self.__initialize_collection(collection_name, dist)\n",
    "\n",
    "    def __add(\n",
    "        self,\n",
    "        chunks: List[str],\n",
    "        idx: List[str | int],\n",
    "        metadata: List[Dict],\n",
    "        collection_name: str,\n",
    "        **kwargs: Any,\n",
    "    ) -> None:\n",
    "        vectors = {\n",
    "            \"nomic\": [chunk for chunk in self.model_nomic.embed_query(chunks)],\n",
    "            \"bm42\": list(self.model_bm42.query_embed(chunks)),\n",
    "        }\n",
    "        self.client.upsert(\n",
    "            collection_name=collection_name,\n",
    "            points=[\n",
    "                models.PointStruct(\n",
    "                    id=id,\n",
    "                    payload=payload,\n",
    "                    vector={\n",
    "                        \"nomic\": dense,\n",
    "                        \"bm42\": models.SparseVector(\n",
    "                            values=sparse.values,\n",
    "                            indices=sparse.indices,\n",
    "                        ),\n",
    "                    },\n",
    "                )\n",
    "                for id, payload, dense, sparse in zip(\n",
    "                    idx, metadata, vectors[\"nomic\"], vectors[\"bm42\"]\n",
    "                )\n",
    "            ],\n",
    "        )\n",
    "\n",
    "    def add(\n",
    "        self,\n",
    "        collection_name: str,\n",
    "        **kwargs: Any,\n",
    "    ) -> None:\n",
    "        self.__add(collection_name=collection_name, **kwargs)\n",
    "\n",
    "    def __search_both(self, collection_name: str, query: str, top: int = 5):\n",
    "        sparse_embedding = list(self.model_bm42.query_embed(query))[0]\n",
    "        dense_embedding = list(self.model_nomic.embed_query(query))\n",
    "\n",
    "        return self.client.query_points(\n",
    "            collection_name=collection_name,\n",
    "            prefetch=[\n",
    "                models.Prefetch(\n",
    "                    query=sparse_embedding.as_object(),\n",
    "                    using=\"bm42\",\n",
    "                    limit=top * 2,\n",
    "                ),\n",
    "                models.Prefetch(\n",
    "                    query=dense_embedding,\n",
    "                    using=\"nomic\",\n",
    "                    limit=top * 2,\n",
    "                ),\n",
    "            ],\n",
    "            query=models.FusionQuery(fusion=models.Fusion.RRF),\n",
    "            limit=top,\n",
    "        )\n",
    "\n",
    "    def search(self, collection_name: str, query: str, **kwargs: Any) -> List[Any]:\n",
    "        return self.__search_both(\n",
    "            collection_name=collection_name, query=query, **kwargs\n",
    "        )"
   ]
  },
  {
   "cell_type": "code",
   "execution_count": 39,
   "metadata": {},
   "outputs": [
    {
     "name": "stderr",
     "output_type": "stream",
     "text": [
      "<All keys matched successfully>\n",
      "\u001b[32m2024-07-18 18:24:52 INFO semantic_chunkers.utils.logger Single document exceeds the maximum token limit of 500. Splitting to sentences before semantically merging.\u001b[0m\n"
     ]
    },
    {
     "data": {
      "application/vnd.jupyter.widget-view+json": {
       "model_id": "b5cf10dd00924d81bdd75c173ca6b4ff",
       "version_major": 2,
       "version_minor": 0
      },
      "text/plain": [
       "  0%|          | 0/4 [00:00<?, ?it/s]"
      ]
     },
     "metadata": {},
     "output_type": "display_data"
    }
   ],
   "source": [
    "text_splitter = StatisticalChunker(\n",
    "    encoder=Embedder(),\n",
    "    name=\"statistical_chunker\",\n",
    "    threshold_adjustment=0.01,\n",
    "    dynamic_threshold=True,\n",
    "    window_size=5,\n",
    "    min_split_tokens=100,\n",
    "    max_split_tokens=500,\n",
    "    split_tokens_tolerance=10,\n",
    "    plot_chunks=False,\n",
    "    enable_statistics=False,\n",
    ")\n",
    "# IDEALLY NOT TOO SMALL TEXT\n",
    "chunks_sp = text_splitter(docs=[text_giant])[0]\n",
    "chunks = [\" \".join(chunk.splits) for chunk in chunks_sp]\n",
    "meta = [\n",
    "    {\n",
    "        \"Payload\": {\n",
    "            \"tokens\": chunk.token_count,\n",
    "            \"triggered_score\": chunk.triggered_score,\n",
    "            \"text\": \" \".join(chunk.splits),\n",
    "        }\n",
    "    }\n",
    "    for chunk in chunks_sp\n",
    "]\n",
    "idx = [i for i in range(len(chunks))]"
   ]
  },
  {
   "cell_type": "code",
   "execution_count": 59,
   "metadata": {},
   "outputs": [
    {
     "data": {
      "application/vnd.jupyter.widget-view+json": {
       "model_id": "506e7e8e61c946908e2c5c865e37045f",
       "version_major": 2,
       "version_minor": 0
      },
      "text/plain": [
       "Fetching 6 files:   0%|          | 0/6 [00:00<?, ?it/s]"
      ]
     },
     "metadata": {},
     "output_type": "display_data"
    },
    {
     "name": "stderr",
     "output_type": "stream",
     "text": [
      "<All keys matched successfully>\n"
     ]
    }
   ],
   "source": [
    "database = VectorStore()"
   ]
  },
  {
   "cell_type": "code",
   "execution_count": 62,
   "metadata": {},
   "outputs": [
    {
     "name": "stdout",
     "output_type": "stream",
     "text": [
      "Creating collection\n"
     ]
    },
    {
     "data": {
      "text/plain": [
       "True"
      ]
     },
     "execution_count": 62,
     "metadata": {},
     "output_type": "execute_result"
    }
   ],
   "source": [
    "cool_name = \"Some+cool_collection\"\n",
    "\n",
    "database.create_collection(collection_name=cool_name, dist=\"cosine\")"
   ]
  },
  {
   "cell_type": "code",
   "execution_count": 52,
   "metadata": {},
   "outputs": [],
   "source": [
    "database.add(\n",
    "    chunks=chunks,\n",
    "    idx=[i for i in range(len(chunks))],  # !!!! SHOULD BE UNIQUE\n",
    "    metadata=meta,\n",
    "    collection_name=cool_name,\n",
    ")"
   ]
  },
  {
   "cell_type": "code",
   "execution_count": 60,
   "metadata": {},
   "outputs": [
    {
     "data": {
      "text/plain": [
       "QueryResponse(points=[ScoredPoint(id=0, version=0, score=1.0, payload={'Payload': {'text': 'World Roshar is the native name for the planet on which The Stormlight Archive is set. It is also the name of the supercontinent on which the main events of the series take place. The planet was settled by the two Shards Honor and Cultivation, while their rival Odium exercises his influence on the planet. [46] People from Roshar are called Rosharans.[47] Roshar is the second planet from its sun and has three moons, each of which waxes and wanes separately from the others.[48] The world is regularly assaulted by Highstorms, storms characterized by a very violent storm front traveling from east to west (beginning at the Origin), followed by weaker rains. The lands in Shinovar, farthest west on the main continent of Roshar, are mostly protected from the Highstorms by the high peaks of the Misted Mountains. Most plants that grow in Shinovar, which resemble real-world plant life, cannot grow in other parts of Roshar. Highstorms come frequently and, though they do not appear to follow a simple pattern, storm wardens are able to accurately predict their schedule through complex mathematics. Flora and fauna have evolved to cope with this condition.[49]', 'tokens': 254, 'triggered_score': 0.610610149252571}}, vector=None, shard_key=None, order_value=None), ScoredPoint(id=8, version=0, score=0.33333334, payload={'Payload': {'text': 'Shardblades and Shardplate: Shardblades are powerful swords that have the ability to cut through any non-living matter with ease. When used on living creatures, they can kill or maim with a single cut by the blade passing through the living soul. They can also render limbs useless when they cut through them. The only known defenses against a Shardblade are Shardplate, shields called \"half-shards\", another Shardblade, or an aluminum blade (according to \"Rhythm of War\"). Those who own a Shardblade can summon their blade from thin air in ten heartbeats and can make their blade disappear at will.[52] The blades are rare and highly valued, and there are estimated to be fewer than one hundred known blades in the world.[53] Shardplate is full plate armor that both protects and strengthens the wearer. The armor provides protection against Surgebinding, as one wearing the armor cannot be \"lashed\" directly.[54] Repeated strikes at the same spot on the armor by regular weapons or Shardblades can cause the armor to crack and break. The armor can be repaired or \"regrown\", though it takes a long time.[55] A full shardbearer, one wielding both Shardblade and Shardplate, is a force capable of turning the tide of battle on its own. Kaladin and Syl express a revulsion to the Shardblades wielded by the Alethi. During Dalinar\\'s visions, he sees the Knights Radiant wearing Shardplate and wielding Shardblades, but he notes that the plate when worn by the Radiants glows. Additionally, the number of Blades and Plate worn by the Radiants is much greater than the number left in the world at the main timeline of The Way of Kings. Most Shardblades are actually dead spren that come alive for a period of time by attuning themselves to their owner\\'s heartbeat.[56] Shardblades wielded by the Knights Radiant are the Knight\\'s spren taking the physical form of a weapon (often a sword, but can take the form of any weapon or a shield). Hence, these Shardblades are a physical manifestation of a living spren. \\'Living\\' Shardblades can be summoned instantly, and do not require the summoning period of ten heartbeats. There are also ten Honorblades that grant the powers of one order of Radiants.', 'tokens': 490, 'triggered_score': None}}, vector=None, shard_key=None, order_value=None), ScoredPoint(id=3, version=0, score=0.33333334, payload={'Payload': {'text': 'Shin: A race native to the region of Shinovar, Shin have white skin and lack epicanthic folds (unlike the other races). They stand shorter than most others, averaging five feet tall. They also have bigger and rounder eyes. Makabaki: Native to the nation of Azir and neighboring countries, Makabaki have dark skin and hair. Dysian Aimians: otherwise known as the Sleepless. A non-human race native to Aimia, but of otherworldly origin. They are made of many small creatures with exoskeletons called hordelings.', 'tokens': 124, 'triggered_score': 0.6241552947263319}}, vector=None, shard_key=None, order_value=None), ScoredPoint(id=6, version=0, score=0.25, payload={'Payload': {'text': 'Spren: Spren are spirits in the land of Roshar which are drawn to different conditions or emotions. There are thousands of varieties. One character, Hesina, the mother of Kaladin states, \"Spren appear when something changes - when fear appears, or when it begins to rain. They are the heart of change, and therefore the heart of all things.\"[50] Their intelligence varies, with Cryptics (also known as liespren though they themselves dislike the term) and honorspren among the most intelligent, and more common spren, seen as forces of nature/emotion having little to no intelligence. Jasnah Kholin also mentions that the 10 orders of the Knights Radiant drew their power from spren. Some notable spren are Syl, an Honorspren who shares a bond with Kaladin, giving him surgebinding powers of Windrunner; Pattern, a Cryptic who created a bond with Shallan, allowing her to surgebind; and the cultivationspren Wyndle, who bonded with the thief Lift, allowing her to surgebind. Dalinar Kholin also bonds a spren, the Stormfather, though he does so in an unconventional manner. Jasnah bonded an inkspren named Ivory. Some spren, such as flamespren, share characteristics with current observations in quantum mechanics, and are based on them.[51] For example, when they are observed they remain stable in the recorded state, but when tested more thoroughly, they change as though at random. As revealed in the second book, Spren are \"concepts and ideas\" given physical form by the human collective subconscious. Among the many forms of spren, some are intelligent, possess self-awareness, and have even built their own cities. They reside naturally in Shadesmar, and often cross over into the physical realm. This comes at the cost of most of their self-awareness for the higher, more exalted spren, which they can regain by making bonds with humans. The sea and land are reversed in Shadesmar—what would be land on Roshar is a sea of black beads in Shadesmar, each representing a physical form on Roshar. Shadesmar also contains cities and a strange type of flora.', 'tokens': 464, 'triggered_score': 0.6217826885389904}}, vector=None, shard_key=None, order_value=None), ScoredPoint(id=10, version=0, score=0.2, payload={'Payload': {'text': 'It is described in three methods known as the \"Three Lashings\". A Basic Lashing changes the direction of gravitational pull for an individual (causing the person to be pulled towards another object or direction instead of towards the center of the planet). A Full Lashing is described as creating an almost[57] unbreakable bond between two objects until the Stormlight dissipates. A Reverse Lashing causes an object to have a much stronger gravitational pull, causing other objects to be pulled towards it.[57]', 'tokens': 103, 'triggered_score': 0.5845386407350845}}, vector=None, shard_key=None, order_value=None)])"
      ]
     },
     "execution_count": 60,
     "metadata": {},
     "output_type": "execute_result"
    }
   ],
   "source": [
    "database.search(\n",
    "    collection_name=cool_name,\n",
    "    query=\"High Storm\",\n",
    ")"
   ]
  },
  {
   "cell_type": "code",
   "execution_count": 63,
   "metadata": {},
   "outputs": [
    {
     "data": {
      "text/plain": [
       "True"
      ]
     },
     "execution_count": 63,
     "metadata": {},
     "output_type": "execute_result"
    }
   ],
   "source": [
    "database.client.delete_collection(collection_name=cool_name)"
   ]
  },
  {
   "cell_type": "code",
   "execution_count": null,
   "metadata": {},
   "outputs": [],
   "source": [
    "# QueryResponse(\n",
    "#     points=[\n",
    "#         ScoredPoint(\n",
    "#             id=0,\n",
    "#             version=0,\n",
    "#             score=1.0,\n",
    "#             payload={\n",
    "#                 \"Payload\": {\n",
    "#                     \"text\": \"World Roshar is the native name for the planet on which The Stormlight Archive is set. It is also the name of the supercontinent on which the main events of the series take place. The planet was settled by the two Shards Honor and Cultivation, while their rival Odium exercises his influence on the planet. [46] People from Roshar are called Rosharans.[47] Roshar is the second planet from its sun and has three moons, each of which waxes and wanes separately from the others.[48] The world is regularly assaulted by Highstorms, storms characterized by a very violent storm front traveling from east to west (beginning at the Origin), followed by weaker rains. The lands in Shinovar, farthest west on the main continent of Roshar, are mostly protected from the Highstorms by the high peaks of the Misted Mountains. Most plants that grow in Shinovar, which resemble real-world plant life, cannot grow in other parts of Roshar. Highstorms come frequently and, though they do not appear to follow a simple pattern, storm wardens are able to accurately predict their schedule through complex mathematics. Flora and fauna have evolved to cope with this condition.[49]\",\n",
    "#                     \"tokens\": 254,\n",
    "#                     \"triggered_score\": 0.610610149252571,\n",
    "#                 }\n",
    "#             },\n",
    "#             vector=None,\n",
    "#             shard_key=None,\n",
    "#             order_value=None,\n",
    "#         ),\n",
    "#         ScoredPoint(\n",
    "#             id=8,\n",
    "#             version=0,\n",
    "#             score=0.33333334,\n",
    "#             payload={\n",
    "#                 \"Payload\": {\n",
    "#                     \"text\": 'Shardblades and Shardplate: Shardblades are powerful swords that have the ability to cut through any non-living matter with ease. When used on living creatures, they can kill or maim with a single cut by the blade passing through the living soul. They can also render limbs useless when they cut through them. The only known defenses against a Shardblade are Shardplate, shields called \"half-shards\", another Shardblade, or an aluminum blade (according to \"Rhythm of War\"). Those who own a Shardblade can summon their blade from thin air in ten heartbeats and can make their blade disappear at will.[52] The blades are rare and highly valued, and there are estimated to be fewer than one hundred known blades in the world.[53] Shardplate is full plate armor that both protects and strengthens the wearer. The armor provides protection against Surgebinding, as one wearing the armor cannot be \"lashed\" directly.[54] Repeated strikes at the same spot on the armor by regular weapons or Shardblades can cause the armor to crack and break. The armor can be repaired or \"regrown\", though it takes a long time.[55] A full shardbearer, one wielding both Shardblade and Shardplate, is a force capable of turning the tide of battle on its own. Kaladin and Syl express a revulsion to the Shardblades wielded by the Alethi. During Dalinar\\'s visions, he sees the Knights Radiant wearing Shardplate and wielding Shardblades, but he notes that the plate when worn by the Radiants glows. Additionally, the number of Blades and Plate worn by the Radiants is much greater than the number left in the world at the main timeline of The Way of Kings. Most Shardblades are actually dead spren that come alive for a period of time by attuning themselves to their owner\\'s heartbeat.[56] Shardblades wielded by the Knights Radiant are the Knight\\'s spren taking the physical form of a weapon (often a sword, but can take the form of any weapon or a shield). Hence, these Shardblades are a physical manifestation of a living spren. \\'Living\\' Shardblades can be summoned instantly, and do not require the summoning period of ten heartbeats. There are also ten Honorblades that grant the powers of one order of Radiants.',\n",
    "#                     \"tokens\": 490,\n",
    "#                     \"triggered_score\": None,\n",
    "#                 }\n",
    "#             },\n",
    "#             vector=None,\n",
    "#             shard_key=None,\n",
    "#             order_value=None,\n",
    "#         ),\n",
    "#         ScoredPoint(\n",
    "#             id=3,\n",
    "#             version=0,\n",
    "#             score=0.33333334,\n",
    "#             payload={\n",
    "#                 \"Payload\": {\n",
    "#                     \"text\": \"Shin: A race native to the region of Shinovar, Shin have white skin and lack epicanthic folds (unlike the other races). They stand shorter than most others, averaging five feet tall. They also have bigger and rounder eyes. Makabaki: Native to the nation of Azir and neighboring countries, Makabaki have dark skin and hair. Dysian Aimians: otherwise known as the Sleepless. A non-human race native to Aimia, but of otherworldly origin. They are made of many small creatures with exoskeletons called hordelings.\",\n",
    "#                     \"tokens\": 124,\n",
    "#                     \"triggered_score\": 0.6241552947263319,\n",
    "#                 }\n",
    "#             },\n",
    "#             vector=None,\n",
    "#             shard_key=None,\n",
    "#             order_value=None,\n",
    "#         ),\n",
    "#         ScoredPoint(\n",
    "#             id=6,\n",
    "#             version=0,\n",
    "#             score=0.25,\n",
    "#             payload={\n",
    "#                 \"Payload\": {\n",
    "#                     \"text\": 'Spren: Spren are spirits in the land of Roshar which are drawn to different conditions or emotions. There are thousands of varieties. One character, Hesina, the mother of Kaladin states, \"Spren appear when something changes - when fear appears, or when it begins to rain. They are the heart of change, and therefore the heart of all things.\"[50] Their intelligence varies, with Cryptics (also known as liespren though they themselves dislike the term) and honorspren among the most intelligent, and more common spren, seen as forces of nature/emotion having little to no intelligence. Jasnah Kholin also mentions that the 10 orders of the Knights Radiant drew their power from spren. Some notable spren are Syl, an Honorspren who shares a bond with Kaladin, giving him surgebinding powers of Windrunner; Pattern, a Cryptic who created a bond with Shallan, allowing her to surgebind; and the cultivationspren Wyndle, who bonded with the thief Lift, allowing her to surgebind. Dalinar Kholin also bonds a spren, the Stormfather, though he does so in an unconventional manner. Jasnah bonded an inkspren named Ivory. Some spren, such as flamespren, share characteristics with current observations in quantum mechanics, and are based on them.[51] For example, when they are observed they remain stable in the recorded state, but when tested more thoroughly, they change as though at random. As revealed in the second book, Spren are \"concepts and ideas\" given physical form by the human collective subconscious. Among the many forms of spren, some are intelligent, possess self-awareness, and have even built their own cities. They reside naturally in Shadesmar, and often cross over into the physical realm. This comes at the cost of most of their self-awareness for the higher, more exalted spren, which they can regain by making bonds with humans. The sea and land are reversed in Shadesmar—what would be land on Roshar is a sea of black beads in Shadesmar, each representing a physical form on Roshar. Shadesmar also contains cities and a strange type of flora.',\n",
    "#                     \"tokens\": 464,\n",
    "#                     \"triggered_score\": 0.6217826885389904,\n",
    "#                 }\n",
    "#             },\n",
    "#             vector=None,\n",
    "#             shard_key=None,\n",
    "#             order_value=None,\n",
    "#         ),\n",
    "#         ScoredPoint(\n",
    "#             id=10,\n",
    "#             version=0,\n",
    "#             score=0.2,\n",
    "#             payload={\n",
    "#                 \"Payload\": {\n",
    "#                     \"text\": 'It is described in three methods known as the \"Three Lashings\". A Basic Lashing changes the direction of gravitational pull for an individual (causing the person to be pulled towards another object or direction instead of towards the center of the planet). A Full Lashing is described as creating an almost[57] unbreakable bond between two objects until the Stormlight dissipates. A Reverse Lashing causes an object to have a much stronger gravitational pull, causing other objects to be pulled towards it.[57]',\n",
    "#                     \"tokens\": 103,\n",
    "#                     \"triggered_score\": 0.5845386407350845,\n",
    "#                 }\n",
    "#             },\n",
    "#             vector=None,\n",
    "#             shard_key=None,\n",
    "#             order_value=None,\n",
    "#         ),\n",
    "#     ]\n",
    "# )"
   ]
  }
 ],
 "metadata": {
  "kernelspec": {
   "display_name": "caps",
   "language": "python",
   "name": "python3"
  },
  "language_info": {
   "codemirror_mode": {
    "name": "ipython",
    "version": 3
   },
   "file_extension": ".py",
   "mimetype": "text/x-python",
   "name": "python",
   "nbconvert_exporter": "python",
   "pygments_lexer": "ipython3",
   "version": "3.11.9"
  }
 },
 "nbformat": 4,
 "nbformat_minor": 2
}

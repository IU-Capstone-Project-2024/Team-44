{
 "cells": [
  {
   "cell_type": "code",
   "execution_count": 144,
   "metadata": {},
   "outputs": [],
   "source": [
    "text_small = \"\"\"\n",
    "\t\t\tEncoder: The encoder is composed of a stack of N = 6 identical layers. Each layer has two sub-layers. The first is a multi-head self-attention mechanism, and the second is a simple, position- wise fully connected feed-forward network. We employ a residual connection [11] around each of the two sub-layers, followed by layer normalization [1]. That is, the output of each sub-layer is LayerNorm(x + Sublayer(x)), where Sublayer(x) is the function implemented by the sub-layer itself. To facilitate these residual connections, all sub-layers in the model, as well as the embedding layers, produce outputs of dimension dmodel = 512.\n",
    "\t\t\tDecoder: The decoder is also composed of a stack of N = 6 identical layers. In addition to the two sub-layers in each encoder layer, the decoder inserts a third sub-layer, which performs multi-head attention over the output of the encoder stack. Similar to the encoder, we employ residual connections around each of the sub-layers, followed by layer normalization. We also modify the self-attention sub-layer in the decoder stack to prevent positions from attending to subsequent positions. This masking, combined with fact that the output embeddings are offset by one position, ensures that the predictions for position i can depend only on the known outputs at positions less than i.\n",
    "\t\t\"\"\"\n",
    "\n",
    "text_giant = \"\"\"\n",
    "World\n",
    "Roshar is the native name for the planet on which The Stormlight Archive is set. It is also the name of the supercontinent on which the main events of the series take place. The planet was settled by the two Shards Honor and Cultivation, while their rival Odium exercises his influence on the planet. [46] People from Roshar are called Rosharans.[47] Roshar is the second planet from its sun and has three moons, each of which waxes and wanes separately from the others.[48] The world is regularly assaulted by Highstorms, storms characterized by a very violent storm front traveling from east to west (beginning at the Origin), followed by weaker rains. The lands in Shinovar, farthest west on the main continent of Roshar, are mostly protected from the Highstorms by the high peaks of the Misted Mountains. Most plants that grow in Shinovar, which resemble real-world plant life, cannot grow in other parts of Roshar. Highstorms come frequently and, though they do not appear to follow a simple pattern, storm wardens are able to accurately predict their schedule through complex mathematics. Flora and fauna have evolved to cope with this condition.[49]\n",
    "\n",
    "Nations and regions:\n",
    "During the Heraldic Epochs, Roshar was ruled by a coalition of ten nations known as the Silver Kingdoms. In the Era of Solitude, following the departure of the Heralds and the demise of the Orders of Knights Radiant, those kingdoms split into smaller ones, some of the more important being:\n",
    "Alethkar\n",
    "Jah Keved\n",
    "Herdaz\n",
    "Thaylenah\n",
    "Kharbranth and Natani cities in the Frostlands\n",
    "Numerous Makabaki countries, with Azir being most prominent\n",
    "Shinovar\n",
    "Rira and Iri\n",
    "\n",
    "Races:\n",
    "The Stormlight Archive features several different races, the majority of which are different ethnicities of human or partly human. Some of these races include:\n",
    "Thaylens: Renowned traders and merchants native to an island nation. They possess long eyebrows that can be styled to either droop or curve behind their ears.\n",
    "Alethi: Native to the nation of Alethkar, the Alethi are members of one of the four Vorin nations. They have a famed military heritage and are possessed of tan skin and dark hair.\n",
    "Veden: Native to the Vorin nation of Jah Keved, the Vedens are characterized by pale skin and black hair. Some have red hair, indicating Unkalaki ancestry.\n",
    "Natan: Native to the Vorin nation inhabiting New Natanan, the Natan often wear gloves and have faintly bluish skin.\n",
    "Unkalaki (Horneaters): A relatively rare race, the Horneaters are called thus by other races because the Unkalaki consider animal horns, shells, and claws to be a delicacy. They possess reddish hair and dark skin, and stand well over seven feet (2.1 m) tall. The Unkalaki homeland is in the mountains of Jah Keved. Their culture is very different from the other Vorin cultures.\n",
    "Parshendi (Singers/Listeners): A proud nonhuman race, living on Shattered Plains with a strong warrior culture. The Parshendi are viewed by many other races as savages because of their culture and past deeds. They have marbled red and white or red and black skin that forms patterns unique to each individual and an exoskeleton that acts as natural armor. They are at war with the Alethi during the novels' main timeline. They use spren to morph into many different forms, each with a unique function and set of abilities. These forms also change the appearance of the Parshendi who use them, for example taking warform makes them more physically able and grants them the mindset of a soldier. The workform allows them to be sturdier to perform physical labor. They also communicate through songs and rhythms in their heads. At the start of the series, many members of this species are found in a mentally limited form known as Parshmen, who are enslaved by various human groups.\n",
    "Shin: A race native to the region of Shinovar, Shin have white skin and lack epicanthic folds (unlike the other races). They stand shorter than most others, averaging five feet tall. They also have bigger and rounder eyes.\n",
    "Makabaki: Native to the nation of Azir and neighboring countries, Makabaki have dark skin and hair.\n",
    "Dysian Aimians: otherwise known as the Sleepless. A non-human race native to Aimia, but of otherworldly origin. They are made of many small creatures with exoskeletons called hordelings. There are 24 known Sleepless on Roshar.\n",
    "Siah Aimians: a non-human race also native to Aimia. They are characterized as having white-blue skin and shadows that point the wrong way. They can also change their bodies slightly, for example adding a tattoo mentally, or removing their sense of smell.\n",
    "\n",
    "Class structure:\n",
    "Much of The Way of Kings takes place within the nations of Alethkar and Jah Keved. Both of these nations divide their people into classes, primarily based on the color of their eyes. Those with dark eye colors (brown, dark green, charcoal grey) are mostly peasants (and can even be made slaves). Those with light eye colors (blue, yellow, tan, green, violet, orange, etc.) are the nobles and generally more educated ruling class. Within these classes, there are further class distinctions known as nahn (for darkeyes) and dahn (for lighteyes). Both have ten levels within. For the nahn, they range from slaves in the 10th nahn to full citizens with the right to travel in the second and first nahn. In the dahn system, lighteyes in the 10th dahn are considered only slightly better than darkeyes, and a very rich darkeyed man or woman may marry into an extremely poor lighteyed family, in very rare cases. The first dahn is composed of the king alone. It has been known for dark eyed individuals to obtain light eyes through obtaining Shardblades, a supernatural weapon in this world; however, this is exceptionally rare.\n",
    "\n",
    "Spren:\n",
    "Spren are spirits in the land of Roshar which are drawn to different conditions or emotions. There are thousands of varieties. One character, Hesina, the mother of Kaladin states, \"Spren appear when something changes - when fear appears, or when it begins to rain. They are the heart of change, and therefore the heart of all things.\"[50] Their intelligence varies, with Cryptics (also known as liespren though they themselves dislike the term) and honorspren among the most intelligent, and more common spren, seen as forces of nature/emotion having little to no intelligence. Jasnah Kholin also mentions that the 10 orders of the Knights Radiant drew their power from spren. Some notable spren are Syl, an Honorspren who shares a bond with Kaladin, giving him surgebinding powers of Windrunner; Pattern, a Cryptic who created a bond with Shallan, allowing her to surgebind; and the cultivationspren Wyndle, who bonded with the thief Lift, allowing her to surgebind. Dalinar Kholin also bonds a spren, the Stormfather, though he does so in an unconventional manner. Jasnah bonded an inkspren named Ivory.\n",
    "Some spren, such as flamespren, share characteristics with current observations in quantum mechanics, and are based on them.[51] For example, when they are observed they remain stable in the recorded state, but when tested more thoroughly, they change as though at random.\n",
    "As revealed in the second book, Spren are \"concepts and ideas\" given physical form by the human collective subconscious. Among the many forms of spren, some are intelligent, possess self-awareness, and have even built their own cities. They reside naturally in Shadesmar, and often cross over into the physical realm. This comes at the cost of most of their self-awareness for the higher, more exalted spren, which they can regain by making bonds with humans. The sea and land are reversed in Shadesmar—what would be land on Roshar is a sea of black beads in Shadesmar, each representing a physical form on Roshar. Shadesmar also contains cities and a strange type of flora.\n",
    "\n",
    "Religion:\n",
    "Much of the world follows the Vorin religion. Vorinism tells of a struggle between forces of the Voidbringers and humanity. The Voidbringers forced humanity out of its afterlife, called the Tranquiline Halls. They believe that upon death the soul continues in its past role, but towards the regaining of the Tranquiline Halls. In Alethkar, a man's highest calling is as a warrior in life to remain a warrior in the afterlife. The religion also tells of the Lost Radiants, an order who once fought against the Voidbringers during the wars against them on Roshar (known as Desolations). Vorinism gave the Knights Radiant the moniker \"Lost Radiants\" after they apparently betrayed humanity at some point in the distant past. Vorinism is arranged in devotaries, whose ardents aim to assist people in advancing their Callings, which are tasks to which one dedicates their life as a method of worship. Each person selects a devotary based on variances in beliefs, talents or personality traits, and may change their selection at any point in their life. Some examples are the Devotary of Sincerity, who are encouraged to learn and ask questions, and the Devotary of Denial. Adolin Kholin's calling, for example, is Dueling. The priesthood of the Vorin religion are referred to as ardents.\n",
    "Those who reject the existence of the Almighty, such as Jasnah Kholin, are referred to as heretics. Followers of other religions mentioned in The Way of Kings are Stone Shamans, Ysperists and Maakians.\n",
    "\n",
    "Shardblades and Shardplate:\n",
    "Shardblades are powerful swords that have the ability to cut through any non-living matter with ease. When used on living creatures, they can kill or maim with a single cut by the blade passing through the living soul. They can also render limbs useless when they cut through them. The only known defenses against a Shardblade are Shardplate, shields called \"half-shards\", another Shardblade, or an aluminum blade (according to \"Rhythm of War\"). Those who own a Shardblade can summon their blade from thin air in ten heartbeats and can make their blade disappear at will.[52] The blades are rare and highly valued, and there are estimated to be fewer than one hundred known blades in the world.[53]\n",
    "Shardplate is full plate armor that both protects and strengthens the wearer. The armor provides protection against Surgebinding, as one wearing the armor cannot be \"lashed\" directly.[54] Repeated strikes at the same spot on the armor by regular weapons or Shardblades can cause the armor to crack and break. The armor can be repaired or \"regrown\", though it takes a long time.[55]\n",
    "A full shardbearer, one wielding both Shardblade and Shardplate, is a force capable of turning the tide of battle on its own. Kaladin and Syl express a revulsion to the Shardblades wielded by the Alethi. During Dalinar's visions, he sees the Knights Radiant wearing Shardplate and wielding Shardblades, but he notes that the plate when worn by the Radiants glows. Additionally, the number of Blades and Plate worn by the Radiants is much greater than the number left in the world at the main timeline of The Way of Kings. Most Shardblades are actually dead spren that come alive for a period of time by attuning themselves to their owner's heartbeat.[56]\n",
    "Shardblades wielded by the Knights Radiant are the Knight's spren taking the physical form of a weapon (often a sword, but can take the form of any weapon or a shield). Hence, these Shardblades are a physical manifestation of a living spren. 'Living' Shardblades can be summoned instantly, and do not require the summoning period of ten heartbeats. There are also ten Honorblades that grant the powers of one order of Radiants. These weapons don't appear to be physical manifestations of spren, dead or alive, and were wielded by The Heralds until nine of them were abandoned at the end of Aharietiam, or the last desolation. Szeth, the assassin in white, uses an Honorblade of Jezrien in the first two books, and the Herald, Nalan, wields the Honorblade of the Skybreakers.\n",
    "\n",
    "Magic:\n",
    "Surgebinding\n",
    "Surgebinding refers to a group of ten magic systems that stem from Honor and Cultivation, two of the three Shards of Adonalsium present on Roshar. Each of Surgebinding's ten systems revolves around 'binding' two natural 'Surges,' for instance Gravity and Adhesion, to the Surgebinder's will. Surgebinding is powered by Stormlight, and the ability is granted to humans through bonding with a Spren, a type of elemental spirit native to Roshar. There are ten Surgebinding's branches, with Windrunning and powers of Lightweavers (Transformation - Soulcasting and Illumination - illusions), described most thoroughly.\n",
    "Windrunning is an ability where the wielder uses the power of Stormlight to affect gravity and adhesion. It is described in three methods known as the \"Three Lashings\". A Basic Lashing changes the direction of gravitational pull for an individual (causing the person to be pulled towards another object or direction instead of towards the center of the planet). A Full Lashing is described as creating an almost[57] unbreakable bond between two objects until the Stormlight dissipates. A Reverse Lashing causes an object to have a much stronger gravitational pull, causing other objects to be pulled towards it.[57]\n",
    "The Knights Radiant\n",
    "The Knights Radiant originated through spren copying the abilities which the Heralds obtained through their Honorblades. The Knights Radiant gained power through spren by creating a bond with them called the Nahel bond. The bond gives the spren sentience while giving the human Surgebinding abilities. Two examples are Sylphrena, an Honorspren, who shares a bond with Kaladin, giving him the power to Surgebind; and Pattern, a Liespren (Cryptic), who shares a bond with Shallan, granting her power to Soulcast and create Illusions.\n",
    "The Knights Radiant lived by their order's Five Ideals, called The Immortal Words, with the First Ideal being the same for every order: Life before death, strength before weakness, journey before destination. The other four Ideals are different for each order, with the exception of the Order of the Lightweavers, having only the First Ideal. Lightweavers instead must admit truths to themselves in order to progress. Towards the end of The Way of Kings, Kaladin utters the Second Ideal for the Order of Windrunners: I will protect those who cannot protect themselves. Near the end of Words of Radiance, Kaladin whispers the Third Ideal for the Order of Windrunners: I will protect even those I hate, so long as it is right. At the climax of “Rhythm of War,” he speaks the Fourth Ideal: I accept that there will be those I cannot protect.\n",
    "Orders of the Knights Radiant\n",
    "Windrunners: Manipulate the Surges of Adhesion and Gravitation. Bonded to Honorspren.\n",
    "Skybreakers: Manipulate the Surges of Gravitation and Division. Bonded to Highspren.\n",
    "Dustbringers: Manipulate the Surges of Division and Abrasion. Bonded to Ashspren.\n",
    "Edgedancers: Manipulate the Surges of Abrasion and Progression. Bonded to Cultivationspren.\n",
    "Truthwatchers: Manipulate the Surges of Progression and Illumination. Bonded to Mistspren.\n",
    "Lightweavers: Manipulate the Surges of Illumination and Transformation. Bonded to Liespren (Cryptic).\n",
    "Elsecallers: Manipulate the Surges of Transformation and Transportation. Bonded to Inkspren.\n",
    "Willshapers: Manipulate the Surges of Transportation and Cohesion. Bonded to Lightspren (Reachers).\n",
    "Stonewards: Manipulate the Surges of Cohesion and Tension. Bonded to Peakspren.\n",
    "Bondsmiths: Manipulate the Surges of Tension and Adhesion. Bonded to three unique spren (the Nightwatcher, the Stormfather, and the Sibling). Therefore, there can only be three Bondsmiths.[58]\n",
    "\n",
    "Soulcasting and Shadesmar:\n",
    "Soulcasting is a practice where objects are changed from one form to another. It has proven able to turn rock into smoke, purify blood of poisons, and create food, among many other applications. Soulcasting is done by means of a device called a soulcaster that is powered by gems imbued with Stormlight. The type of gem placed inside the soulcaster determines what the caster can transform. With each use of a soulcaster, there is a chance of the gem cracking and being destroyed, especially when a large amount of matter is changed.[59] The main practitioners of soulcasting are the Ardents of the Vorin religion, however, there are a few exceptions. Shallan's father's steward knew how to use a soulcaster,[60] as he used Shallan's father's soulcaster.\n",
    "By the end of The Way of Kings, Jasnah Kholin and Shallan are capable of doing magic that has very similar effects to Soulcasting but does not require a soulcaster to be used, and does not require that the magic user is in physical contact with the object they transform.[61] This book does not go into great detail, but the magic involves mentally communicating with an unknown source to enter a place called Shadesmar. Shadesmar is described in detail in the book but mostly consists of a world made from tiny glass beads. Once within Shadesmar, the power from a Stormlight-infused gem can be used to manipulate objects.[62]\n",
    "In an interview with Brandon Sanderson, Shadesmar is described as a Cognitive Realm connecting all the worlds in the Cosmere. Sanderson has confirmed that Hoid is very good at using Shadesmar, that this is how Hoid moves between worlds, and that people on other worlds within the Cosmere have ways of accessing Shadesmar which are different from those the characters in this book use.[63]\n",
    "\n",
    "Voidbinding:\n",
    "Similar to Surgebinding, Voidbinding has a collection of surges that the third god of Roshar, Odium, makes available to his selected servants, called Fused. Unlike Knights Radiant, each Fused can only access a single surge, from a list of nine: Gravitation, Division, Abrasion, Progression, Illumination, Transformation, Transportation, Cohesion, and Tension. Adhesion is considered to be exclusive to Honor by the Fused, who cannot access it.\n",
    "Voidbinding includes various other types of magic associated with Odium, such as some of the forms that Parshendi/Singers can take on that align them to Odium's ideals.\n",
    "\n",
    "Old Magic:\n",
    "Very little is known about the Old Magic, a set of powers exclusive to the goddess Cultivation. Its most common effects are those granted by her powerful spren, the Nightwatcher, who will grant boons and curses to supplicants who come to her for assistance; any boon granted is offset by a mandatory applied curse. Supplicants will often find that a boon is not granted as they expected it to, as the Nightwatcher does not always understand human desires and customs; poorly-worded requests can have unsatisfactory results. The curses applied can be anywhere from mild to fully debilitating.\n",
    "\"\"\""
   ]
  },
  {
   "cell_type": "code",
   "execution_count": 128,
   "metadata": {},
   "outputs": [
    {
     "data": {
      "text/plain": [
       "PromptTemplate(input_variables=['text'], partial_variables={'format_instructions': 'The output should be formatted as a JSON instance that conforms to the JSON schema below.\\n\\nAs an example, for the schema {\"properties\": {\"foo\": {\"title\": \"Foo\", \"description\": \"a list of strings\", \"type\": \"array\", \"items\": {\"type\": \"string\"}}}, \"required\": [\"foo\"]}\\nthe object {\"foo\": [\"bar\", \"baz\"]} is a well-formatted instance of the schema. The object {\"properties\": {\"foo\": [\"bar\", \"baz\"]}} is not well-formatted.\\n\\nHere is the output schema:\\n```\\n{\"$defs\": {\"Question\": {\"properties\": {\"question\": {\"description\": \"The quiz question\", \"title\": \"Question\", \"type\": \"string\"}, \"options\": {\"description\": \"List of multiple-choice options\", \"items\": {\"type\": \"string\"}, \"title\": \"Options\", \"type\": \"array\"}, \"correct_answers\": {\"description\": \"List of correct answers\", \"items\": {\"type\": \"string\"}, \"title\": \"Correct Answers\", \"type\": \"array\"}}, \"required\": [\"question\", \"options\", \"correct_answers\"], \"title\": \"Question\", \"type\": \"object\"}}, \"properties\": {\"questions\": {\"description\": \"List of quiz questions\", \"items\": {\"$ref\": \"#/$defs/Question\"}, \"title\": \"Questions\", \"type\": \"array\"}}, \"required\": [\"questions\"]}\\n```'}, template='Generate a quiz from the following notes. Use only material from notes.\\n{format_instructions}\\nNotes:\\n{text}\\n')"
      ]
     },
     "execution_count": 128,
     "metadata": {},
     "output_type": "execute_result"
    }
   ],
   "source": [
    "from langchain import PromptTemplate\n",
    "from langchain.output_parsers import PydanticOutputParser\n",
    "\n",
    "# Define the Pydantic output parser\n",
    "parser_pydantic = PydanticOutputParser(pydantic_object=Quiz)\n",
    "\n",
    "# Create the prompt template\n",
    "prompt_template = PromptTemplate(\n",
    "    template=\"Generate a quiz from the following notes. Use only material from notes.\\n{format_instructions}\\nNotes:\\n{text}\\n\",\n",
    "    input_variables=[\"text\"],\n",
    "    partial_variables={\"format_instructions\": parser.get_format_instructions()},\n",
    ")\n",
    "prompt_template"
   ]
  },
  {
   "cell_type": "markdown",
   "metadata": {
    "vscode": {
     "languageId": "raw"
    }
   },
   "source": [
    "PromptTemplate(\n",
    "    input_variables=['notes'], \n",
    "partial_variables={\n",
    "    'format_instructions': 'The output should be formatted as a JSON instance that conforms to the JSON schema below.\\n\\n\n",
    "    As an example, for the schema \n",
    "        {\"properties\": \n",
    "            { \"foo\": \n",
    "                {\"title\": \"Foo\", \n",
    "                 \"description\": \"a list of strings\", \n",
    "                 \"type\": \"array\", \n",
    "                 \"items\": {\n",
    "                    \"type\": \"string\"\n",
    "                    }\n",
    "                }\n",
    "            }, \n",
    "             \"required\": [\"foo\"]\n",
    "        }\\n\n",
    "        the object {\"foo\": [\"bar\", \"baz\"]} is a well-formatted instance of the schema.\n",
    "        The object {\"properties\": {\"foo\": [\"bar\", \"baz\"]}} is not well-formatted.\\n\\n\n",
    "    Here is the output schema:\\n\n",
    "    ```\\n{\"$defs\": {\"Question\": {\"properties\": {\"question\": {\"description\": \"The quiz question\", \"title\": \"Question\", \"type\": \"string\"}, \"options\": {\"description\": \"List of multiple-choice options\", \"items\": {\"type\": \"string\"}, \"title\": \"Options\", \"type\": \"array\"}, \"correct_answers\": {\"description\": \"List of correct answers\", \"items\": {\"type\": \"string\"}, \"title\": \"Correct Answers\", \"type\": \"array\"}}, \"required\": [\"question\", \"options\", \"correct_answers\"], \"title\": \"Question\", \"type\": \"object\"}}, \"properties\": {\"questions\": {\"description\": \"List of quiz questions\", \"items\": {\"$ref\": \"#/$defs/Question\"}, \"title\": \"Questions\", \"type\": \"array\"}}, \"required\": [\"questions\"]}\\n```'}, \n",
    "template='Generate a quiz from the following notes.\\n{format_instructions}\\nNotes:\\n{notes}\\n')"
   ]
  },
  {
   "cell_type": "code",
   "execution_count": 129,
   "metadata": {},
   "outputs": [
    {
     "name": "stdout",
     "output_type": "stream",
     "text": [
      "questions=[Question(question='What is photosynthesis?', options=['Converting light energy into chemical energy', 'Converting chemical energy into light energy', 'Neither of the above'], correct_answers=['Converting light energy into chemical energy'])]\n"
     ]
    }
   ],
   "source": [
    "from langchain.text_splitter import RecursiveCharacterTextSplitter\n",
    "from langchain import LLMChain\n",
    "\n",
    "\n",
    "llm = ChatOllama(\n",
    "    model=\"llama3:instruct\",\n",
    "    keep_alive=0,\n",
    "    temperature=0.0,\n",
    "    top_k=50,\n",
    "    top_p=0.5,\n",
    "    verbose=True,\n",
    "    format=\"json\",\n",
    ")\n",
    "\n",
    "llm_chain = {\"text\": RunnablePassthrough()} | prompt_template | llm | parser_pydantic\n",
    "\n",
    "# Example usage\n",
    "notes = \"Photosynthesis is the process used by plants to convert light energy into chemical energy.\"\n",
    "quiz_json = llm_chain.invoke(notes)\n",
    "print(quiz_json)"
   ]
  },
  {
   "cell_type": "code",
   "execution_count": 130,
   "metadata": {},
   "outputs": [
    {
     "data": {
      "text/plain": [
       "Quiz(questions=[Question(question='What is photosynthesis?', options=['Converting light energy into chemical energy', 'Converting chemical energy into light energy', 'Neither of the above'], correct_answers=['Converting light energy into chemical energy'])])"
      ]
     },
     "execution_count": 130,
     "metadata": {},
     "output_type": "execute_result"
    }
   ],
   "source": [
    "Quiz(\n",
    "    questions=[\n",
    "        Question(\n",
    "            question=\"What is photosynthesis?\",\n",
    "            options=[\n",
    "                \"Converting light energy into chemical energy\",\n",
    "                \"Converting chemical energy into light energy\",\n",
    "                \"Neither of the above\",\n",
    "            ],\n",
    "            correct_answers=[\"Converting light energy into chemical energy\"],\n",
    "        )\n",
    "    ]\n",
    ")"
   ]
  },
  {
   "cell_type": "code",
   "execution_count": 146,
   "metadata": {},
   "outputs": [],
   "source": [
    "from pydantic import BaseModel, Field, field_validator\n",
    "from typing import List\n",
    "\n",
    "\n",
    "class Question(BaseModel):\n",
    "    question: str = Field(description=\"The quiz question\")\n",
    "    options: List[str] = Field(description=\"List of multiple-choice options\")\n",
    "    correct_answers: List[str] = Field(description=\"List of correct answers\")\n",
    "\n",
    "    # @field_validator(\"options\")\n",
    "    # def check_options_length(cls, v):\n",
    "    #     if len(v) != 4:\n",
    "    #         raise ValueError(\"Each question must have exactly 4 options.\")\n",
    "    #     return v\n",
    "\n",
    "    # @field_validator(\"correct_answers\")\n",
    "    # def check_correct_answers_length(cls, v):\n",
    "    #     if len(v) != 1:\n",
    "    #         raise ValueError(\"There must be exactly one correct answer.\")\n",
    "    #     return v\n",
    "\n",
    "\n",
    "class Quiz(BaseModel):\n",
    "    questions: List[Question] = Field(description=\"List of quiz questions\")"
   ]
  },
  {
   "cell_type": "code",
   "execution_count": 159,
   "metadata": {},
   "outputs": [
    {
     "name": "stdout",
     "output_type": "stream",
     "text": [
      "{'questions': [Question(question='What is the process used by plants to convert light energy into chemical energy?', options=['Respiration', 'Photosynthesis', 'Decomposition', 'Evaporation'], correct_answers=['Photosynthesis'])]}\n"
     ]
    }
   ],
   "source": [
    "from langchain import PromptTemplate\n",
    "from langchain.output_parsers import PydanticOutputParser\n",
    "from langchain.text_splitter import RecursiveCharacterTextSplitter\n",
    "from langchain.chains import LLMChain\n",
    "from langchain_community.chat_models import ChatOllama\n",
    "from langchain_core.runnables import RunnablePassthrough\n",
    "\n",
    "\n",
    "class QuizGenerator:\n",
    "    def __init__(self):\n",
    "        self.parser = PydanticOutputParser(pydantic_object=Quiz)\n",
    "        self.prompt_template = PromptTemplate(\n",
    "            template=\"Generate a quiz from the following notes. Use only material from notes.\\nEach question should have four options, and one correct answer which must be included in the options.\\n{format_instructions}\\nNotes:\\n{text}\\n\",\n",
    "            input_variables=[\"text\"],\n",
    "            partial_variables={\n",
    "                \"format_instructions\": self.parser.get_format_instructions()\n",
    "            },\n",
    "        )\n",
    "\n",
    "        self.text_splitter = RecursiveCharacterTextSplitter(\n",
    "            chunk_size=1000,\n",
    "            chunk_overlap=100,\n",
    "        )\n",
    "\n",
    "        self.llm = ChatOllama(\n",
    "            model=\"llama3:instruct\",\n",
    "            keep_alive=0,\n",
    "            temperature=0.0,\n",
    "            top_k=50,\n",
    "            top_p=0.5,\n",
    "            verbose=True,\n",
    "            format=\"json\",\n",
    "        )\n",
    "\n",
    "        self.llm_chain = (\n",
    "            {\"text\": RunnablePassthrough()}\n",
    "            | self.prompt_template\n",
    "            | self.llm\n",
    "            | self.parser\n",
    "        )\n",
    "\n",
    "    def generate_quiz(self, notes: str) -> dict:\n",
    "        chunks = self.text_splitter.split_text(notes)\n",
    "        questions = []\n",
    "        for chunk in chunks:\n",
    "            response = self.llm_chain.invoke({\"text\": chunk})\n",
    "            questions.extend(response.questions)\n",
    "        return Quiz(questions=questions)\n",
    "\n",
    "\n",
    "if __name__ == \"__main__\":\n",
    "    notes = \"Photosynthesis is the process used by plants to convert light energy into chemical energy.\"\n",
    "    generator = QuizGenerator()\n",
    "    quiz_json = generator.generate_quiz(notes)\n",
    "    print(quiz_json)"
   ]
  },
  {
   "cell_type": "code",
   "execution_count": null,
   "metadata": {},
   "outputs": [],
   "source": []
  },
  {
   "cell_type": "code",
   "execution_count": 148,
   "metadata": {},
   "outputs": [],
   "source": [
    "generator = QuizGenerator()\n",
    "quiz_json = generator.generate_quiz(text_giant)"
   ]
  },
  {
   "cell_type": "code",
   "execution_count": 150,
   "metadata": {},
   "outputs": [
    {
     "name": "stdout",
     "output_type": "stream",
     "text": [
      "{'questions': [Question(question='What is the text?', options=['Earth', 'Mars', 'Jupiter', 'World'], correct_answers=['World']), Question(question='What is the correct answer?', options=['Yes', 'No', 'Maybe', 'World'], correct_answers=['World']), Question(question='What is the native name for the planet on which The Stormlight Archive is set?', options=['Roshar', 'Shinovar', 'Honor', 'Cultivation'], correct_answers=['Roshar']), Question(question='Who settled Roshar?', options=['Odium', 'Honor and Cultivation', 'The Shards', 'The Stormlight Archive Authors'], correct_answers=['Honor and Cultivation']), Question(question='What are people from Roshar called?', options=['Rosharians', 'Shinovarians', 'Highstormers', 'Stormsurvivors'], correct_answers=['Rosharians']), Question(question='How many moons does Roshar have?', options=['One', 'Two', 'Three', 'Four'], correct_answers=['Three']), Question(question='What is characterized by a very violent storm front traveling from east to west on Roshar?', options=['Highstorms', 'Lowstorms', 'Rainstorms', 'Windstorms'], correct_answers=['Highstorms']), Question(question='What is the frequency of highstorms on Roshar?', options=['Rarely', 'Frequently', 'Never', 'Always'], correct_answers=['Frequently']), Question(question='Do storm wardens have an easy time predicting highstorm schedules?', options=['Yes', 'No', 'It depends', 'They are able to accurately predict their schedule through complex mathematics'], correct_answers=['They are able to accurately predict their schedule through complex mathematics']), Question(question='How do flora and fauna on Roshar cope with the highstorms?', options=['By moving away from the storms', 'Through complex mathematics', 'By evolving to adapt to the condition', 'None of the above'], correct_answers=['By evolving to adapt to the condition']), Question(question='What were the Roshar nations known as during the Heraldic Epochs?', options=['Silver Kingdoms', 'Golden Cities', 'Makabaki States', 'Heraldic Realms'], correct_answers=['Silver Kingdoms']), Question(question='What happened to the Silver Kingdoms after the departure of the Heralds and the demise of the Orders of Knights Radiant?', options=['They merged into a single nation', 'They split into smaller kingdoms', 'They disappeared completely', 'They remained unchanged'], correct_answers=['They split into smaller kingdoms']), Question(question='Which city is mentioned as being part of the Frostlands in the notes?', options=['Kharbranth', 'Natani', 'Shinovar', 'Rira'], correct_answers=['Kharbranth', 'Natani']), Question(question='What was Azir, according to the notes?', options=['A prominent Makabaki country', 'The capital of Roshar', 'A nation that existed before the Heraldic Epochs', 'A city in the Frostlands'], correct_answers=['A prominent Makabaki country']), Question(question='What was Shinovar, according to the notes?', options=['A nation that existed during the Heraldic Epochs', 'A prominent Makabaki country', 'A city in the Frostlands', 'One of the Silver Kingdoms'], correct_answers=['A prominent Makabaki country']), Question(question='What are some of the races featured in The Stormlight Archive?', options=['Humans', 'Partly Human', 'Various Ethnicities', 'Alien Species'], correct_answers=['Various Ethnicities']), Question(question='Which race is renowned for their trading and merchant skills?', options=['Alethi', 'Veden', 'Thaylens', 'Natan'], correct_answers=['Thaylens']), Question(question='What is a distinctive feature of the Alethi people?', options=['Pale Skin', 'Dark Hair', 'Tan Skin', 'Long Eyebrows'], correct_answers=['Tan Skin', 'Dark Hair']), Question(question='Which race has pale skin and black hair, with some having red hair?', options=['Veden', 'Natan', 'Thaylens', 'Alethi'], correct_answers=['Veden']), Question(question='What is a notable feature of the Natan people?', options=['Faintly Bluish Skin', 'Gloves', 'Tan Skin', 'Dark Hair'], correct_answers=['Faintly Bluish Skin', 'Gloves']), Question(question='What do the Horneaters consider a delicacy?', options=['Animal horns', 'Shells and claws', 'Fruits and vegetables', 'Meat'], correct_answers=['Animal horns', 'Shells and claws']), Question(question='What is the average height of the Unkalaki?', options=['Under 5 feet (1.5 m)', 'Over 7 feet (2.1 m)', 'Between 5-6 feet (1.5-1.8 m)', 'Exactly 6 feet (1.8 m)'], correct_answers=['Over 7 feet (2.1 m)']), Question(question='Where is the Unkalaki homeland located?', options=['The mountains of Jah Keved', 'The plains of Jah Keved', 'The forests of Jah Keved', 'The cities of Jah Keved'], correct_answers=['The mountains of Jah Keved']), Question(question='What is the physical appearance of the Parshendi?', options=['Marbled red and white or red and black skin', 'Smooth gray skin', 'Scaly green skin', 'Furry brown skin'], correct_answers=['Marbled red and white or red and black skin']), Question(question=\"What is the purpose of the Parshendi's exoskeleton?\", options=['To protect them from harm', 'To make them look more intimidating', 'To help them breathe underwater', 'To act as natural armor'], correct_answers=['To act as natural armor']), Question(question='How do the Parshendi communicate with each other', options=['Through spoken language', 'Through songs and rhythms in their heads', 'Through written messages', 'Through hand gestures'], correct_answers=['Through songs and rhythms in their heads']), Question(question='What is the name of the mentally limited form of the Parshendi species?', options=['Parshmen', 'Singers', 'Listeners', 'Warriors'], correct_answers=['Parshmen']), Question(question='What is unique about the Shin race?', options=['They have dark skin', 'They stand taller than most others', 'They lack epicanthic folds and have white skin', 'They have bigger and rounder eyes'], correct_answers=['They lack epicanthic folds and have white skin']), Question(question='What is unique about the Makabaki race?', options=['They stand shorter than most others', 'They have bigger and rounder eyes', 'They have dark skin and hair', 'They are made of many small creatures with exoskeletons'], correct_answers=['They have dark skin and hair']), Question(question='What is unique about the Dysian Aimians (Sleepless)?', options=['They can change their bodies slightly', 'They have white-blue skin and shadows that point the wrong way', 'They are made of many small creatures with exoskeletons called hordelings', 'They stand taller than most others'], correct_answers=['They are made of many small creatures with exoskeletons called hordelings']), Question(question='What is unique about the Siah Aimians?', options=['They have dark skin and hair', 'They can change their bodies slightly', 'They have white-blue skin and shadows that point the wrong way', 'They are made of many small creatures with exoskeletons'], correct_answers=['They have white-blue skin and shadows that point the wrong way']), Question(question='What is the class structure?', options=['Class diagram', 'Object-oriented programming', 'Data structures', 'Algorithm'], correct_answers=['Class diagram']), Question(question=\"What are the primary factors that determine a person's class in Alethkar and Jah Keved?\", options=['Eye color', 'Birthright', 'Social status', 'Occupation'], correct_answers=['Eye color']), Question(question='What is the typical social standing of people with dark eye colors (brown, dark green, charcoal grey) in these nations?', options=['Nobles and ruling class', 'Peasants and slaves', 'Middle-class merchants', 'Artisans'], correct_answers=['Peasants and slaves']), Question(question='What is the term for the further class distinctions within the nahn (darkeyes) and dahn (lighteyes) systems?', options=['Nahn and Dahn', 'Shah and Rahl', 'Khan and Khaness', 'Sultan and Sultaness'], correct_answers=['Nahn and Dahn']), Question(question='What is the highest level of social standing in the dahn system, exclusive to the king?', options=['10th dahn', '1st dahn', '5th dahn', '9th dahn'], correct_answers=['1st dahn']), Question(question='What is the composition of the first dahn?', options=['The king and queen', 'The king alone', 'The queen alone', 'The entire royal family'], correct_answers=['The king alone']), Question(question='What can cause a dark-eyed individual to obtain light eyes?', options=['Obtaining Shardblades', 'Eating certain foods', 'Practicing magic', 'Inheriting from parents'], correct_answers=['Obtaining Shardblades']), Question(question='What is Spren?', options=['A god', 'A being of pure energy', 'A mythical creature', 'A type of magic'], correct_answers=['A being of pure energy']), Question(question='What is the nature of Spren?', options=['They are gods', 'They are beings of pure energy', 'They are mythical creatures', 'They are a type of magic'], correct_answers=['They are beings of pure energy']), Question(question='What are Spren in the land of Roshar?', options=['Spirits drawn to different conditions or emotions', 'Intelligent beings that can communicate with humans', 'Forces of nature/emotion having little to no intelligence', 'Beings that only appear when something changes'], correct_answers=['Spirits drawn to different conditions or emotions']), Question(question='What is the primary characteristic of Cryptics (also known as liespren)?', options=['They are highly intelligent and can communicate with humans', 'They have little to no intelligence and are seen as forces of nature/emotion', 'They are the most common type of spren', \"They dislike being referred to as 'liespren'\"], correct_answers=['They have little to no intelligence and are seen as forces of nature/emotion']), Question(question='What is a notable characteristic of Honorspren?', options=['They are the most intelligent type of spren', 'They have little to no intelligence and are seen as forces of nature/emotion', 'They can bond with humans and grant surgebinding powers', 'They only appear when something changes'], correct_answers=['They can bond with humans and grant surgebinding powers']), Question(question='What is the primary source of power for the 10 orders of the Knights Radiant?', options=['The Radiants themselves', 'Their bond with spren', 'Their connection to the natural world', 'Their ability to communicate with other Radiants'], correct_answers=['Their bond with spren']), Question(question='Who bonded with the thief Lift, allowing her to surgebind?', options=['Wyndle', 'Dalinar Kholin', 'Jasnah', 'The Stormfather'], correct_answers=['Wyndle']), Question(question='Who bonded a spren in an unconventional manner?', options=['Lift', 'Dalinar Kholin', 'Jasnah', 'The Stormfather'], correct_answers=['Dalinar Kholin']), Question(question='What type of spren did Jasnah bond?', options=['Stormspren', 'Inkspren', 'Windspren', 'Skyblinder'], correct_answers=['Inkspren']), Question(question='What do some spren share characteristics with?', options=['Quantum mechanics', 'Gravity', 'Electricity', 'Chemistry'], correct_answers=['Quantum mechanics']), Question(question='What happens to the recorded state of a spren when it is tested more thoroughly?', options=['It remains stable', 'It changes at random', 'It disappears', 'It becomes intelligent'], correct_answers=['It changes at random']), Question(question='What are Spren according to the second book?', options=['Physical forms of humans', 'Concepts and ideas given physical form by the human collective subconscious', 'Intelligent beings from another realm', 'Creatures that can only be seen in Shadesmar'], correct_answers=['Concepts and ideas given physical form by the human collective subconscious']), Question(question='What is the cost of most self-awareness for higher spren when they cross over into the physical realm?', options=['They lose their intelligence', 'They forget their past', 'They become less intelligent', 'Most of their self-awareness'], correct_answers=['Most of their self-awareness']), Question(question='What do black beads in Shadesmar represent?', options=['A type of flora', 'Cities and buildings', 'Physical forms on Roshar', 'The collective subconscious'], correct_answers=['Physical forms on Roshar']), Question(question='What is the topic of this quiz?', options=['Religion:', 'History', 'Science', 'Math'], correct_answers=['Religion:']), Question(question='What is the format of the output?', options=['JSON', 'XML', 'HTML', 'Text'], correct_answers=['JSON']), Question(question='What is the main theme of Vorinism?', options=['The struggle between forces of the Voidbringers and humanity', 'The importance of warrior culture', 'The concept of the Tranquiline Halls', 'The role of the Lost Radiants'], correct_answers=['The struggle between forces of the Voidbringers and humanity']), Question(question=\"What is the purpose of a person's soul in Vorinism?\", options=['To continue in its past role towards regaining the Tranquiline Halls', 'To become one with the Voidbringers', 'To assist people in advancing their Callings', 'To remain a warrior in the afterlife'], correct_answers=['To continue in its past role towards regaining the Tranquiline Halls']), Question(question='What is the name given to the Knights Radiant by Vorinism?', options=['The Lost Radiants', 'The Voidbringers', 'The Radiant Warriors', 'The Celestial Guardians'], correct_answers=['The Lost Radiants']), Question(question='How are people organized in Vorinism?', options=['By devotaries based on variances in beliefs, talents or personality traits', 'By warrior clans', 'By city-states', 'By nation-states'], correct_answers=['By devotaries based on variances in beliefs, talents or personality traits']), Question(question='How does a person select their devotary?', options=['based on variances in beliefs', 'based on talents or personality traits', 'randomly', 'by asking for guidance'], correct_answers=['based on variances in beliefs, talents or personality traits']), Question(question='What is the purpose of a Devotary of Sincerity?', options=['to learn and ask questions', \"to deny others' existence\", 'to duel with others', 'to become an ardent'], correct_answers=['to learn and ask questions']), Question(question=\"What is Adolin Kholin's calling?\", options=['Dueling', 'Learning', 'Healing', 'Teaching'], correct_answers=['Dueling']), Question(question='What are the priesthood of the Vorin religion referred to as?', options=['devotaries', 'ardents', 'duelists', 'learners'], correct_answers=['ardents']), Question(question='What is a term used to refer to those who reject the existence of the Almighty?', options=['Heresy', 'Atheism', 'Polytheism', 'Monotheism'], correct_answers=['Heresy']), Question(question='Which religions are mentioned in The Way of Kings?', options=['Stone Shamans, Ysperists and Maakians', \"Jasnah Kholin's Faith\", \"The Almighty's Church\", 'All the above'], correct_answers=['Stone Shamans, Ysperists and Maakians']), Question(question=\"What is a Shardblade's ability against non-living matter?\", options=['Cut through with ease', 'Be unable to cut through', 'Have no effect', 'Destroy completely'], correct_answers=['Cut through with ease']), Question(question='What happens when a Shardblade cuts through living creatures?', options=['Heals the wound', 'Maims or kills', 'Has no effect', 'Creates a shield'], correct_answers=['Maims or kills']), Question(question='What are some known defenses against a Shardblade?', options=[\"Shardplate, shields called 'half-shards', another Shardblade, or an aluminum blade\", 'Only Shardplate and shields', 'Only Shardplate and another Shardblade', 'None'], correct_answers=[\"Shardplate, shields called 'half-shards', another Shardblade, or an aluminum blade\"]), Question(question='How long does it take to summon a Shardblade from thin air?', options=['One heartbeat', 'Ten heartbeats', 'Twenty heartbeats', 'Thirty heartbeats'], correct_answers=['Ten heartbeats']), Question(question='What is the estimated number of known Shardblades in the world?', options=['Fewer than one hundred', 'More than one hundred', 'Exactly one hundred', 'Unknown'], correct_answers=['Fewer than one hundred']), Question(question='What is Shardplate?', options=['Full plate armor that only protects the wearer', 'Plate armor that provides protection against Surgebinding', 'A type of Shardblade', 'A type of regular weapon'], correct_answers=['Plate armor that provides protection against Surgebinding']), Question(question='What happens to Shardplate if it is repeatedly struck at the same spot by regular weapons or Shardblades?', options=['It becomes stronger and more durable', 'It can be repaired quickly', 'It cracks and breaks', 'It turns into a different type of armor'], correct_answers=['It cracks and breaks']), Question(question=\"How does one repair or 'regrow' Shardplate?\", options=['By using magic', 'By using regular weapons', 'By taking a long time', 'By using Shardblades'], correct_answers=['By taking a long time']), Question(question='What is a full shardbearer capable of?', options=['Turning the tide of battle on its own', 'Wielding only Shardplate', \"Attuning themselves to their owner's heartbeat\", 'Wearing only Shardblades'], correct_answers=['Turning the tide of battle on its own']), Question(question='How do Kaladin and Syl react to the Shardblades wielded by the Alethi?', options=['With excitement', 'With revulsion', 'With indifference', 'With curiosity'], correct_answers=['With revulsion']), Question(question=\"What is notable about the Shardplate worn by the Knights Radiant in Dalinar's visions?\", options=['It does not glow', 'It glows', 'It is made of a different material', 'It is only worn by one person'], correct_answers=['It glows']), Question(question='What are most Shardblades actually dead?', options=[\"Spren that come alive for a period of time by attuning themselves to their owner's heartbeat\", 'Shardplate that can be worn by multiple people', 'Alethi who wield the blades', 'Radiants who wear the plate'], correct_answers=[\"Spren that come alive for a period of time by attuning themselves to their owner's heartbeat\"]), Question(question='What is a Shardblade?', options=['A physical manifestation of a living spren', 'A magical sword that can only be wielded by Knights Radiant', 'A type of shield used by the Knights Radiant', 'A weapon that requires a summoning period of ten heartbeats'], correct_answers=['A physical manifestation of a living spren']), Question(question='What is an Honorblade?', options=['A physical manifestation of a dead spren', 'A magical sword that can only be wielded by The Heralds', 'A type of shield used by the Knights Radiant', 'A weapon that grants the powers of one order of Radiants'], correct_answers=['A weapon that grants the powers of one order of Radiants']), Question(question=\"What is unique about 'living' Shardblades?\", options=['They require a summoning period of ten heartbeats', 'They can only be wielded by The Heralds', 'They can be summoned instantly', 'They are physical manifestations of dead spren'], correct_answers=['They can be summoned instantly']), Question(question='What is Surgebinding?', options=['A type of magic that stems from Honor', 'A group of ten magic systems that stem from Honor and Cultivation', 'A form of magic that only works on Roshar', 'A type of elemental spirit native to Roshar'], correct_answers=['B']), Question(question='What is the source of power for Surgebinding?', options=['Stormlight', 'Honor', 'Cultivation', 'The three Shards of Adonalsium'], correct_answers=['A']), Question(question='How are humans granted the ability to use Surgebinding?', options=['Through bonding with a Spren, a type of elemental spirit native to Roshar', 'By using Honor and Cultivation', 'By channeling the three Shards of Adonalsium', 'Through a magical ritual'], correct_answers=['A']), Question(question='How many branches are there in Surgebinding?', options=['Five', 'Ten', 'Twenty', 'Thirty'], correct_answers=['B']), Question(question='What is Windrunning?', options=['An ability to manipulate fire', 'An ability to affect gravity and adhesion', 'A method of teleportation', 'A form of magic'], correct_answers=['An ability to affect gravity and adhesion']), Question(question='How many methods are there for Windrunning?', options=['Two', 'Three', 'Four', 'Five'], correct_answers=['Three']), Question(question='What is the effect of a Basic Lashing in Windrunning?', options=['Creates an unbreakable bond between two objects', 'Changes the direction of gravitational pull for an individual', 'Increases the strength of gravity on one object', 'Decreases the strength of gravity on all objects'], correct_answers=['Changes the direction of gravitational pull for an individual']), Question(question='What is the effect of a Full Lashing in Windrunning?', options=['Creates a weak bond between two objects', 'Increases the strength of gravity on one object', 'Decreases the strength of gravity on all objects', 'Creates an almost unbreakable bond between two objects'], correct_answers=['Creates an almost unbreakable bond between two objects']), Question(question='What is the effect of a Reverse Lashing in Windrunning?', options=['Causes an object to have a weaker gravitational pull', 'Causes other objects to be repelled from it', 'Causes an object to have a much stronger gravitational pull, causing other objects to be pulled towards it', 'Causes an object to float'], correct_answers=['Causes an object to have a much stronger gravitational pull, causing other objects to be pulled towards it']), Question(question='What is the origin of the Knights Radiant?', options=['The Knights Radiant originated through their own abilities', 'The Knights Radiant originated through spren copying the abilities which the Heralds obtained through their Honorblades', 'The Knights Radiant were created by the Almighty', 'The Knights Radiant are a group of immortal beings'], correct_answers=['The Knights Radiant originated through spren copying the abilities which the Heralds obtained through their Honorblades']), Question(question='What is the bond between humans and spren called?', options=['Nahel bond', 'Honorbond', 'Surgebinding', 'Bond of Sentience'], correct_answers=['Nahel bond']), Question(question='What abilities does Kaladin gain through his Nahel bond with Sylphrena?', options=['The power to Surgebind and Soulcast', 'Only the power to Surgebind', 'The ability to create Illusions', 'No special abilities'], correct_answers=['Only the power to Surgebind']), Question(question='What type of spren does Pattern share a bond with Shallan?', options=['Honorspren', 'Liespren (Cryptic)', 'Truthspren', 'Orderspren'], correct_answers=['Liespren (Cryptic)']), Question(question='What is the First Ideal for every order of the Knights Radiant?', options=['Life before death, strength before weakness', 'I will protect those who cannot protect themselves', 'I accept that there will be those I cannot protect', 'Journey before destination'], correct_answers=['Life before death, strength before weakness']), Question(question='What is the Second Ideal for the Order of Windrunners?', options=['I will protect even those I hate, so long as it is right', 'I accept that there will be those I cannot protect', 'Manipulate the Surges of Adhesion and Gravitation', 'Bonded to Honorspren'], correct_answers=['I will protect those who cannot protect themselves']), Question(question='What is the Third Ideal for the Order of Windrunners?', options=['I accept that there will be those I cannot protect', 'Manipulate the Surges of Adhesion and Gravitation', 'Bonded to Honorspren', 'I will protect even those I hate, so long as it is right'], correct_answers=['I will protect even those I hate, so long as it is right']), Question(question='What is the Fourth Ideal for the Order of Windrunners?', options=['Life before death, strength before weakness', 'Journey before destination', 'Manipulate the Surges of Adhesion and Gravitation', 'I accept that there will be those I cannot protect'], correct_answers=['I accept that there will be those I cannot protect']), Question(question='What is unique about the Order of the Lightweavers?', options=['They have only one Ideal', 'They are bonded to Honorspren', 'They manipulate the Surges of Adhesion and Gravitation', 'They must admit truths to themselves in order to progress'], correct_answers=['They must admit truths to themselves in order to progress']), Question(question='What is the Surge manipulation ability for Windrunners?', options=['Manipulate the Surges of Adhesion', 'Manipulate the Surges of Gravitation', 'Manipulate the Surges of Division', 'Bonded to Honorspren'], correct_answers=['Manipulate the Surges of Adhesion and Gravitation']), Question(question='What is the Surge manipulation ability for Skybreakers?', options=['Manipulate the Surges of Adhesion', 'Manipulate the Surges of Gravitation', 'Manipulate the Surges of Division', 'Bonded to Highspren'], correct_answers=['Manipulate the Surges of Gravitation and Division']), Question(question='What is the Surge manipulation ability for Dustbringers?', options=['Manipulate the Surges of Adhesion', 'Manipulate the Surges of Gravitation', 'Manipulate the Surges of Division', 'Bonded to Ashspren'], correct_answers=['Manipulate the Surges of Division and Abrasion']), Question(question='What is the Surge manipulation ability for Edgedancers?', options=['Manipulate the Surges of Adhesion', 'Manipulate the Surges of Gravitation', 'Manipulate the Surges of Division', 'Bonded to Cultivationspren'], correct_answers=['Manipulate the Surges of Abrasion and Progression']), Question(question='What is the Surge manipulation ability for Truthwatchers?', options=['Manipulate the Surges of Adhesion', 'Manipulate the Surges of Gravitation', 'Manipulate the Surges of Division', 'Bonded to Mistspren'], correct_answers=['Manipulate the Surges of Progression and Illumination']), Question(question='What is the Surge manipulation ability for Lightweavers?', options=['Manipulate the Surges of Adhesion', 'Manipulate the Surges of Gravitation', 'Manipulate the Surges of Division', 'Bonded to Liespren (Cryptic)'], correct_answers=['Manipulate the Surges of Illumination and Transformation']), Question(question='What is the Surge manipulation ability for Elsecallers?', options=['Manipulate the Surges of Adhesion', 'Manipulate the Surges of Gravitation', 'Manipulate the Surges of Division', 'Bonded to Inkspren'], correct_answers=['Manipulate the Surges of Transformation and Transportation']), Question(question='What is the Surge manipulation ability for Willshapers?', options=['Manipulate the Surges of Adhesion', 'Manipulate the Surges of Gravitation', 'Manipulate the Surges of Division', 'Bonded to Lightspren (Reachers)'], correct_answers=['Manipulate the Surges of Transportation and Cohesion']), Question(question='What is the Surge manipulation ability for Stonewards?', options=['Manipulate the Surges of Adhesion', 'Manipulate the Surges of Gravitation', 'Manipulate the Surges of Division', 'Bonded to Peakspren'], correct_answers=['Manipulate the Surges of Cohesion and Tension']), Question(question='What is the role of Stonewards?', options=['Manipulate the Surges of Cohesion', 'Manipulate the Surges of Tension', 'Bonded to Peakspren', 'None of the above'], correct_answers=['Manipulate the Surges of Cohesion and Tension. Bonded to Peakspren.']), Question(question='What is the role of Bondsmiths?', options=['Manipulate the Surges of Cohesion and Adhesion', 'Bonded to three unique spren (the Nightwatcher, the Stormfather, and the Sibling)', 'There can be more than three Bondsmiths', 'None of the above'], correct_answers=['Manipulate the Surges of Tension and Adhesion. Bonded to three unique spren (the Nightwatcher, the Stormfather, and the Sibling). Therefore, there can only be three Bondsmiths.']), Question(question='What is Soulcasting?', options=['A practice that turns objects into other forms', 'A method of purifying blood', 'A way to create food', 'A device powered by gems'], correct_answers=['A practice that turns objects into other forms']), Question(question='What powers a soulcaster?', options=['Gems imbued with Stormlight', 'Magic from the Vorin religion', 'The power of the Ardents', \"The strength of the user's will\"], correct_answers=['Gems imbued with Stormlight']), Question(question='Who are the main practitioners of Soulcasting?', options=['Ardents of the Vorin religion', \"Shallan's father's steward\", 'The Vorin priests', 'The Knights Radiant'], correct_answers=['Ardents of the Vorin religion']), Question(question='What kind of magic do Jasnah Kholin and Shallan learn by the end of The Way of Kings?', options=['Soulcasting', 'Surgebinding', 'Investiture', 'Shadesmar manipulation'], correct_answers=['Shadesmar manipulation']), Question(question='What is required for the magic learned by Jasnah Kholin and Shallan to be used?', options=['Physical contact with the object', 'A soulcaster to be used', 'Mental communication with an unknown source', 'Stormlight-infused gem'], correct_answers=['Mental communication with an unknown source']), Question(question='What is Shadesmar described as being made of in the book?', options=['Tiny glass beads', 'Water', 'Fire', 'Earth'], correct_answers=['Tiny glass beads']), Question(question='According to Brandon Sanderson, what is Shadesmar?', options=['A Cognitive Realm connecting all the worlds', 'A physical realm between worlds', 'A magical portal system', 'A mystical connection'], correct_answers=['A Cognitive Realm connecting all the worlds']), Question(question='How does Hoid move between worlds according to Brandon Sanderson?', options=['Using a magical portal', 'Through Shadesmar', 'By teleportation', 'Very good at using Shadesmar'], correct_answers=['Very good at using Shadesmar']), Question(question='What is the purpose of Shadesmar in the Cosmere, according to Brandon Sanderson?', options=['To connect all the worlds', 'To separate the worlds', 'To create a magical barrier', 'To facilitate inter-world travel'], correct_answers=['To connect all the worlds']), Question(question='What is Voidbinding similar to?', options=['Surgebinding', 'Stormlight', 'Bonding', 'Magic'], correct_answers=['Surgebinding']), Question(question='Who makes Voidbinding surges available to his selected servants?', options=['Odium', 'Honor', 'Taravari', 'Nalein'], correct_answers=['Odium']), Question(question='How many surges can each Fused access in Voidbinding?', options=['One', 'Nine', 'Three', 'Seven'], correct_answers=['One']), Question(question='Which surge is considered exclusive to Honor by the Fused?', options=['Adhesion', 'Gravitation', 'Division', 'Tension'], correct_answers=['Adhesion']), Question(question='What are the most common effects of Old Magic?', options=['Boons and curses granted by the Nightwatcher', 'Only boons are granted, no curses', 'Curses only, no boons', 'No effects at all'], correct_answers=['Boons and curses granted by the Nightwatcher']), Question(question=\"What happens when a supplicant's request is not well-worded?\", options=['The Nightwatcher grants the boon as expected', 'A curse is applied, but the boon is still granted', 'The Nightwatcher does not understand human desires and customs', 'No effect at all'], correct_answers=['The Nightwatcher does not understand human desires and customs']), Question(question='What is offset by a mandatory applied curse when a boon is granted?', options=['A different boon', 'A different curse', \"The supplicant's request\", 'The Old Magic itself'], correct_answers=[\"The supplicant's request\"])]}\n"
     ]
    }
   ],
   "source": [
    "print(quiz_json)"
   ]
  },
  {
   "cell_type": "code",
   "execution_count": 152,
   "metadata": {},
   "outputs": [
    {
     "data": {
      "text/plain": [
       "124"
      ]
     },
     "execution_count": 152,
     "metadata": {},
     "output_type": "execute_result"
    }
   ],
   "source": [
    "len(quiz_json[\"questions\"])"
   ]
  }
 ],
 "metadata": {
  "kernelspec": {
   "display_name": "caps",
   "language": "python",
   "name": "python3"
  },
  "language_info": {
   "codemirror_mode": {
    "name": "ipython",
    "version": 3
   },
   "file_extension": ".py",
   "mimetype": "text/x-python",
   "name": "python",
   "nbconvert_exporter": "python",
   "pygments_lexer": "ipython3",
   "version": "3.11.9"
  }
 },
 "nbformat": 4,
 "nbformat_minor": 2
}

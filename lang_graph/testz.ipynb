{
 "cells": [
  {
   "cell_type": "code",
   "execution_count": 2,
   "metadata": {},
   "outputs": [],
   "source": [
    "text = \"\"\"\n",
    "Encoder: The encoder is composed of a stack of N = 6 identical layers. Each layer has two sub-layers. The first is a multi-head self-attention mechanism, and the second is a simple, position- wise fully connected feed-forward network. We employ a residual connection [11] around each of the two sub-layers, followed by layer normalization [1]. That is, the output of each sub-layer is LayerNorm(x + Sublayer(x)), where Sublayer(x) is the function implemented by the sub-layer itself. To facilitate these residual connections, all sub-layers in the model, as well as the embedding layers, produce outputs of dimension dmodel = 512.\n",
    "Decoder: The decoder is also composed of a stack of N = 6 identical layers. In addition to the two sub-layers in each encoder layer, the decoder inserts a third sub-layer, which performs multi-head attention over the output of the encoder stack. Similar to the encoder, we employ residual connections around each of the sub-layers, followed by layer normalization. We also modify the self-attention sub-layer in the decoder stack to prevent positions from attending to subsequent positions. This masking, combined with fact that the output embeddings are offset by one position, ensures that the predictions for position i can depend only on the known outputs at positions less than i.\n",
    "\"\"\""
   ]
  },
  {
   "cell_type": "code",
   "execution_count": 7,
   "metadata": {},
   "outputs": [
    {
     "name": "stdout",
     "output_type": "stream",
     "text": [
      "content='{\\n    \"encoder\": [\\n        {\\n            \"type\": \"multi-head_self_attention\",\\n            \"num_heads\": 6,\\n            \"feed_forward_network\": true,\\n            \"residual_connection\": true,\\n            \"layer_normalization\": true\\n        },\\n        {\\n            \"type\": \"multi-head_self_attention\",\\n            \"num_heads\": 6,\\n            \"feed_forward_network\": true,\\n            \"residual_connection\": true,\\n            \"layer_normalization\": true\\n        },\\n        {\\n            \"type\": \"multi-head_self_attention\",\\n            \"num_heads\": 6,\\n            \"feed_forward_network\": true,\\n            \"residual_connection\": true,\\n            \"layer_normalization\": true\\n        },\\n        {\\n            \"type\": \"multi-head_self_attention\",\\n            \"num_heads\": 6,\\n            \"feed_forward_network\": true,\\n            \"residual_connection\": true,\\n            \"layer_normalization\": true\\n        },\\n        {\\n            \"type\": \"multi-head_self_attention\",\\n            \"num_heads\": 6,\\n            \"feed_forward_network\": true,\\n            \"residual_connection\": true,\\n            \"layer_normalization\": true\\n        },\\n        {\\n            \"type\": \"feed_forward_network\",\\n            \"residual_connection\": true,\\n            \"layer_normalization\": true\\n        }\\n    ],\\n    \"decoder\": [\\n        {\\n            \"type\": \"multi-head_self_attention\",\\n            \"num_heads\": 6,\\n            \"feed_forward_network\": true,\\n            \"residual_connection\": true,\\n            \"layer_normalization\": true\\n        },\\n        {\\n            \"type\": \"multi-head_self_attention\",\\n            \"num_heads\": 6,\\n            \"feed_forward_network\": true,\\n            \"residual_connection\": true,\\n            \"layer_normalization\": true\\n        },\\n        {\\n            \"type\": \"multi-head_self_attention\",\\n            \"num_heads\": 6,\\n            \"feed_forward_network\": true,\\n            \"residual_connection\": true,\\n            \"layer_normalization\": true\\n        },\\n        {\\n            \"type\": \"multi-head_self_attention\",\\n            \"num_heads\": 6,\\n            \"feed_forward_network\": true,\\n            \"residual_connection\": true,\\n            \"layer_normalization\": true\\n        },\\n        {\\n            \"type\": \"multi-head_self_attention\",\\n            \"num_heads\": 6,\\n            \"feed_forward_network\": true,\\n            \"residual_connection\": true,\\n            \"layer_normalization\": true\\n        },\\n        {\\n            \"type\": \"multi-head_self_attention\",\\n            \"num_heads\": 6,\\n            \"feed_forward_network\": true,\\n            \"residual_connection\": true,\\n            \"layer_normalization\": true\\n        }\\n    ],\\n    \"shared_parameters\": [\\n        {\\n            \"type\": \"embedding\",\\n            \"output_dim\": 512\\n        },\\n        {\\n            \"type\": \"position-wise_feed_forward_network\",\\n            \"output_dim\": 512\\n        }\\n    ]\\n}' response_metadata={'model': 'aya:latest', 'created_at': '2024-06-12T17:18:08.048155Z', 'message': {'role': 'assistant', 'content': ''}, 'done_reason': 'stop', 'done': True, 'total_duration': 34612742583, 'load_duration': 4503738125, 'prompt_eval_count': 300, 'prompt_eval_duration': 988635000, 'eval_count': 668, 'eval_duration': 29113332000} id='run-4d63af0a-350b-49f2-8041-a50a319e6d14-0'\n"
     ]
    }
   ],
   "source": [
    "# from langchain.prompts import PromptTemplate\n",
    "from langchain_community.llms import Ollama\n",
    "from langchain.schema import HumanMessage, SystemMessage\n",
    "from langchain_community.chat_models import ChatOllama\n",
    "\n",
    "\n",
    "class QuizGenerator:\n",
    "    def __init__(self) -> None:\n",
    "        self.system_msg = \"\"\"\n",
    "            Create several multiple choice questions based on provided text.\n",
    "            Send questions in order of importance and quality.\n",
    "            Strictly follow python-like format:\n",
    "            [\"Which of the following subjects could fly?\", [\"Cat\", \"Airplane\", \"Coffee\", \"\"], [\"Airplane\"]]\n",
    "            [\"Which component(s) do(es) not exists in physical world?\", [\"Network Interphace Cart\", \"Router\", \"Quick Sort\", \"Ghost\"], [\"Quick Sort\", \"Ghost\"]]\n",
    "            \"\"\"\n",
    "\n",
    "        self.llm = ChatOllama(\n",
    "            model=\"llama3:8b\",\n",
    "            format=\"json\",\n",
    "            keep_alive=0,\n",
    "            temperature=0.0,\n",
    "            system=self.system_msg,\n",
    "            top_k=10,\n",
    "            top_p=0.05,\n",
    "            verbose=True,\n",
    "\n",
    "            num_thread=12,\n",
    "        )\n",
    "\n",
    "    def generate_quiz(\n",
    "        self,\n",
    "        text: str,  # choose a data format\n",
    "    ) -> str:\n",
    "        question = self.llm.invoke(\n",
    "            text\n",
    "        )\n",
    "        return question\n",
    "\n",
    "\n",
    "q = QuizGenerator()\n",
    "ans = q.generate_quiz(text=text)\n",
    "print(ans)"
   ]
  }
 ],
 "metadata": {
  "kernelspec": {
   "display_name": "caps",
   "language": "python",
   "name": "python3"
  },
  "language_info": {
   "codemirror_mode": {
    "name": "ipython",
    "version": 3
   },
   "file_extension": ".py",
   "mimetype": "text/x-python",
   "name": "python",
   "nbconvert_exporter": "python",
   "pygments_lexer": "ipython3",
   "version": "3.11.9"
  }
 },
 "nbformat": 4,
 "nbformat_minor": 2
}

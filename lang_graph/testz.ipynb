{
 "cells": [
  {
   "cell_type": "code",
   "execution_count": 2,
   "metadata": {},
   "outputs": [],
   "source": [
    "text = \"\"\"\n",
    "Encoder: The encoder is composed of a stack of N = 6 identical layers. Each layer has two sub-layers. The first is a multi-head self-attention mechanism, and the second is a simple, position- wise fully connected feed-forward network. We employ a residual connection [11] around each of the two sub-layers, followed by layer normalization [1]. That is, the output of each sub-layer is LayerNorm(x + Sublayer(x)), where Sublayer(x) is the function implemented by the sub-layer itself. To facilitate these residual connections, all sub-layers in the model, as well as the embedding layers, produce outputs of dimension dmodel = 512.\n",
    "Decoder: The decoder is also composed of a stack of N = 6 identical layers. In addition to the two sub-layers in each encoder layer, the decoder inserts a third sub-layer, which performs multi-head attention over the output of the encoder stack. Similar to the encoder, we employ residual connections around each of the sub-layers, followed by layer normalization. We also modify the self-attention sub-layer in the decoder stack to prevent positions from attending to subsequent positions. This masking, combined with fact that the output embeddings are offset by one position, ensures that the predictions for position i can depend only on the known outputs at positions less than i.\n",
    "\"\"\""
   ]
  },
  {
   "cell_type": "code",
   "execution_count": 3,
   "metadata": {},
   "outputs": [],
   "source": [
    "text2 = \"\"\"\n",
    "World\n",
    "Roshar is the native name for the planet on which The Stormlight Archive is set. It is also the name of the supercontinent on which the main events of the series take place. The planet was settled by the two Shards Honor and Cultivation, while their rival Odium exercises his influence on the planet. [46] People from Roshar are called Rosharans.[47] Roshar is the second planet from its sun and has three moons, each of which waxes and wanes separately from the others.[48] The world is regularly assaulted by Highstorms, storms characterized by a very violent storm front traveling from east to west (beginning at the Origin), followed by weaker rains. The lands in Shinovar, farthest west on the main continent of Roshar, are mostly protected from the Highstorms by the high peaks of the Misted Mountains. Most plants that grow in Shinovar, which resemble real-world plant life, cannot grow in other parts of Roshar. Highstorms come frequently and, though they do not appear to follow a simple pattern, storm wardens are able to accurately predict their schedule through complex mathematics. Flora and fauna have evolved to cope with this condition.[49]\n",
    "\n",
    "Nations and regions:\n",
    "During the Heraldic Epochs, Roshar was ruled by a coalition of ten nations known as the Silver Kingdoms. In the Era of Solitude, following the departure of the Heralds and the demise of the Orders of Knights Radiant, those kingdoms split into smaller ones, some of the more important being:\n",
    "Alethkar\n",
    "Jah Keved\n",
    "Herdaz\n",
    "Thaylenah\n",
    "Kharbranth and Natani cities in the Frostlands\n",
    "Numerous Makabaki countries, with Azir being most prominent\n",
    "Shinovar\n",
    "Rira and Iri\n",
    "\n",
    "Races:\n",
    "The Stormlight Archive features several different races, the majority of which are different ethnicities of human or partly human. Some of these races include:\n",
    "Thaylens: Renowned traders and merchants native to an island nation. They possess long eyebrows that can be styled to either droop or curve behind their ears.\n",
    "Alethi: Native to the nation of Alethkar, the Alethi are members of one of the four Vorin nations. They have a famed military heritage and are possessed of tan skin and dark hair.\n",
    "Veden: Native to the Vorin nation of Jah Keved, the Vedens are characterized by pale skin and black hair. Some have red hair, indicating Unkalaki ancestry.\n",
    "Natan: Native to the Vorin nation inhabiting New Natanan, the Natan often wear gloves and have faintly bluish skin.\n",
    "Unkalaki (Horneaters): A relatively rare race, the Horneaters are called thus by other races because the Unkalaki consider animal horns, shells, and claws to be a delicacy. They possess reddish hair and dark skin, and stand well over seven feet (2.1 m) tall. The Unkalaki homeland is in the mountains of Jah Keved. Their culture is very different from the other Vorin cultures.\n",
    "Parshendi (Singers/Listeners): A proud nonhuman race, living on Shattered Plains with a strong warrior culture. The Parshendi are viewed by many other races as savages because of their culture and past deeds. They have marbled red and white or red and black skin that forms patterns unique to each individual and an exoskeleton that acts as natural armor. They are at war with the Alethi during the novels' main timeline. They use spren to morph into many different forms, each with a unique function and set of abilities. These forms also change the appearance of the Parshendi who use them, for example taking warform makes them more physically able and grants them the mindset of a soldier. The workform allows them to be sturdier to perform physical labor. They also communicate through songs and rhythms in their heads. At the start of the series, many members of this species are found in a mentally limited form known as Parshmen, who are enslaved by various human groups.\n",
    "Shin: A race native to the region of Shinovar, Shin have white skin and lack epicanthic folds (unlike the other races). They stand shorter than most others, averaging five feet tall. They also have bigger and rounder eyes.\n",
    "Makabaki: Native to the nation of Azir and neighboring countries, Makabaki have dark skin and hair.\n",
    "Dysian Aimians: otherwise known as the Sleepless. A non-human race native to Aimia, but of otherworldly origin. They are made of many small creatures with exoskeletons called hordelings. There are 24 known Sleepless on Roshar.\n",
    "Siah Aimians: a non-human race also native to Aimia. They are characterized as having white-blue skin and shadows that point the wrong way. They can also change their bodies slightly, for example adding a tattoo mentally, or removing their sense of smell.\n",
    "\n",
    "Class structure:\n",
    "Much of The Way of Kings takes place within the nations of Alethkar and Jah Keved. Both of these nations divide their people into classes, primarily based on the color of their eyes. Those with dark eye colors (brown, dark green, charcoal grey) are mostly peasants (and can even be made slaves). Those with light eye colors (blue, yellow, tan, green, violet, orange, etc.) are the nobles and generally more educated ruling class. Within these classes, there are further class distinctions known as nahn (for darkeyes) and dahn (for lighteyes). Both have ten levels within. For the nahn, they range from slaves in the 10th nahn to full citizens with the right to travel in the second and first nahn. In the dahn system, lighteyes in the 10th dahn are considered only slightly better than darkeyes, and a very rich darkeyed man or woman may marry into an extremely poor lighteyed family, in very rare cases. The first dahn is composed of the king alone. It has been known for dark eyed individuals to obtain light eyes through obtaining Shardblades, a supernatural weapon in this world; however, this is exceptionally rare.\n",
    "\n",
    "Spren:\n",
    "Spren are spirits in the land of Roshar which are drawn to different conditions or emotions. There are thousands of varieties. One character, Hesina, the mother of Kaladin states, \"Spren appear when something changes - when fear appears, or when it begins to rain. They are the heart of change, and therefore the heart of all things.\"[50] Their intelligence varies, with Cryptics (also known as liespren though they themselves dislike the term) and honorspren among the most intelligent, and more common spren, seen as forces of nature/emotion having little to no intelligence. Jasnah Kholin also mentions that the 10 orders of the Knights Radiant drew their power from spren. Some notable spren are Syl, an Honorspren who shares a bond with Kaladin, giving him surgebinding powers of Windrunner; Pattern, a Cryptic who created a bond with Shallan, allowing her to surgebind; and the cultivationspren Wyndle, who bonded with the thief Lift, allowing her to surgebind. Dalinar Kholin also bonds a spren, the Stormfather, though he does so in an unconventional manner. Jasnah bonded an inkspren named Ivory.\n",
    "Some spren, such as flamespren, share characteristics with current observations in quantum mechanics, and are based on them.[51] For example, when they are observed they remain stable in the recorded state, but when tested more thoroughly, they change as though at random.\n",
    "As revealed in the second book, Spren are \"concepts and ideas\" given physical form by the human collective subconscious. Among the many forms of spren, some are intelligent, possess self-awareness, and have even built their own cities. They reside naturally in Shadesmar, and often cross over into the physical realm. This comes at the cost of most of their self-awareness for the higher, more exalted spren, which they can regain by making bonds with humans. The sea and land are reversed in Shadesmar—what would be land on Roshar is a sea of black beads in Shadesmar, each representing a physical form on Roshar. Shadesmar also contains cities and a strange type of flora.\n",
    "\n",
    "Religion:\n",
    "Much of the world follows the Vorin religion. Vorinism tells of a struggle between forces of the Voidbringers and humanity. The Voidbringers forced humanity out of its afterlife, called the Tranquiline Halls. They believe that upon death the soul continues in its past role, but towards the regaining of the Tranquiline Halls. In Alethkar, a man's highest calling is as a warrior in life to remain a warrior in the afterlife. The religion also tells of the Lost Radiants, an order who once fought against the Voidbringers during the wars against them on Roshar (known as Desolations). Vorinism gave the Knights Radiant the moniker \"Lost Radiants\" after they apparently betrayed humanity at some point in the distant past. Vorinism is arranged in devotaries, whose ardents aim to assist people in advancing their Callings, which are tasks to which one dedicates their life as a method of worship. Each person selects a devotary based on variances in beliefs, talents or personality traits, and may change their selection at any point in their life. Some examples are the Devotary of Sincerity, who are encouraged to learn and ask questions, and the Devotary of Denial. Adolin Kholin's calling, for example, is Dueling. The priesthood of the Vorin religion are referred to as ardents.\n",
    "Those who reject the existence of the Almighty, such as Jasnah Kholin, are referred to as heretics. Followers of other religions mentioned in The Way of Kings are Stone Shamans, Ysperists and Maakians.\n",
    "\n",
    "Shardblades and Shardplate:\n",
    "Shardblades are powerful swords that have the ability to cut through any non-living matter with ease. When used on living creatures, they can kill or maim with a single cut by the blade passing through the living soul. They can also render limbs useless when they cut through them. The only known defenses against a Shardblade are Shardplate, shields called \"half-shards\", another Shardblade, or an aluminum blade (according to \"Rhythm of War\"). Those who own a Shardblade can summon their blade from thin air in ten heartbeats and can make their blade disappear at will.[52] The blades are rare and highly valued, and there are estimated to be fewer than one hundred known blades in the world.[53]\n",
    "Shardplate is full plate armor that both protects and strengthens the wearer. The armor provides protection against Surgebinding, as one wearing the armor cannot be \"lashed\" directly.[54] Repeated strikes at the same spot on the armor by regular weapons or Shardblades can cause the armor to crack and break. The armor can be repaired or \"regrown\", though it takes a long time.[55]\n",
    "A full shardbearer, one wielding both Shardblade and Shardplate, is a force capable of turning the tide of battle on its own. Kaladin and Syl express a revulsion to the Shardblades wielded by the Alethi. During Dalinar's visions, he sees the Knights Radiant wearing Shardplate and wielding Shardblades, but he notes that the plate when worn by the Radiants glows. Additionally, the number of Blades and Plate worn by the Radiants is much greater than the number left in the world at the main timeline of The Way of Kings. Most Shardblades are actually dead spren that come alive for a period of time by attuning themselves to their owner's heartbeat.[56]\n",
    "Shardblades wielded by the Knights Radiant are the Knight's spren taking the physical form of a weapon (often a sword, but can take the form of any weapon or a shield). Hence, these Shardblades are a physical manifestation of a living spren. 'Living' Shardblades can be summoned instantly, and do not require the summoning period of ten heartbeats. There are also ten Honorblades that grant the powers of one order of Radiants. These weapons don't appear to be physical manifestations of spren, dead or alive, and were wielded by The Heralds until nine of them were abandoned at the end of Aharietiam, or the last desolation. Szeth, the assassin in white, uses an Honorblade of Jezrien in the first two books, and the Herald, Nalan, wields the Honorblade of the Skybreakers.\n",
    "\n",
    "Magic:\n",
    "Surgebinding\n",
    "Surgebinding refers to a group of ten magic systems that stem from Honor and Cultivation, two of the three Shards of Adonalsium present on Roshar. Each of Surgebinding's ten systems revolves around 'binding' two natural 'Surges,' for instance Gravity and Adhesion, to the Surgebinder's will. Surgebinding is powered by Stormlight, and the ability is granted to humans through bonding with a Spren, a type of elemental spirit native to Roshar. There are ten Surgebinding's branches, with Windrunning and powers of Lightweavers (Transformation - Soulcasting and Illumination - illusions), described most thoroughly.\n",
    "Windrunning is an ability where the wielder uses the power of Stormlight to affect gravity and adhesion. It is described in three methods known as the \"Three Lashings\". A Basic Lashing changes the direction of gravitational pull for an individual (causing the person to be pulled towards another object or direction instead of towards the center of the planet). A Full Lashing is described as creating an almost[57] unbreakable bond between two objects until the Stormlight dissipates. A Reverse Lashing causes an object to have a much stronger gravitational pull, causing other objects to be pulled towards it.[57]\n",
    "The Knights Radiant\n",
    "The Knights Radiant originated through spren copying the abilities which the Heralds obtained through their Honorblades. The Knights Radiant gained power through spren by creating a bond with them called the Nahel bond. The bond gives the spren sentience while giving the human Surgebinding abilities. Two examples are Sylphrena, an Honorspren, who shares a bond with Kaladin, giving him the power to Surgebind; and Pattern, a Liespren (Cryptic), who shares a bond with Shallan, granting her power to Soulcast and create Illusions.\n",
    "The Knights Radiant lived by their order's Five Ideals, called The Immortal Words, with the First Ideal being the same for every order: Life before death, strength before weakness, journey before destination. The other four Ideals are different for each order, with the exception of the Order of the Lightweavers, having only the First Ideal. Lightweavers instead must admit truths to themselves in order to progress. Towards the end of The Way of Kings, Kaladin utters the Second Ideal for the Order of Windrunners: I will protect those who cannot protect themselves. Near the end of Words of Radiance, Kaladin whispers the Third Ideal for the Order of Windrunners: I will protect even those I hate, so long as it is right. At the climax of “Rhythm of War,” he speaks the Fourth Ideal: I accept that there will be those I cannot protect.\n",
    "Orders of the Knights Radiant\n",
    "Windrunners: Manipulate the Surges of Adhesion and Gravitation. Bonded to Honorspren.\n",
    "Skybreakers: Manipulate the Surges of Gravitation and Division. Bonded to Highspren.\n",
    "Dustbringers: Manipulate the Surges of Division and Abrasion. Bonded to Ashspren.\n",
    "Edgedancers: Manipulate the Surges of Abrasion and Progression. Bonded to Cultivationspren.\n",
    "Truthwatchers: Manipulate the Surges of Progression and Illumination. Bonded to Mistspren.\n",
    "Lightweavers: Manipulate the Surges of Illumination and Transformation. Bonded to Liespren (Cryptic).\n",
    "Elsecallers: Manipulate the Surges of Transformation and Transportation. Bonded to Inkspren.\n",
    "Willshapers: Manipulate the Surges of Transportation and Cohesion. Bonded to Lightspren (Reachers).\n",
    "Stonewards: Manipulate the Surges of Cohesion and Tension. Bonded to Peakspren.\n",
    "Bondsmiths: Manipulate the Surges of Tension and Adhesion. Bonded to three unique spren (the Nightwatcher, the Stormfather, and the Sibling). Therefore, there can only be three Bondsmiths.[58]\n",
    "\n",
    "Soulcasting and Shadesmar:\n",
    "Soulcasting is a practice where objects are changed from one form to another. It has proven able to turn rock into smoke, purify blood of poisons, and create food, among many other applications. Soulcasting is done by means of a device called a soulcaster that is powered by gems imbued with Stormlight. The type of gem placed inside the soulcaster determines what the caster can transform. With each use of a soulcaster, there is a chance of the gem cracking and being destroyed, especially when a large amount of matter is changed.[59] The main practitioners of soulcasting are the Ardents of the Vorin religion, however, there are a few exceptions. Shallan's father's steward knew how to use a soulcaster,[60] as he used Shallan's father's soulcaster.\n",
    "By the end of The Way of Kings, Jasnah Kholin and Shallan are capable of doing magic that has very similar effects to Soulcasting but does not require a soulcaster to be used, and does not require that the magic user is in physical contact with the object they transform.[61] This book does not go into great detail, but the magic involves mentally communicating with an unknown source to enter a place called Shadesmar. Shadesmar is described in detail in the book but mostly consists of a world made from tiny glass beads. Once within Shadesmar, the power from a Stormlight-infused gem can be used to manipulate objects.[62]\n",
    "In an interview with Brandon Sanderson, Shadesmar is described as a Cognitive Realm connecting all the worlds in the Cosmere. Sanderson has confirmed that Hoid is very good at using Shadesmar, that this is how Hoid moves between worlds, and that people on other worlds within the Cosmere have ways of accessing Shadesmar which are different from those the characters in this book use.[63]\n",
    "\n",
    "Voidbinding:\n",
    "Similar to Surgebinding, Voidbinding has a collection of surges that the third god of Roshar, Odium, makes available to his selected servants, called Fused. Unlike Knights Radiant, each Fused can only access a single surge, from a list of nine: Gravitation, Division, Abrasion, Progression, Illumination, Transformation, Transportation, Cohesion, and Tension. Adhesion is considered to be exclusive to Honor by the Fused, who cannot access it.\n",
    "Voidbinding includes various other types of magic associated with Odium, such as some of the forms that Parshendi/Singers can take on that align them to Odium's ideals.\n",
    "\n",
    "Old Magic:\n",
    "Very little is known about the Old Magic, a set of powers exclusive to the goddess Cultivation. Its most common effects are those granted by her powerful spren, the Nightwatcher, who will grant boons and curses to supplicants who come to her for assistance; any boon granted is offset by a mandatory applied curse. Supplicants will often find that a boon is not granted as they expected it to, as the Nightwatcher does not always understand human desires and customs; poorly-worded requests can have unsatisfactory results. The curses applied can be anywhere from mild to fully debilitating.\n",
    " \"\"\""
   ]
  },
  {
   "cell_type": "code",
   "execution_count": 20,
   "metadata": {},
   "outputs": [],
   "source": [
    "ans1 = \"\"\"\n",
    "This text appears to be a summary of the magic systems in Brandon Sanderson's Stormlight Archive series, specifically the world of Roshar. Here are some key points:\\n\\n**Surgebinding**: A form of magic that allows humans to tap into the power of the planet and manipulate various aspects of reality. Surgebinders can bond with spren, which gives them sentience and grants them access to specific Surges.\\n\\n**Nahel Bond**: The bond between a human and a spren, which allows for the sharing of powers and abilities.\\n\\n**Orders of the Knights Radiant**: Ten orders of magic users who wield different Surges and are bonded to specific types of spren. Each order has its own unique abilities and ideals.\\n\\n**Soulcasting**: A form of magic that allows objects to be changed from one form to another, using a device called a soulcaster powered by gems imbued with Stormlight.\\n\\n**Shadesmar**: A mysterious realm that connects all the worlds in the Cosmere, allowing users to manipulate objects and communicate with unknown sources. It is described as a world made of tiny glass beads.\\n\\n**Voidbinding**: A form of magic associated with Odium, the third god of Roshar, which allows his servants (the Fused) to access specific Surges.\\n\\n**Old Magic**: A set of powers exclusive to the goddess Cultivation, which grants boons and curses to supplicants who come to her for assistance. The Nightwatcher, a powerful spren associated with Cultivation, is said to grant these boons and curses.\\n\\nOverall, this text provides an overview of the various magic systems in the Stormlight Archive series, including Surgebinding, Soulcasting, Shadesmar, Voidbinding, and Old Magic.\n",
    "\n",
    "\"\"\""
   ]
  },
  {
   "cell_type": "code",
   "execution_count": 40,
   "metadata": {},
   "outputs": [
    {
     "name": "stdout",
     "output_type": "stream",
     "text": [
      "content='Here are five multiple-choice questions based on the provided text:\\n\\n[\"What is the number of identical layers in the encoder?\", [\"1\", \"6\", \"3\", \"2\"], [\"6\"]]\\n\\n[\"What type of attention mechanism does each layer in the encoder have?\", [\"Multi-head self-attention\", \"Position-wise fully connected feed-forward network\", \"Simple attention\", \"Residual connection\"], [\"Multi-head self-attention\"]]\\n\\n[\"What is the purpose of the residual connections in the encoder and decoder?\", [\"To facilitate the stacking of layers\", \"To prevent positions from attending to subsequent positions\", \"To add layer normalization\", \"To implement the sub-layers themselves\"], [\"To facilitate these residual connections\"]]\\n\\n[\"What is the dimension of the output produced by each sub-layer in the model, as well as the embedding layers?\", [\"256\", \"512\", \"1024\", \"2048\"], [\"512\"]]\\n\\n[\"What modification does the decoder make to the self-attention sub-layer compared to the encoder?\", [\"It adds a third sub-layer\", \"It removes the layer normalization\", \"It prevents positions from attending to subsequent positions\", \"It increases the number of identical layers\"], [\"It prevents positions from attending to subsequent positions\"]]\\n\\nLet me know if you\\'d like me to adjust the difficulty level or create more questions!' response_metadata={'model': 'llama3:8b', 'created_at': '2024-06-13T20:49:22.911481Z', 'message': {'role': 'assistant', 'content': ''}, 'done_reason': 'stop', 'done': True, 'total_duration': 13056983791, 'load_duration': 1292206125, 'prompt_eval_count': 419, 'prompt_eval_duration': 1305851000, 'eval_count': 268, 'eval_duration': 10439475000} id='run-807d01ab-a9e6-4a59-9778-dcad149baece-0'\n"
     ]
    }
   ],
   "source": [
    "# from langchain.prompts import PromptTemplate\n",
    "from langchain.schema import HumanMessage, SystemMessage\n",
    "from langchain_community.chat_models import ChatOllama\n",
    "\n",
    "\n",
    "class QuizGenerator:\n",
    "    def __init__(self, model_name: str = \"llama3:8b\") -> None:\n",
    "        self.system_msg = \"\"\"\n",
    "            Create several multiple choice questions based on provided text.\n",
    "            Send questions in order of importance and quality.\n",
    "            Strictly follow python-like format as your answer:\n",
    "            [\"Which of the following subjects could fly?\", [\"Cat\", \"Airplane\", \"Coffee\"], [\"Airplane\"]]\n",
    "            [\"Which component(s) do(es) not exists in physical world?\", [\"Network Interphace Cart\", \"Router\", \"Quick Sort\", \"Apple\"], [\"Quick Sort\"]]\n",
    "            \"\"\"\n",
    "\n",
    "        self.llm = ChatOllama(\n",
    "            model=model_name,\n",
    "            keep_alive=0,\n",
    "            temperature=0.0,\n",
    "            top_k=30,\n",
    "            top_p=0.25,\n",
    "            verbose=True,\n",
    "        )\n",
    "\n",
    "    def generate_quiz(\n",
    "        self,\n",
    "        text: str,  # choose a data format\n",
    "    ) -> str:\n",
    "        question = self.llm.invoke([SystemMessage(self.system_msg), HumanMessage(text)])\n",
    "        return question\n",
    "\n",
    "\n",
    "q = QuizGenerator()\n",
    "ans = q.generate_quiz(text=text)\n",
    "print(ans)"
   ]
  },
  {
   "cell_type": "code",
   "execution_count": 15,
   "metadata": {},
   "outputs": [
    {
     "name": "stdout",
     "output_type": "stream",
     "text": [
      "content=\"This text appears to be a summary of the magic systems in Brandon Sanderson's Stormlight Archive series, specifically the world of Roshar. Here are some key points:\\n\\n**Surgebinding**: A form of magic that allows humans to tap into the power of the planet and manipulate various aspects of reality. Surgebinders can bond with spren, which gives them sentience and grants them access to specific Surges.\\n\\n**Nahel Bond**: The bond between a human and a spren, which allows for the sharing of powers and abilities.\\n\\n**Orders of the Knights Radiant**: Ten orders of magic users who wield different Surges and are bonded to specific types of spren. Each order has its own unique abilities and ideals.\\n\\n**Soulcasting**: A form of magic that allows objects to be changed from one form to another, using a device called a soulcaster powered by gems imbued with Stormlight.\\n\\n**Shadesmar**: A mysterious realm that connects all the worlds in the Cosmere, allowing users to manipulate objects and communicate with unknown sources. It is described as a world made of tiny glass beads.\\n\\n**Voidbinding**: A form of magic associated with Odium, the third god of Roshar, which allows his servants (the Fused) to access specific Surges.\\n\\n**Old Magic**: A set of powers exclusive to the goddess Cultivation, which grants boons and curses to supplicants who come to her for assistance. The Nightwatcher, a powerful spren associated with Cultivation, is said to grant these boons and curses.\\n\\nOverall, this text provides an overview of the various magic systems in the Stormlight Archive series, including Surgebinding, Soulcasting, Shadesmar, Voidbinding, and Old Magic.\" response_metadata={'model': 'llama3:8b', 'created_at': '2024-06-13T18:39:17.542179Z', 'message': {'role': 'assistant', 'content': ''}, 'done_reason': 'stop', 'done': True, 'total_duration': 20696261625, 'load_duration': 1640185333, 'prompt_eval_count': 1258, 'prompt_eval_duration': 3844526000, 'eval_count': 355, 'eval_duration': 15161182000} id='run-608efc6b-b4c6-4d3d-b9b5-720ed63baa8b-0'\n"
     ]
    }
   ],
   "source": [
    "from langchain_community.chat_models import ChatOllama\n",
    "\n",
    "\n",
    "class SummaryGenerator:\n",
    "    def __init__(self) -> None:\n",
    "        self.system_msg = \"\"\"\n",
    "        Make a summary of provided text. Find key points and build a summary around these key points.\n",
    "        \"\"\"\n",
    "\n",
    "        self.llm = ChatOllama(\n",
    "            model=\"llama3:8b\",\n",
    "            keep_alive=0,\n",
    "            temperature=0.0,\n",
    "            system=self.system_msg,\n",
    "            top_k=10,\n",
    "            top_p=0.05,\n",
    "            verbose=True,\n",
    "        )\n",
    "\n",
    "    def generate_summary(\n",
    "        self,\n",
    "        text: str,  # choose a data format\n",
    "    ) -> str:\n",
    "        question = self.llm.invoke(text)\n",
    "        return question\n",
    "\n",
    "\n",
    "q = SummaryGenerator()\n",
    "ans = q.generate_summary(text=text2)\n",
    "print(ans)"
   ]
  },
  {
   "cell_type": "code",
   "execution_count": 89,
   "metadata": {},
   "outputs": [],
   "source": [
    "from transformers import T5ForConditionalGeneration, AutoTokenizer, pipeline\n",
    "from langchain_huggingface import HuggingFacePipeline\n",
    "\n",
    "model_id = \"Falconsai/text_summarization\"  # To consider\n",
    "tokenizer = AutoTokenizer.from_pretrained(model_id)\n",
    "\n",
    "model = T5ForConditionalGeneration.from_pretrained(\n",
    "    pretrained_model_name_or_path=model_id,\n",
    "    use_safetensors=True,\n",
    ")"
   ]
  },
  {
   "cell_type": "code",
   "execution_count": 90,
   "metadata": {},
   "outputs": [
    {
     "name": "stderr",
     "output_type": "stream",
     "text": [
      "Token indices sequence length is longer than the specified maximum sequence length for this model (550 > 512). Running this sequence through the model will result in indexing errors\n"
     ]
    },
    {
     "data": {
      "text/plain": [
       "('World Roshar is the native name for the planet on which The Stormlight Archive is set . It is also the name of the supercontinent on which the main events of the series take place . The planet was settled by Shards Honor and Cultivation while their rival Odium exercises his influence on the planet .',\n",
       " 548,\n",
       " 70)"
      ]
     },
     "execution_count": 90,
     "metadata": {},
     "output_type": "execute_result"
    }
   ],
   "source": [
    "pipe = pipeline(\n",
    "    task=\"summarization\",\n",
    "    model=model,\n",
    "    tokenizer=tokenizer,\n",
    "    max_new_tokens=10000,\n",
    "    top_k=50,\n",
    "    temperature=0.1,\n",
    "    do_sample=True,\n",
    "    num_beams=20,\n",
    ")\n",
    "llm = HuggingFacePipeline(pipeline=pipe)\n",
    "ans2 = llm.invoke(text2[:2224])\n",
    "ans2, tokenizer(text=text2[:2224])[0].__len__(), tokenizer(text=ans2)[0].__len__()"
   ]
  },
  {
   "cell_type": "code",
   "execution_count": 38,
   "metadata": {},
   "outputs": [
    {
     "name": "stderr",
     "output_type": "stream",
     "text": [
      "Token indices sequence length is longer than the specified maximum sequence length for this model (4756 > 512). Running this sequence through the model will result in indexing errors\n"
     ]
    },
    {
     "data": {
      "text/plain": [
       "\"The Stormlight Archive is the name of the supercontinent on which the main events of the series take place . Shadesmar is a group of ten magic systems that stem from 'Living' and 'Surgebinding' The Knights Radiant are characterized by pale skin and dark hair, and are possessed of tan skin and black hair . There are also ten Honorblades that grant the powers of one order of Radiants .\""
      ]
     },
     "execution_count": 38,
     "metadata": {},
     "output_type": "execute_result"
    }
   ],
   "source": [
    "llm = HuggingFacePipeline.from_model_id(\n",
    "    model_id=\"Falconsai/text_summarization\",\n",
    "    task=\"summarization\",\n",
    "    # pipeline=pipe,\n",
    ")\n",
    "llm.invoke(text2)"
   ]
  },
  {
   "cell_type": "code",
   "execution_count": 67,
   "metadata": {},
   "outputs": [
    {
     "name": "stderr",
     "output_type": "stream",
     "text": [
      "Some weights of PegasusForConditionalGeneration were not initialized from the model checkpoint at google/pegasus-xsum and are newly initialized: ['model.decoder.embed_positions.weight', 'model.encoder.embed_positions.weight']\n",
      "You should probably TRAIN this model on a down-stream task to be able to use it for predictions and inference.\n"
     ]
    },
    {
     "data": {
      "text/plain": [
       "('The Stormlight Archive is a fantasy series set on the planet Roshar.',\n",
       " 437,\n",
       " 16)"
      ]
     },
     "execution_count": 67,
     "metadata": {},
     "output_type": "execute_result"
    }
   ],
   "source": [
    "from transformers import PegasusForConditionalGeneration, AutoTokenizer, pipeline\n",
    "from langchain_huggingface import HuggingFacePipeline\n",
    "\n",
    "model_id = \"google/pegasus-xsum\"  # Weights problems: need to train\n",
    "tokenizer = AutoTokenizer.from_pretrained(model_id)\n",
    "\n",
    "model = PegasusForConditionalGeneration.from_pretrained(\n",
    "    pretrained_model_name_or_path=model_id\n",
    ")\n",
    "\n",
    "\n",
    "pipe = pipeline(\n",
    "    \"summarization\",\n",
    "    model=model,\n",
    "    tokenizer=tokenizer,\n",
    "    max_new_tokens=1000,\n",
    "    top_k=50,\n",
    "    temperature=0.1,\n",
    "    do_sample=True,\n",
    ")\n",
    "llm = HuggingFacePipeline(pipeline=pipe)\n",
    "ans3 = llm.invoke(text2[:2024])\n",
    "\n",
    "ans3, tokenizer(text=text2[:2024])[0].__len__(), tokenizer(text=ans3)[0].__len__()"
   ]
  },
  {
   "cell_type": "code",
   "execution_count": 66,
   "metadata": {},
   "outputs": [
    {
     "name": "stderr",
     "output_type": "stream",
     "text": [
      "/Users/ilia/anaconda3/envs/caps/lib/python3.11/site-packages/huggingface_hub/file_download.py:1132: FutureWarning: `resume_download` is deprecated and will be removed in version 1.0.0. Downloads always resume when possible. If you want to force a new download, use `force_download=True`.\n",
      "  warnings.warn(\n"
     ]
    },
    {
     "data": {
      "text/plain": [
       "('Roshar is the native name for the planet on which The Stormlight Archive is set. It is also the name of the supercontinent on which the main events of the series take place. The planet was settled by the two Shards Honor and Cultivation, while rival Odium exercises his influence on the planet.',\n",
       " 234,\n",
       " 66)"
      ]
     },
     "execution_count": 66,
     "metadata": {},
     "output_type": "execute_result"
    }
   ],
   "source": [
    "from transformers import BartForConditionalGeneration, AutoTokenizer, pipeline\n",
    "from langchain_huggingface import HuggingFacePipeline\n",
    "\n",
    "model_id = \"facebook/bart-large-cnn\"\n",
    "tokenizer = AutoTokenizer.from_pretrained(model_id)\n",
    "\n",
    "model = BartForConditionalGeneration.from_pretrained(\n",
    "    pretrained_model_name_or_path=model_id,\n",
    "    use_safetensors=True,\n",
    ")\n",
    "\n",
    "pipe = pipeline(\n",
    "    task=\"summarization\",\n",
    "    model=model,\n",
    "    tokenizer=tokenizer,\n",
    "    max_new_tokens=10000,\n",
    "    top_k=50,\n",
    "    temperature=0.1,\n",
    "    do_sample=True,\n",
    ")\n",
    "llm = HuggingFacePipeline(pipeline=pipe)\n",
    "ans4 = llm.invoke(text2[:2024])\n",
    "ans4, tokenizer(text=text2[:2024])[0].__len__(), tokenizer(text=ans4)[0].__len__()"
   ]
  },
  {
   "cell_type": "code",
   "execution_count": 5,
   "metadata": {},
   "outputs": [],
   "source": [
    "from transformers import AutoModelForSeq2SeqLM, AutoTokenizer, pipeline\n",
    "from langchain_huggingface import HuggingFacePipeline\n",
    "\n",
    "model_id = \"slauw87/bart_summarisation\"  # To consider\n",
    "tokenizer = AutoTokenizer.from_pretrained(model_id)\n",
    "\n",
    "model = AutoModelForSeq2SeqLM.from_pretrained(model_id)\n",
    "\n",
    "pipe = pipeline(\n",
    "    task=\"summarization\",\n",
    "    model=model,\n",
    "    tokenizer=tokenizer,\n",
    "    max_new_tokens=10000,\n",
    "    top_k=70,\n",
    "    framework=\"pt\",\n",
    "    temperature=0.1,\n",
    "    do_sample=True,\n",
    "    # device=\"mps\",\n",
    "    num_beams=2,  # increase comp. load + better quality\n",
    "    # length_penalty=3.0\n",
    ")"
   ]
  },
  {
   "cell_type": "code",
   "execution_count": null,
   "metadata": {},
   "outputs": [],
   "source": [
    "llm = HuggingFacePipeline(pipeline=pipe)\n",
    "ans5 = llm.invoke(text2[:4000])\n",
    "\n",
    "ans5, tokenizer(text=text2[:4000])[0].__len__(), tokenizer(text=ans5)[0].__len__()"
   ]
  },
  {
   "cell_type": "code",
   "execution_count": 98,
   "metadata": {},
   "outputs": [
    {
     "data": {
      "text/plain": [
       "'Soulcasting is a form of magic that involves mentally communicating with an unknown source to enter Shadesmar. Voidbinding is a collection of surges that the third god of Roshar, Odium, makes available to his selected servants called Fused. Old Magic is a set of powers exclusive to the goddess Cultivation.'"
      ]
     },
     "execution_count": 98,
     "metadata": {},
     "output_type": "execute_result"
    }
   ],
   "source": [
    "(llm.invoke(text2[:4000]),)\n",
    "(llm.invoke(text2[4000:8000]),)\n",
    "(llm.invoke(text2[8000:12_000]),)\n",
    "(llm.invoke(text2[12_000:16_000]),)\n",
    "llm.invoke(text2[16_000:])"
   ]
  },
  {
   "cell_type": "code",
   "execution_count": 99,
   "metadata": {},
   "outputs": [],
   "source": [
    "ans = [\n",
    "    await llm.ainvoke(text2[:4000]),\n",
    "    await llm.ainvoke(text2[4000:8000]),\n",
    "    await llm.ainvoke(text2[8000:12_000]),\n",
    "    await llm.ainvoke(text2[12_000:16_000]),\n",
    "    await llm.ainvoke(text2[16_000:]),\n",
    "]"
   ]
  },
  {
   "cell_type": "code",
   "execution_count": 44,
   "metadata": {},
   "outputs": [],
   "source": [
    "seq = (\n",
    "    HuggingFacePipeline(\n",
    "        pipeline=pipeline(\n",
    "            task=\"summarization\",\n",
    "            model=model,\n",
    "            tokenizer=tokenizer,\n",
    "            max_new_tokens=10000,\n",
    "            top_k=70,\n",
    "            framework=\"pt\",\n",
    "            temperature=0.1,\n",
    "            do_sample=True,\n",
    "            device=\"cpu\",\n",
    "            num_beams=2,  # increase comp. load + better quality\n",
    "            # length_penalty=3.0\n",
    "        ),\n",
    "        verbose=True\n",
    "    )\n",
    ")\n",
    "batch = [\n",
    "    text2[:4000],\n",
    "    text2[4000:8000],\n",
    "    text2[8000:12_000],\n",
    "    text2[12_000:16_000],\n",
    "    text2[16_000:],\n",
    "]"
   ]
  },
  {
   "cell_type": "code",
   "execution_count": 45,
   "metadata": {},
   "outputs": [
    {
     "data": {
      "text/plain": [
       "['Roshar is the planet on which The Stormlight Archive is set. Roshar was ruled by a coalition of ten nations during the Heraldic Epochs. The world is regularly assaulted by Highstorms. Races include Thaylens, Parshendi, Unkalaki, Veden, Natan and Alethkar.',\n",
       " 'Makabaki are native to Azir, Siah Aimians are from Aimia, and the Sleepless are from Roshar. The Way of Kings takes place in Alethkar and Jah Keved, which divide people into classes based on eye color.',\n",
       " 'Vorinism is an order of warriors who fight against the Voidbringers. Alethkar believes that upon death the soul continues in its past role, but towards the regaining of the Tranquiline Halls. Vorinism arranged in devotaries, whose ardents aim to advance their Callings.',\n",
       " 'Surgebinding is powered by Stormlight. Surgebinding is granted to humans through bonding with a Spren. Windrunning is an ability where the wielder uses the power of Stormlight to affect gravity and adhesion. The Knights Radiant originated through spren copying the abilities which the Heralds obtained through their Honorblades.',\n",
       " 'Soulcasting is a form of magic that involves mentally communicating with an unknown source to enter Shadesmar. Voidbinding is a collection of surges that the third god of Roshar, Odium, makes available to his selected servants called Fused. Old Magic is a set of powers exclusive to the goddess Cultivation.']"
      ]
     },
     "execution_count": 45,
     "metadata": {},
     "output_type": "execute_result"
    }
   ],
   "source": [
    "seq_ans = seq.batch(batch)\n",
    "seq_ans"
   ]
  },
  {
   "cell_type": "code",
   "execution_count": 46,
   "metadata": {},
   "outputs": [
    {
     "data": {
      "text/plain": [
       "['Roshar is the planet on which The Stormlight Archive is set. Roshar was ruled by a coalition of ten nations during the Heraldic Epochs. The world is regularly assaulted by Highstorms. Races include Thaylens, Parshendi, Unkalaki, Veden, Natan and Alethkar.',\n",
       " 'Makabaki are native to Azir, Siah Aimians are from Aimia, and the Sleepless are from Roshar. The Way of Kings takes place in Alethkar and Jah Keved, which divide people into classes based on eye color.',\n",
       " 'Vorinism is an order of warriors who fight against the Voidbringers. Alethkar believes that upon death the soul continues in its past role, but towards the regaining of the Tranquiline Halls. Vorinism arranged in devotaries, whose ardents aim to advance their Callings.',\n",
       " 'Surgebinding is powered by Stormlight. Surgebinding is granted to humans through bonding with a Spren. Windrunning is an ability where the wielder uses the power of Stormlight to affect gravity and adhesion. The Knights Radiant originated through spren copying the abilities which the Heralds obtained through their Honorblades.',\n",
       " 'Soulcasting is a form of magic that involves mentally communicating with an unknown source to enter Shadesmar. Voidbinding is a collection of surges that the third god of Roshar, Odium, makes available to his selected servants called Fused. Old Magic is a set of powers exclusive to the goddess Cultivation.']"
      ]
     },
     "execution_count": 46,
     "metadata": {},
     "output_type": "execute_result"
    }
   ],
   "source": [
    "seq_ans = await seq.abatch(batch)\n",
    "seq_ans"
   ]
  },
  {
   "cell_type": "code",
   "execution_count": 100,
   "metadata": {},
   "outputs": [
    {
     "data": {
      "text/plain": [
       "AIMessage(content=\"Here's a summary of the text:\\n\\nThe Knights Radiant on Roshar have different orders, each with its own abilities and bonds with spren (small, sentient beings). These orders include Windrunners, Skybreakers, Dustbringers, Edgedancers, Truthwatchers, Lightweavers, Elsecallers, Willshapers, Stonewards, and Bondsmiths. Each order has a specific Surgebinding ability, such as manipulating gravity or transformation.\\n\\nSoulcasting is a practice that allows objects to be changed from one form to another using a device called a soulcaster powered by gems imbued with Stormlight. However, some characters are able to perform similar magic without the use of a soulcaster, known as Shadesmar, which involves mentally communicating with an unknown source.\\n\\nVoidbinding is a set of surges made available by Odium to his servants, the Fused, which allows them to manipulate objects and reality. Old Magic is a set of powers exclusive to the goddess Cultivation, which can grant boons or curses to supplicants who come to her for assistance.\\n\\nThe text also touches on the Immortal Words, a set of ideals that guide the Knights Radiant's actions, as well as the Nahel bond between humans and spren.\", response_metadata={'model': 'llama3', 'created_at': '2024-06-13T21:45:23.579235Z', 'message': {'role': 'assistant', 'content': ''}, 'done_reason': 'stop', 'done': True, 'total_duration': 30078759708, 'load_duration': 15142519583, 'prompt_eval_count': 1287, 'prompt_eval_duration': 3939956000, 'eval_count': 260, 'eval_duration': 10961777000}, id='run-9c6d5adc-503f-480c-b232-3e7a44bf554e-0')"
      ]
     },
     "execution_count": 100,
     "metadata": {},
     "output_type": "execute_result"
    }
   ],
   "source": [
    "llama_3 = ChatOllama(model=\"llama3\")\n",
    "llama_3.invoke(f\"Make a summary of following text: {text2}\")"
   ]
  },
  {
   "cell_type": "code",
   "execution_count": 41,
   "metadata": {},
   "outputs": [
    {
     "name": "stdout",
     "output_type": "stream",
     "text": [
      "content='Here are five multiple-choice questions based on the provided text:\\n\\n[\"What is the number of identical layers in the encoder?\", [\"1\", \"6\", \"3\", \"2\"], [\"6\"]]\\n\\n[\"What type of attention mechanism does each layer in the encoder have?\", [\"Multi-head self-attention\", \"Position-wise fully connected feed-forward network\", \"Simple attention\", \"Residual connection\"], [\"Multi-head self-attention\"]]\\n\\n[\"What is the purpose of the residual connections in the encoder and decoder?\", [\"To facilitate the stacking of layers\", \"To prevent positions from attending to subsequent positions\", \"To add layer normalization\", \"To implement the sub-layers themselves\"], [\"To facilitate these residual connections\"]]\\n\\n[\"What is the dimension of the output produced by each sub-layer in the model, as well as the embedding layers?\", [\"256\", \"512\", \"1024\", \"2048\"], [\"512\"]]\\n\\n[\"What modification does the decoder make to the self-attention sub-layer compared to the encoder?\", [\"It adds a third sub-layer\", \"It removes the layer normalization\", \"It prevents positions from attending to subsequent positions\", \"It increases the number of identical layers\"], [\"It prevents positions from attending to subsequent positions\"]]\\n\\nLet me know if you\\'d like me to adjust the difficulty level or create more questions!' response_metadata={'model': 'llama3:8b', 'created_at': '2024-06-13T20:51:05.403025Z', 'message': {'role': 'assistant', 'content': ''}, 'done_reason': 'stop', 'done': True, 'total_duration': 16595602709, 'load_duration': 3816923417, 'prompt_eval_count': 419, 'prompt_eval_duration': 1421931000, 'eval_count': 268, 'eval_duration': 11344594000} id='run-93a65284-bb62-4827-a9b0-da0db10597d8-0'\n"
     ]
    }
   ],
   "source": [
    "q = QuizGenerator(\"llama3:8b\")  # Well performed, formatting\n",
    "ans = q.generate_quiz(text=text)\n",
    "print(ans)"
   ]
  },
  {
   "cell_type": "code",
   "execution_count": 42,
   "metadata": {},
   "outputs": [
    {
     "name": "stdout",
     "output_type": "stream",
     "text": [
      "content='## Multiple Choice Questions\\n\\n**1. What is the primary function of the multi-head self-attention mechanism in the encoder?**\\n\\na) Attend to subsequent positions in the sequence.\\nb) Capture long-range dependencies within the sequence.\\nc) Perform positional encoding for the sequence.\\nd) Encode categorical features in the sequence.\\n\\n\\n**2. Which layer normalization technique is used in the model?**\\n\\na) Batch Normalization\\nb) Layer Normalization\\nc) Spectral Normalization\\nd) Adaptive Normalization\\n\\n\\n**3. How many sub-layers are there in each encoder and decoder layer?**\\n\\na) 1\\nb) 2\\nc) 3\\nd) 4\\n\\n\\n**4. What is the output dimension of the embedding layers and sub-layers in the model?**\\n\\na) 128\\nb) 256\\nc) 512\\nd) 1024\\n\\n\\n**5. What is the purpose of masking the self-attention sub-layer in the decoder stack?**\\n\\na) Prevent positions from attending to subsequent positions.\\nb) Capture long-range dependencies within the sequence.\\nc) Perform positional encoding for the sequence.\\nd) Encode categorical features in the sequence.' response_metadata={'model': 'gemma:7b', 'created_at': '2024-06-13T20:51:26.666182Z', 'message': {'role': 'assistant', 'content': ''}, 'done_reason': 'stop', 'done': True, 'total_duration': 21253968000, 'load_duration': 8386341000, 'prompt_eval_count': 414, 'prompt_eval_duration': 1371288000, 'eval_count': 266, 'eval_duration': 11492467000} id='run-a20fd7b8-e217-4efb-bc27-41fc93485dc9-0'\n"
     ]
    }
   ],
   "source": [
    "q = QuizGenerator(\"gemma:7b\")  # answer encoding significantly differs\n",
    "ans = q.generate_quiz(text=text)\n",
    "print(ans)"
   ]
  },
  {
   "cell_type": "code",
   "execution_count": 43,
   "metadata": {},
   "outputs": [
    {
     "name": "stdout",
     "output_type": "stream",
     "text": [
      "content=' [\"Which part of the encoder consists of a multi-head self-attention mechanism?\", [\"Decoder\", \"Embedding layers\", \"Encoder\", \"\"], [\"Encoder\"]]\\n\\n[\"How many identical layers does each the encoder and decoder have?\", [\"N = 3\", \"N = 5\", \"N = 6\", \"N = 7\"], [\"N = 6\"]]\\n\\n[\"What is added after each sub-layer in both the encoder and decoder, followed by layer normalization?\", [\"Residual connection\", \"Batch normalization\", \"Dropout\", \"\"], [\"Residual connection\"]]\\n\\n[\"Which component of the decoder allows it to attend to the output of the encoder stack?\", [\"Multi-head attention sub-layer\", \"Position-wise fully connected feed-forward network\", \"Embedding layers\", \"\"], [\"Multi-head attention sub-layer\"]]\\n\\n[\"What modification is made to the self-attention sub-layer in the decoder stack?\", [\"No modification\", \"Addition of a third sub-layer\", \"Masking of positions attending to subsequent positions\", \"None of the above\"], [\"Masking of positions attending to subsequent positions\"]]' response_metadata={'model': 'mistral:latest', 'created_at': '2024-06-13T20:51:43.968559Z', 'message': {'role': 'assistant', 'content': ''}, 'done_reason': 'stop', 'done': True, 'total_duration': 17239237708, 'load_duration': 6225949875, 'prompt_eval_count': 427, 'prompt_eval_duration': 1326765000, 'eval_count': 264, 'eval_duration': 9678640000} id='run-e3444068-dce3-4ff8-a6cb-98fce8e53568-0'\n"
     ]
    }
   ],
   "source": [
    "q = QuizGenerator(\"mistral:latest\")  # Well performed\n",
    "ans = q.generate_quiz(text=text)\n",
    "print(ans)"
   ]
  },
  {
   "cell_type": "code",
   "execution_count": 44,
   "metadata": {},
   "outputs": [
    {
     "name": "stdout",
     "output_type": "stream",
     "text": [
      "content=\" 1. What is the number of identical layers in both the encoder and decoder?\\na) 6\\nb) 5\\nc) 4\\nd) 3\\n2. Which sub-layer in the encoder has a multi-head self-attention mechanism?\\na) Feedforward network\\nb) Layer normalization\\nc) Residual connection\\nd) Multi-head self-attention mechanism\\n3. What is the output dimension of all sub-layers and embedding layers in the model?\\na) 512\\nb) 1024\\nc) 256\\nd) 768\\n4. Which sub-layer in the decoder performs multi-head attention over the output of the encoder stack?\\na) Feedforward network\\nb) Layer normalization\\nc) Residual connection\\nd) Multi-head self-attention mechanism\\n5. What is used to prevent positions from attending to subsequent positions in the decoder's self-attention sub-layer?\\na) Masking\\na) Feedforward network\\nb) Layer normalization\\nc) Residual connection\\nd) Multi-head self-attention mechanism\" response_metadata={'model': 'llava-phi3:latest', 'created_at': '2024-06-13T20:51:55.369181Z', 'message': {'role': 'assistant', 'content': ''}, 'done_reason': 'stop', 'done': True, 'total_duration': 11344789875, 'load_duration': 3865814958, 'prompt_eval_count': 434, 'prompt_eval_duration': 799760000, 'eval_count': 267, 'eval_duration': 6677052000} id='run-e840eab7-7e82-4406-a9de-5cf91c3083e0-0'\n"
     ]
    }
   ],
   "source": [
    "q = QuizGenerator(\"llava-phi3:latest\")  # answer encoding differs\n",
    "ans = q.generate_quiz(text=text)\n",
    "print(ans)"
   ]
  },
  {
   "cell_type": "code",
   "execution_count": 45,
   "metadata": {},
   "outputs": [
    {
     "name": "stdout",
     "output_type": "stream",
     "text": [
      "content='The encoder and decoder have similar architectures, but there are some differences in their sub-layers. The encoder has two sub-layers per layer, while the decoder has three sub-layers per layer. Additionally, the decoder inserts a third sub-layer that performs multi-head attention over the output of the encoder stack. This modification allows for more complex interactions between the encoder and decoder.' response_metadata={'model': 'wizard-vicuna-uncensored:13b', 'created_at': '2024-06-13T20:52:14.900894Z', 'message': {'role': 'assistant', 'content': ''}, 'done_reason': 'stop', 'done': True, 'total_duration': 19466055208, 'load_duration': 11453484083, 'prompt_eval_count': 443, 'prompt_eval_duration': 2394927000, 'eval_count': 88, 'eval_duration': 5610887000} id='run-440362b3-382a-4a80-8cec-141bec3ee7c6-0'\n"
     ]
    }
   ],
   "source": [
    "q = QuizGenerator(\"wizard-vicuna-uncensored:13b\")  # Failed\n",
    "ans = q.generate_quiz(text=text)\n",
    "print(ans)"
   ]
  },
  {
   "cell_type": "code",
   "execution_count": 46,
   "metadata": {},
   "outputs": [
    {
     "name": "stdout",
     "output_type": "stream",
     "text": [
      "content='[\"Which component(s) do(es) not exists in physical world?\", [\"Network Interphace Cart\", \"Router\", \"Quick Sort\", \"Apple\"], [\"Quick Sort\"]]\\n\\n[\"What is the output dimension of each sub-layer in the model and embedding layers?\", [\"256\", \"1024\", \"384\", \"512\"], [\"512\"]]\\n\\n[\"How many identical layers are there in both encoder and decoder?\", [\"4\", \"6\", \"8\", \"10\"], [\"6\"]]\\n\\n[\"What is the main difference between the decoder and the encoder stack?\", [\"The number of sub-layers\", \"The output dimension\", \"The type of attention mechanism\", \"The presence of a third sub-layer\"], [\"The presence of a third sub-layer\"]]' response_metadata={'model': 'openhermes:latest', 'created_at': '2024-06-13T20:52:29.778998Z', 'message': {'role': 'assistant', 'content': ''}, 'done_reason': 'stop', 'done': True, 'total_duration': 14790556458, 'load_duration': 6410437750, 'prompt_eval_count': 434, 'prompt_eval_duration': 1332665000, 'eval_count': 184, 'eval_duration': 7044893000} id='run-e29756c3-7acb-425e-8b05-6a2a79fac8e3-0'\n"
     ]
    }
   ],
   "source": [
    "q = QuizGenerator(\"openhermes:latest\")  # need to adjust answer\n",
    "ans = q.generate_quiz(text=text)\n",
    "print(ans)"
   ]
  },
  {
   "cell_type": "code",
   "execution_count": 47,
   "metadata": {},
   "outputs": [
    {
     "name": "stdout",
     "output_type": "stream",
     "text": [
      "content='1. [\"Which type of network is described in the encoder description?\", [\"Multi-head self-attention mechanism\", \"Position-wise fully connected feed-forward network\", \"Residual connection\", \"Layer normalization\"], [\"Residual connection\"]]\\n\\n2. [\"What is the purpose of the residual connections in both the encoder and decoder layers?\", [\"To add extra non-linearity to the model\", \"To facilitate easier training by preventing vanishing/exploding gradients\", \"To ensure that the predictions for position i can depend only on the known outputs at positions less than i\", \"To concatenate the output of each sub-layer with its input\"], [\"To facilitate easier training by preventing vanishing/exploding gradients\"]]\\n\\n3. [\"In the decoder, how does the multi-head attention sub-layer differ from that in the encoder?\", [\"The decoder\\'s self-attention sub-layer allows positions to attend to subsequent positions.\", \"The decoder\\'s self-attention sub-layer does not perform any attention.\", \"The decoder\\'s self-attention sub-layer performs attention over the output of the encoder stack.\", \"The decoder\\'s self-attention sub-layer is replaced by a fully connected feed-forward network.\"], [\"The decoder\\'s self-attention sub-layer performs attention over the output of the encoder stack.\"]\\n\\n4. [\"What mechanism ensures that the predictions for position i in the decoder can depend only on the known outputs at positions less than i?\", [\"Layer normalization\", \"Residual connections\", \"Masking of the self-attention sub-layer\", \"Offsetting the output embeddings by one position\"], [\"Masking of the self-attention sub-layer\"]]\\n\\n5. [\"What is the dimension of the outputs from each sub-layer and embedding layers in both the encoder and decoder?\", [\"The outputs are scaled down to 512 dimensions.\", \"The outputs are expanded to a custom dimension specific to the model.\", \"The outputs maintain their original dimension until passing through a sub-layer.\", \"The outputs are processed by a dimensionality reduction technique.\"], [\"The outputs are scaled down to 512 dimensions.\"]]\\n\\n6. [\"How many layers does both the encoder and decoder have?\", [\"Four layers\", \"Seven layers\", \"Six layers\", \"Eight layers\"], [\"Six layers\"]]\\n\\n7. [\"What is the function of layer normalization in the model?\", [\"To scale the outputs of each sub-layer to a fixed range.\", \"To ensure that the outputs of each sub-layer have zero mean and unit variance.\", \"To normalize the inputs before they are passed through the residual connections.\", \"To perform element-wise scaling and shifting of the data.\"], [\"To scale the outputs of each sub-layer to a fixed range.\"]]\\n\\n8. [\"Which component in the model is responsible for the position-wise fully connected feed-forward network?\", [\"Multi-head self-attention mechanism\", \"Residual connection\", \"Simple fully connected feed-forward network\", \"Layer normalization\"], [\"Simple fully connected feed-forward network\"]]' response_metadata={'model': 'wizardlm2:latest', 'created_at': '2024-06-13T20:53:03.266782Z', 'message': {'role': 'assistant', 'content': ''}, 'done_reason': 'stop', 'done': True, 'total_duration': 33474166917, 'load_duration': 5858016834, 'prompt_eval_count': 429, 'prompt_eval_duration': 1438895000, 'eval_count': 693, 'eval_duration': 26174759000} id='run-32828003-161d-4aac-a6ab-89525d82a65c-0'\n"
     ]
    }
   ],
   "source": [
    "q = QuizGenerator(\"wizardlm2:latest\")  # Well performed, formatting\n",
    "ans = q.generate_quiz(text=text)\n",
    "print(ans)"
   ]
  },
  {
   "cell_type": "code",
   "execution_count": 48,
   "metadata": {},
   "outputs": [
    {
     "name": "stdout",
     "output_type": "stream",
     "text": [
      "content='[\"What is the purpose of residual connections in the encoder and decoder layers?\", [\"To facilitate the flow of information between layers\", \"To prevent positions from attending to subsequent positions\", \"To ensure that predictions for position i can depend only on known outputs at positions less than i\", \"\"], [\"To facilitate the flow of information between layers\"]]\\n[\"What is the primary difference between the encoder and decoder stacks in terms of sub-layers?\", [\"The decoder stack has an additional sub-layer that performs multi-head attention over the output of the encoder stack.\", \"The self-attention sub-layer in the decoder stack is modified to prevent positions from attending to subsequent positions.\", \"Both the encoder and decoder stacks have the same number of identical layers with two sub-layers each.\", \"\"], [\"The decoder stack has an additional sub-layer that performs multi-head attention over the output of the encoder stack.\"]' response_metadata={'model': 'nous-hermes2:latest', 'created_at': '2024-06-13T20:53:25.210828Z', 'message': {'role': 'assistant', 'content': ''}, 'done_reason': 'stop', 'done': True, 'total_duration': 21878517125, 'load_duration': 8913903417, 'prompt_eval_count': 434, 'prompt_eval_duration': 1988089000, 'eval_count': 201, 'eval_duration': 10970038000} id='run-7f8c3eff-809d-478d-b815-844114ec65f3-0'\n"
     ]
    }
   ],
   "source": [
    "q = QuizGenerator(\"nous-hermes2:latest\")  # Quite long possible answer\n",
    "ans = q.generate_quiz(text=text)\n",
    "print(ans)"
   ]
  },
  {
   "cell_type": "code",
   "execution_count": 49,
   "metadata": {},
   "outputs": [
    {
     "name": "stdout",
     "output_type": "stream",
     "text": [
      "content='1. Which component in the Transformer model does not attend to subsequent positions during self-attention?\\n   a) Encoder sub-layer\\n   b) Decoder sub-layer\\n   c) Both encoder and decoder sub-layers attend equally\\n   d) Neither encoder nor decoder sub-layers attend to subsequent positions\\n\\n2. What is the output dimension of all sub-layers in the Transformer model, including embedding layers?\\n   a) 128\\n   b) 256\\n   c) 512\\n   d) 1024\\n\\n3. How many identical layers are there in both the encoder and decoder stacks of the Transformer model?\\n   a) 3\\n   b) 4\\n   c) 5\\n   d) N = 6, where N is the number of identical layers in each stack\\n\\n4. Which sub-layer in the decoder stack performs multi-head attention over the output of the encoder stack?\\n   a) The first sub-layer\\n   b) The second sub-layer\\n   c) The third sub-layer\\n   d) None of the above, all sub-layers are identical in both stacks\\n\\n5. What technique is employed around each sub-layer in the Transformer model to facilitate residual connections?\\n   a) Max pooling\\n   b) Average pooling\\n   c) Layer normalization followed by residual connection\\n   d) Batch normalization followed by residual connection' response_metadata={'model': 'zephyr:latest', 'created_at': '2024-06-13T20:53:45.716275Z', 'message': {'role': 'assistant', 'content': ''}, 'done_reason': 'stop', 'done': True, 'total_duration': 20445225417, 'load_duration': 6193013542, 'prompt_eval_count': 448, 'prompt_eval_duration': 1356241000, 'eval_count': 330, 'eval_duration': 12886216000} id='run-c4dc627f-b0d5-4453-8fb0-e57b403a2507-0'\n"
     ]
    }
   ],
   "source": [
    "q = QuizGenerator(\"zephyr:latest\")  # answer encoding differs, does not provide answer\n",
    "ans = q.generate_quiz(text=text)\n",
    "print(ans)"
   ]
  },
  {
   "cell_type": "code",
   "execution_count": 50,
   "metadata": {},
   "outputs": [
    {
     "name": "stdout",
     "output_type": "stream",
     "text": [
      "content=' Which of the following subjects could fly?\\n[\"Cat\", \"Airplane\", \"Coffee\"]\\n[\"Airplane\"]\\n\\nWhich component(s) do(es) not exists in physical world?\\n[\"Network Interphace Cart\", \"Router\", \"Quick Sort\", \"Apple\"]\\n[\"Quick Sort\"]' response_metadata={'model': 'mistral-openorca:latest', 'created_at': '2024-06-13T20:53:56.112432Z', 'message': {'role': 'assistant', 'content': ''}, 'done_reason': 'stop', 'done': True, 'total_duration': 10347074083, 'load_duration': 6386909750, 'prompt_eval_count': 436, 'prompt_eval_duration': 1361264000, 'eval_count': 68, 'eval_duration': 2589999000} id='run-cc4894b5-bc24-44f5-a095-59d6de1bb56e-0'\n"
     ]
    }
   ],
   "source": [
    "q = QuizGenerator(\"mistral-openorca:latest\")  # Failed\n",
    "ans = q.generate_quiz(text=text)\n",
    "print(ans)"
   ]
  },
  {
   "cell_type": "markdown",
   "metadata": {},
   "source": [
    "### Test with long text (~4500 symbols)"
   ]
  },
  {
   "cell_type": "code",
   "execution_count": 51,
   "metadata": {},
   "outputs": [
    {
     "name": "stdout",
     "output_type": "stream",
     "text": [
      "content='Here are some multiple-choice questions based on the provided text:\\n\\n**Question 1: What is a Full Lashing?**\\n\\nA) A type of magic that creates an unbreakable bond between two objects.\\nB) A type of magic that causes an object to have a stronger gravitational pull.\\nC) A type of magic that allows for teleportation.\\nD) A type of magic that allows for the manipulation of time.\\n\\nAnswer: A) A type of magic that creates an almost unbreakable bond between two objects until the Stormlight dissipates.\\n\\n**Question 2: What is a Reverse Lashing?**\\n\\nA) A type of magic that causes an object to have a weaker gravitational pull.\\nB) A type of magic that allows for teleportation.\\nC) A type of magic that creates an unbreakable bond between two objects.\\nD) A type of magic that allows for the manipulation of time.\\n\\nAnswer: B) A type of magic that causes an object to have a much stronger gravitational pull, causing other objects to be pulled towards it.\\n\\n**Question 3: What is Soulcasting?**\\n\\nA) A practice where objects are changed from one form to another.\\nB) A type of magic that allows for teleportation.\\nC) A type of magic that manipulates the Surges of Adhesion and Gravitation.\\nD) A type of magic that allows for the manipulation of time.\\n\\nAnswer: A) A practice where objects are changed from one form to another.\\n\\n**Question 4: What is Shadesmar?**\\n\\nA) A world made from tiny glass beads.\\nB) A Cognitive Realm connecting all the worlds in the Cosmere.\\nC) A type of magic that allows for teleportation.\\nD) A type of magic that manipulates the Surges of Adhesion and Gravitation.\\n\\nAnswer: B) A Cognitive Realm connecting all the worlds in the Cosmere.\\n\\n**Question 5: What is Voidbinding?**\\n\\nA) A collection of surges made available to the Knights Radiant.\\nB) A type of magic associated with Odium, the third god of Roshar.\\nC) A practice where objects are changed from one form to another.\\nD) A type of magic that allows for teleportation.\\n\\nAnswer: B) A type of magic associated with Odium, the third god of Roshar.' response_metadata={'model': 'llama3:8b', 'created_at': '2024-06-13T21:03:33.181629Z', 'message': {'role': 'assistant', 'content': ''}, 'done_reason': 'stop', 'done': True, 'total_duration': 32633375250, 'load_duration': 7315056458, 'prompt_eval_count': 1376, 'prompt_eval_duration': 4475487000, 'eval_count': 476, 'eval_duration': 20800200000} id='run-15fb032f-4f0b-4be1-8b1b-b16908ef5fb1-0'\n"
     ]
    }
   ],
   "source": [
    "q = QuizGenerator(\n",
    "    \"llama3:8b\"\n",
    ")  # Formatting issues, answers have more details that questions\n",
    "ans = q.generate_quiz(text=text2)\n",
    "print(ans)"
   ]
  },
  {
   "cell_type": "code",
   "execution_count": 52,
   "metadata": {},
   "outputs": [
    {
     "name": "stdout",
     "output_type": "stream",
     "text": [
      "content=' Surgebinding is a set of ten magical systems in the cosmere world of Roshar, derived from the Shards of Honor and Cultivation. Each system revolves around binding two natural \"Surges,\" such as Gravity and Adhesion, to a Surgebinder\\'s will using Stormlight. The ability is granted through bonding with a Spren, an elemental spirit native to Roshar. There are ten branches of Surgebinding, including Windrunning and the powers of Lightweavers (Soulcasting and Illumination).\\n\\nWindrunning is an ability that manipulates gravity and adhesion using Stormlight. It has three methods: Basic Lashing changes direction of gravitational pull for individuals; Full Lashing creates almost unbreakable bonds between objects; Reverse Lashing causes an object to have a much stronger gravitational pull.\\n\\nThe Knights Radiant gained their powers through bonding with Spren, who share a Nahel bond with humans. The Knights Radiant follow the Five Ideals, or Immortal Words, which vary for each order except Lightweavers, who must admit truths to themselves. There are ten orders of the Knights Radiant, including Windrunners, Skybreakers, Dustbringers, Edgedancers, Truthwatchers, and Lightweavers.\\n\\nSoulcasting is a practice that transforms objects from one form to another using a soulcaster powered by Stormlight-imbued gems. It has risks of damaging or destroying the gem with each use. Jasnah Kholin and Shallan can perform magic similar to Soulcasting without physical contact or a soulcaster, by entering a realm called Shadesmar.\\n\\nVoidbinding is a magical system exclusive to the god Odium, granting his chosen servants access to nine Surges, including Gravitation, Division, Abrasion, Progression, Illumination, Transformation, Transportation, Cohesion, and Tension. Fused, Odium\\'s servants, cannot access Adhesion. Voidbinding also includes other magical abilities associated with Odium.\\n\\nOld Magic is a set of powers exclusive to the goddess Cultivation, primarily granted through her powerful spren, the Nightwatcher. It involves granting boons and curses to supplicants, with each boon offset by a mandatory applied curse. The effects of Old Magic can range from mild to fully debilitating.' response_metadata={'model': 'mistral:latest', 'created_at': '2024-06-13T21:04:06.824787Z', 'message': {'role': 'assistant', 'content': ''}, 'done_reason': 'stop', 'done': True, 'total_duration': 33538044250, 'load_duration': 6202243125, 'prompt_eval_count': 1689, 'prompt_eval_duration': 5213292000, 'eval_count': 528, 'eval_duration': 22090558000} id='run-a8f317f0-1af6-4198-88ba-ea4fe5f784a0-0'\n"
     ]
    }
   ],
   "source": [
    "q = QuizGenerator(\"mistral:latest\")  # Failed\n",
    "ans = q.generate_quiz(text=text2)\n",
    "print(ans)"
   ]
  },
  {
   "cell_type": "code",
   "execution_count": 53,
   "metadata": {},
   "outputs": [
    {
     "name": "stdout",
     "output_type": "stream",
     "text": [
      "content=' It seems you\\'ve provided a comprehensive overview of the magic systems within \"The Stormlight Archive\" by Brandon Sanderson, particularly focusing on Surgebinding and its relation to the Knights Radiant, as well as other forms of magic like Soulcasting, Shadesmar, Voidbinding, and Old Magic. These systems are integral to the world of Roshar within the Cosmere, a universe where different planets have their own unique systems of magic that are often interconnected.\\n\\nHere\\'s a brief summary and some additional details:\\n\\n**Surgebinding:** This is one of the two primary forms of magic on Roshar, derived from the Shards Honor and Cultivation. Surgebinders harness Stormlight to manipulate various natural forces or \"Surges.\" Each Surge can be combined with another, allowing for a wide variety of abilities. The ten Surges are:\\n- Gravitation (affects weight)\\n- Adhesion (controls sticking and sliding)\\n- Division (splits objects)\\n- Abrasion (erodes or hardens surfaces)\\n- Progression (accelerates or decelerates growth, aging, etc.)\\n- Illumination (manipulates light)\\n- Transformation (changes the form of matter)\\n- Transportation (teleportation)\\n- Cohesion (solidifies or liquefies objects)\\n- Tension (increases or decreases the tension within an object)\\n\\n**Knights Radiant:** These are the order of warriors who once wielded Surgebinding. Each order is associated with a specific set of Ideals and a unique type of spren as their bond. The orders include:\\n- Windrunners (Transportation)\\n- Skybreakers (Division)\\n- Dustbringers (Abrasion)\\n- Lightweavers (Illumination)\\n- Truthwatchers (Progression)\\n- Stonewards (Cohesion)\\n- Elsecallers (Transportation, but also Cohesion in a different sense)\\n- Order of Contemplatives (not warriors, focus on research and meditation)\\n\\n**Soulcasting:** This is a form of magic that allows users to transform matter into another form. It requires a gem imbued with Stormlight and a soulcaster device. The transformation can be as simple as melting ice or as complex as creating an object from raw matter. However, it\\'s a delicate process, and the gems can shatter if used improperly.\\n\\n**Shadesmar:** This is a Cognitive Realm that connects all the worlds in the Cosmere. It\\'s made of tiny glass beads and serves as a pathway for travel between worlds. In \"The Stormlight Archive,\" accessing Shadesmar allows characters to perform magic similar to Soulcasting without the need for a soulcaster.\\n\\n**Voidbinding:** This is the form of magic used by the Fused, servants of the god Odium. It\\'s similar to Surgebinding but with more limited and often darker capabilities. Each Fused can only access one surge, and they are often twisted to serve Odium\\'s will.\\n\\n**Old Magic:** This is the magic associated with the goddess Cultivation, particularly through her powerful spren, the Nightwatcher. It involves boons and curses that are often paradoxical or counterintuitive, reflecting Cultivation\\'s whimsical and unpredictable nature.\\n\\nThese magic systems are deeply intertwined with the lore, characters, and plot of \"The Stormlight Archive,\" making it a rich and complex fantasy world. Sanderson\\'s use of these systems is consistent across his Cosmere books, allowing for crossover elements and shared universe connections that enrich the reading experience.' response_metadata={'model': 'wizardlm2:latest', 'created_at': '2024-06-13T21:04:53.209709Z', 'message': {'role': 'assistant', 'content': ''}, 'done_reason': 'stop', 'done': True, 'total_duration': 46331025458, 'load_duration': 5868264375, 'prompt_eval_count': 1691, 'prompt_eval_duration': 5316004000, 'eval_count': 829, 'eval_duration': 35119759000} id='run-41e937f4-fa2f-44fa-ab3c-c8051dd9a97e-0'\n"
     ]
    }
   ],
   "source": [
    "q = QuizGenerator(\n",
    "    \"wizardlm2:latest\"\n",
    ")  # Lost the task detail (to create quizz). Good summary\n",
    "ans = q.generate_quiz(text=text2)\n",
    "print(ans)"
   ]
  },
  {
   "cell_type": "code",
   "execution_count": 54,
   "metadata": {},
   "outputs": [
    {
     "name": "stdout",
     "output_type": "stream",
     "text": [
      "content=\"## Summary of the Excerpt:\\n\\nThis excerpt covers several aspects of magic in the Cosmere universe:\\n\\n**Surgebinding:**\\n\\n* A system of magic used by the Knights Radiant, allowing them to manipulate various physical forces.\\n* Different orders have different Surges they specialize in.\\n* Sylphrena and Pattern are examples of Surgebinders bonded to Honorspren and Liespren respectively.\\n\\n**Soulcasting:**\\n\\n* A practice of transforming objects from one form to another.\\n* Requires a soulcaster powered by Stormlight gems.\\n* Shallan and Jasnah are skilled Soulcasters.\\n\\n**Shadesmar:**\\n\\n* A Cognitive Realm accessible through mental communication with an unknown source.\\n* Allows manipulation of objects using Stormlight energy.\\n* Hoid is particularly adept at using Shadesmar.\\n\\n**Voidbinding:**\\n\\n* A system of magic used by Odium's followers, granting them access to various magical abilities.\\n* Each follower can only access a single surge from a list of nine.\\n\\n**Old Magic:**\\n\\n* A mysterious set of powers exclusive to the goddess Cultivation.\\n* Primarily involves boons and curses bestowed by her powerful spren, the Nightwatcher.\\n\\n\\n## Key Concepts:\\n\\n* **Surges:** Fundamental forces that can be manipulated by magic users.\\n* **Stormlight:** A mystical energy source that fuels various magical abilities.\\n* **Cognitive Realm:** A mental plane where ideas and concepts exist in physical form.\\n* **Fused:** Servants of Odium who can access Voidbinding magic.\\n* **Nightwatcher:** A powerful spren associated with Cultivation and the Old Magic.\\n\\n\\n## Additional Notes:\\n\\n* The excerpt provides detailed information about the different orders of Knights Radiant and their associated Surges.\\n* Soulcasting and the abilities of Shallan and Jasnah are highlighted as significant magical practices.\\n* The existence of Shadesmar and its connection to the Cosmere are briefly mentioned.\\n* The mysterious nature of the Old Magic and the Nightwatcher's influence are emphasized.\" response_metadata={'model': 'gemma:7b', 'created_at': '2024-06-13T21:05:26.114661Z', 'message': {'role': 'assistant', 'content': ''}, 'done_reason': 'stop', 'done': True, 'total_duration': 32886581791, 'load_duration': 8395685750, 'prompt_eval_count': 1177, 'prompt_eval_duration': 3909617000, 'eval_count': 419, 'eval_duration': 20546376000} id='run-3b1e2af2-fe7a-4f89-8bc2-6810b48fc0d4-0'\n"
     ]
    }
   ],
   "source": [
    "q = QuizGenerator(\n",
    "    \"gemma:7b\"\n",
    ")  # Failed to create a quiz. answer encoding significantly differs. High-Medium summary quaility\n",
    "ans = q.generate_quiz(text=text2)\n",
    "print(ans)"
   ]
  },
  {
   "cell_type": "code",
   "execution_count": 55,
   "metadata": {},
   "outputs": [
    {
     "name": "stdout",
     "output_type": "stream",
     "text": [
      "content=\" Death. They. Alive. The type. The world.\\n, a new life. It' Thea. The is the end of theirs. Thesear. Briefs. The in-life. Theirs. The as it. There, and the Shape, but to its Hollow, and the Vulant, and the dead, and Death, and the different.\\n a world, ands, and the world, which of theirs. Aly, thoughs, or the world. They's. Itvets, they, and as itng. The-life, but, and the Shades.\" response_metadata={'model': 'llava-phi3:latest', 'created_at': '2024-06-13T21:05:41.21455Z', 'message': {'role': 'assistant', 'content': ''}, 'done_reason': 'stop', 'done': True, 'total_duration': 15057990417, 'load_duration': 3922326792, 'prompt_eval_count': 2814, 'prompt_eval_duration': 6245256000, 'eval_count': 134, 'eval_duration': 4879856000} id='run-e98e805d-b2d2-47e6-87ca-927872cc2131-0'\n"
     ]
    }
   ],
   "source": [
    "q = QuizGenerator(\"llava-phi3:latest\")  # Failed totally\n",
    "ans = q.generate_quiz(text=text2)\n",
    "print(ans)"
   ]
  },
  {
   "cell_type": "code",
   "execution_count": 56,
   "metadata": {},
   "outputs": [
    {
     "name": "stdout",
     "output_type": "stream",
     "text": [
      "content=\"In summary, the magic systems in Brandon Sanderson's Cosmere universe include:\\n\\n1. Surgebinding: A group of ten magic systems stemming from Honor and Cultivation, powered by Stormlight and granted to humans through bonding with Spren. The branches include Windrunning (manipulating gravity and adhesion), Lightweaving (transformation and illusion), and Soulcasting (changing objects into different forms).\\n\\n2. Voidbinding: A set of magic systems available to Odium's selected servants, called Fused, who can only access a single surge from a list of nine. Adhesion is considered exclusive to Honor by the Fused.\\n\\n3. Old Magic: Exclusive to Cultivation and granted through boons and curses from her powerful spren, the Nightwatcher. Its effects are not always understood by human requests.\\n\\nAdditionally, Shadesmar is a Cognitive Realm connecting all worlds in the Cosmere, allowing for magic that does not require physical contact with objects or soulcasters. Hoid, a recurring character in Sanderson's works, is particularly skilled at using this realm to move between worlds.\" response_metadata={'model': 'zephyr:latest', 'created_at': '2024-06-13T21:06:04.020482Z', 'message': {'role': 'assistant', 'content': ''}, 'done_reason': 'stop', 'done': True, 'total_duration': 22790417625, 'load_duration': 5975350083, 'prompt_eval_count': 1710, 'prompt_eval_duration': 5632855000, 'eval_count': 255, 'eval_duration': 11168485000} id='run-f6a05f1c-0617-40e2-8a18-634128ffaa69-0'\n"
     ]
    }
   ],
   "source": [
    "q = QuizGenerator(\"zephyr:latest\")  # Failed to create a quiz. Medium summary quaility\n",
    "ans = q.generate_quiz(text=text2)\n",
    "print(ans)"
   ]
  },
  {
   "cell_type": "code",
   "execution_count": 59,
   "metadata": {},
   "outputs": [
    {
     "name": "stdout",
     "output_type": "stream",
     "text": [
      "content='Surgebinding refers to a group of ten magic systems that stem from Honor and Cultivation, two of the three Shards of Adonalsium present on Roshar. Each of Surgebinding\\'s ten systems revolves around \\'binding\\' two natural \\'Surges,\\' for instance Gravity and Adhesion, to the Surgebinder\\'s will. Surgebinding is powered by Stormlight, and the ability is granted to humans through bonding with a Spren, a type of elemental spirit native to Roshar. There are ten Surgebinding\\'s branches, with Windrunning and powers of Lightweavers (Transformation - Soulcasting and Illumination - illusions), described most thoroughly.\\nWindrunning is an ability where the wielder uses the power of Stormlight to affect gravity and adhesion. It is described in three methods known as the \"Three Lashings\". A Basic Lashing changes the direction of gravitational pull for an individual (causing the person to be pulled towards another object or direction instead of towards the center of the planet). A Full Lashing is described as creating an almost[57] unbreakable bond between two objects until the Stormlight dissipates. A Reverse Lashing causes an object to have a much stronger gravitational pull, causing other objects to be pulled towards it.[57]\\nThe Knights Radiant\\nThe Knights Radiant originated through spren copying the abilities which the Heralds obtained through their Honorblades. The Knights Radiant gained power through spren by creating a bond with them called the Nahel bond. The spren sentience while giving the human Stormlight-based magic. There are ten Surgebinding\\'s branches, but only some of them are described in detail.' response_metadata={'model': 'openhermes:latest', 'created_at': '2024-06-13T21:13:28.658796Z', 'message': {'role': 'assistant', 'content': ''}, 'done_reason': 'stop', 'done': True, 'total_duration': 27017483042, 'load_duration': 5870532625, 'prompt_eval_count': 1696, 'prompt_eval_duration': 5518798000, 'eval_count': 379, 'eval_duration': 15614942000} id='run-ebd9c2d8-c566-4058-8018-0ddf6c2c1e47-0'\n"
     ]
    }
   ],
   "source": [
    "q = QuizGenerator(\"openhermes:latest\")  # Failed Quiz Generation. High-Medium Summary\n",
    "ans = q.generate_quiz(text=text2)\n",
    "print(ans)"
   ]
  },
  {
   "cell_type": "code",
   "execution_count": 60,
   "metadata": {},
   "outputs": [
    {
     "name": "stdout",
     "output_type": "stream",
     "text": [
      "content='In addition to Surgebinding and Voidbinding, there is also a form of magic called Old Magic, which is associated with the goddess Cultivation. This type of magic is primarily granted through the Nightwatcher spren, who can grant boons and curses to those who seek her assistance. The effects of these boons and curses can vary greatly in severity, depending on how they are worded and interpreted by the Nightwatcher. Old Magic is also associated with certain powers that the goddess Cultivation possesses, but these have not been fully explored or explained in the series yet.' response_metadata={'model': 'nous-hermes2:latest', 'created_at': '2024-06-13T21:13:51.576886Z', 'message': {'role': 'assistant', 'content': ''}, 'done_reason': 'stop', 'done': True, 'total_duration': 22852415500, 'load_duration': 7123565333, 'prompt_eval_count': 1696, 'prompt_eval_duration': 7873254000, 'eval_count': 129, 'eval_duration': 7838075000} id='run-e7de5e57-ab63-42b4-872a-b5a130398a2d-0'\n"
     ]
    }
   ],
   "source": [
    "q = QuizGenerator(\"nous-hermes2:latest\")  # Failed totally\n",
    "ans = q.generate_quiz(text=text2)\n",
    "print(ans)"
   ]
  }
 ],
 "metadata": {
  "kernelspec": {
   "display_name": "caps",
   "language": "python",
   "name": "python3"
  },
  "language_info": {
   "codemirror_mode": {
    "name": "ipython",
    "version": 3
   },
   "file_extension": ".py",
   "mimetype": "text/x-python",
   "name": "python",
   "nbconvert_exporter": "python",
   "pygments_lexer": "ipython3",
   "version": "3.11.9"
  }
 },
 "nbformat": 4,
 "nbformat_minor": 2
}
